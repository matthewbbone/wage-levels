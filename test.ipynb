{
 "cells": [
  {
   "cell_type": "code",
   "execution_count": 89,
   "id": "ad1606fd",
   "metadata": {},
   "outputs": [],
   "source": [
    "import pandas as pd\n",
    "import numpy as np\n",
    "import re\n",
    "import plotly.graph_objects as go\n",
    "from sklearn.metrics import r2_score"
   ]
  },
  {
   "cell_type": "code",
   "execution_count": 90,
   "id": "3b211aaa",
   "metadata": {},
   "outputs": [
    {
     "data": {
      "text/plain": [
       "<Axes: >"
      ]
     },
     "metadata": {},
     "output_type": "display_data"
    },
    {
     "data": {
      "image/png": "[encoded data removed]",
      "text/plain": [
       "<Figure size 640x480 with 1 Axes>"
      ]
     },
     "metadata": {},
     "output_type": "display_data"
    }
   ],
   "source": [
    "oes_df = pd.read_excel(\"MSA_M2019_dl.xlsx\")\n",
    "oes_df = oes_df[oes_df[\"o_group\"] == \"major\"]\n",
    "oes_df = oes_df[[\"area_title\", \"occ_title\", \"occ_code\", \"a_mean\"]].drop_duplicates()\n",
    "resid_df = pd.read_pickle(\"Run1_2019.pkl\")\n",
    "display(resid_df[\"n_ads\"].hist())\n",
    "resid_df = resid_df[resid_df[\"id\"].map(lambda x: \"soc\" in x)]\n",
    "resid_df = resid_df[[\"city_state\", \"id\", \"loc_mean_salary\"]]"
   ]
  },
  {
   "cell_type": "code",
   "execution_count": 91,
   "id": "10ae09ee",
   "metadata": {},
   "outputs": [
    {
     "data": {
      "text/html": [
       "<div>\n",
       "<style scoped>\n",
       "    .dataframe tbody tr th:only-of-type {\n",
       "        vertical-align: middle;\n",
       "    }\n",
       "\n",
       "    .dataframe tbody tr th {\n",
       "        vertical-align: top;\n",
       "    }\n",
       "\n",
       "    .dataframe thead th {\n",
       "        text-align: right;\n",
       "    }\n",
       "</style>\n",
       "<table border=\"1\" class=\"dataframe\">\n",
       "  <thead>\n",
       "    <tr style=\"text-align: right;\">\n",
       "      <th></th>\n",
       "      <th>city_state</th>\n",
       "      <th>id</th>\n",
       "      <th>loc_mean_salary</th>\n",
       "      <th>clean_loc</th>\n",
       "      <th>map_loc</th>\n",
       "      <th>soc_code</th>\n",
       "    </tr>\n",
       "  </thead>\n",
       "  <tbody>\n",
       "    <tr>\n",
       "      <th>0</th>\n",
       "      <td>new york NY</td>\n",
       "      <td>soc_43</td>\n",
       "      <td>49468.0</td>\n",
       "      <td>new york</td>\n",
       "      <td>new york newark jersey city</td>\n",
       "      <td>43</td>\n",
       "    </tr>\n",
       "    <tr>\n",
       "      <th>1</th>\n",
       "      <td>los angeles CA</td>\n",
       "      <td>soc_43</td>\n",
       "      <td>48248.0</td>\n",
       "      <td>los angeles</td>\n",
       "      <td>los angeles long beach anaheim</td>\n",
       "      <td>43</td>\n",
       "    </tr>\n",
       "    <tr>\n",
       "      <th>2</th>\n",
       "      <td>houston TX</td>\n",
       "      <td>soc_43</td>\n",
       "      <td>40935.0</td>\n",
       "      <td>houston</td>\n",
       "      <td>houston the woodlands sugar land</td>\n",
       "      <td>43</td>\n",
       "    </tr>\n",
       "    <tr>\n",
       "      <th>3</th>\n",
       "      <td>chicago IL</td>\n",
       "      <td>soc_43</td>\n",
       "      <td>51436.0</td>\n",
       "      <td>chicago</td>\n",
       "      <td>chicago naperville elgin</td>\n",
       "      <td>43</td>\n",
       "    </tr>\n",
       "    <tr>\n",
       "      <th>4</th>\n",
       "      <td>dallas TX</td>\n",
       "      <td>soc_43</td>\n",
       "      <td>46309.0</td>\n",
       "      <td>dallas</td>\n",
       "      <td>dallas fort worth arlington</td>\n",
       "      <td>43</td>\n",
       "    </tr>\n",
       "  </tbody>\n",
       "</table>\n",
       "</div>"
      ],
      "text/plain": [
       "       city_state      id  loc_mean_salary    clean_loc  \\\n",
       "0     new york NY  soc_43          49468.0     new york   \n",
       "1  los angeles CA  soc_43          48248.0  los angeles   \n",
       "2      houston TX  soc_43          40935.0      houston   \n",
       "3      chicago IL  soc_43          51436.0      chicago   \n",
       "4       dallas TX  soc_43          46309.0       dallas   \n",
       "\n",
       "                            map_loc  soc_code  \n",
       "0       new york newark jersey city        43  \n",
       "1    los angeles long beach anaheim        43  \n",
       "2  houston the woodlands sugar land        43  \n",
       "3          chicago naperville elgin        43  \n",
       "4       dallas fort worth arlington        43  "
      ]
     },
     "metadata": {},
     "output_type": "display_data"
    },
    {
     "data": {
      "text/html": [
       "<div>\n",
       "<style scoped>\n",
       "    .dataframe tbody tr th:only-of-type {\n",
       "        vertical-align: middle;\n",
       "    }\n",
       "\n",
       "    .dataframe tbody tr th {\n",
       "        vertical-align: top;\n",
       "    }\n",
       "\n",
       "    .dataframe thead th {\n",
       "        text-align: right;\n",
       "    }\n",
       "</style>\n",
       "<table border=\"1\" class=\"dataframe\">\n",
       "  <thead>\n",
       "    <tr style=\"text-align: right;\">\n",
       "      <th></th>\n",
       "      <th>area_title</th>\n",
       "      <th>occ_title</th>\n",
       "      <th>occ_code</th>\n",
       "      <th>a_mean</th>\n",
       "      <th>clean_loc</th>\n",
       "      <th>map_loc</th>\n",
       "      <th>soc_code</th>\n",
       "    </tr>\n",
       "  </thead>\n",
       "  <tbody>\n",
       "    <tr>\n",
       "      <th>1</th>\n",
       "      <td>Abilene, TX</td>\n",
       "      <td>Management Occupations</td>\n",
       "      <td>11-0000</td>\n",
       "      <td>90500</td>\n",
       "      <td>abilene</td>\n",
       "      <td>abilene</td>\n",
       "      <td>11</td>\n",
       "    </tr>\n",
       "    <tr>\n",
       "      <th>18</th>\n",
       "      <td>Abilene, TX</td>\n",
       "      <td>Business and Financial Operations Occupations</td>\n",
       "      <td>13-0000</td>\n",
       "      <td>67520</td>\n",
       "      <td>abilene</td>\n",
       "      <td>abilene</td>\n",
       "      <td>13</td>\n",
       "    </tr>\n",
       "    <tr>\n",
       "      <th>36</th>\n",
       "      <td>Abilene, TX</td>\n",
       "      <td>Computer and Mathematical Occupations</td>\n",
       "      <td>15-0000</td>\n",
       "      <td>62970</td>\n",
       "      <td>abilene</td>\n",
       "      <td>abilene</td>\n",
       "      <td>15</td>\n",
       "    </tr>\n",
       "    <tr>\n",
       "      <th>44</th>\n",
       "      <td>Abilene, TX</td>\n",
       "      <td>Architecture and Engineering Occupations</td>\n",
       "      <td>17-0000</td>\n",
       "      <td>72440</td>\n",
       "      <td>abilene</td>\n",
       "      <td>abilene</td>\n",
       "      <td>17</td>\n",
       "    </tr>\n",
       "    <tr>\n",
       "      <th>54</th>\n",
       "      <td>Abilene, TX</td>\n",
       "      <td>Life, Physical, and Social Science Occupations</td>\n",
       "      <td>19-0000</td>\n",
       "      <td>58360</td>\n",
       "      <td>abilene</td>\n",
       "      <td>abilene</td>\n",
       "      <td>19</td>\n",
       "    </tr>\n",
       "  </tbody>\n",
       "</table>\n",
       "</div>"
      ],
      "text/plain": [
       "     area_title                                       occ_title occ_code  \\\n",
       "1   Abilene, TX                          Management Occupations  11-0000   \n",
       "18  Abilene, TX   Business and Financial Operations Occupations  13-0000   \n",
       "36  Abilene, TX           Computer and Mathematical Occupations  15-0000   \n",
       "44  Abilene, TX        Architecture and Engineering Occupations  17-0000   \n",
       "54  Abilene, TX  Life, Physical, and Social Science Occupations  19-0000   \n",
       "\n",
       "   a_mean clean_loc  map_loc  soc_code  \n",
       "1   90500   abilene  abilene        11  \n",
       "18  67520   abilene  abilene        13  \n",
       "36  62970   abilene  abilene        15  \n",
       "44  72440   abilene  abilene        17  \n",
       "54  58360   abilene  abilene        19  "
      ]
     },
     "metadata": {},
     "output_type": "display_data"
    }
   ],
   "source": [
    "def clean_loc(text): \n",
    "    text = \" \".join(text.split(\" \")[:-1])\n",
    "    text = text.replace(\"-\", \" \")\n",
    "    text = re.sub(r\"[^a-zA-Z0-9 ]\", \"\", text)\n",
    "    return text.lower().strip()\n",
    "\n",
    "def city_map(val, vals):\n",
    "\n",
    "    for v in vals:\n",
    "        if val in v:\n",
    "            return v\n",
    "\n",
    "resid_df[\"clean_loc\"] = resid_df[\"city_state\"].map(clean_loc)\n",
    "oes_df[\"clean_loc\"] = oes_df[\"area_title\"].map(clean_loc)\n",
    "\n",
    "oes_df[\"map_loc\"] = oes_df[\"clean_loc\"]\n",
    "resid_df[\"map_loc\"] = resid_df[\"clean_loc\"].map(lambda x: city_map(x, oes_df[\"clean_loc\"].unique()))\n",
    "\n",
    "resid_df[\"soc_code\"] = resid_df[\"id\"].map(lambda x: int(x.split(\"_\")[1]))\n",
    "oes_df[\"soc_code\"] = oes_df[\"occ_code\"].map(lambda x: int(x.split(\"-\")[0]))\n",
    "\n",
    "resid_df = resid_df[resid_df[\"map_loc\"].notnull()]\n",
    "oes_df = oes_df[oes_df[\"map_loc\"].notnull()]\n",
    "\n",
    "display(resid_df.head())\n",
    "display(oes_df.head())"
   ]
  },
  {
   "cell_type": "code",
   "execution_count": 92,
   "id": "fd4cfb95",
   "metadata": {},
   "outputs": [
    {
     "name": "stdout",
     "output_type": "stream",
     "text": [
      "OES MSA by Occ Pairs:  8645\n",
      "Resid City by Occ Pairs:  710\n"
     ]
    }
   ],
   "source": [
    "print(\"OES MSA by Occ Pairs: \", len(oes_df))\n",
    "print(\"Resid City by Occ Pairs: \", len(resid_df))"
   ]
  },
  {
   "cell_type": "code",
   "execution_count": 93,
   "id": "4cb56666",
   "metadata": {},
   "outputs": [],
   "source": [
    "cmb_df = resid_df.merge(\n",
    "    oes_df,\n",
    "    on = [\"map_loc\", \"soc_code\"],\n",
    "    how=\"left\",\n",
    ")"
   ]
  },
  {
   "cell_type": "code",
   "execution_count": null,
   "id": "6253113c",
   "metadata": {},
   "outputs": [
    {
     "data": {
      "application/vnd.plotly.v1+json": {
       "config": {
        "plotlyServerURL": "https://plot.ly"
       },
       "data": [
        {
         "marker": {
          "line": {
           "color": "DarkSlateGrey",
           "width": 1
          },
          "size": 5
         },
         "mode": "markers",
         "name": "Management",
         "type": "scatter",
         "x": [
          107400,
          96300,
          125800,
          104390,
          123150,
          127530,
          115330,
          141250,
          122000,
          128930,
          130400,
          124950,
          116990,
          87010,
          118300,
          111773.33333333333,
          128340,
          144250,
          124850,
          133960,
          98600,
          107060,
          117910,
          126520,
          108870,
          116390,
          113390,
          134680,
          101880,
          117730,
          104030,
          114650,
          126290,
          129430,
          109980,
          107500,
          165830,
          106620,
          106720,
          105300,
          141710,
          112900,
          122000,
          115490,
          131070,
          113610,
          119310,
          102630,
          113790,
          134100,
          158880,
          172560,
          140660,
          113270,
          99260,
          111290,
          113250,
          117300,
          150870,
          102470
         ],
         "y": {
          "bdata": "AAAAAGD/60AAAAAAAJjtQAAAAABgo/NAAAAAAOAC70AAAAAAoH7yQAAAAACAkfFAAAAAADBP8kAAAAAAwGL0QAAAAABATe5AAAAAAODu7EAAAAAAQJfxQAAAAADAIfRAAAAAAOB+7kAAAAAAAMjvQAAAAABA8etAAAAAAAAf70AAAAAAYFfyQAAAAADwre9AAAAAAED08UAAAAAAIHTwQAAAAABAhO5AAAAAAKCE80AAAAAAkADwQAAAAACgcPFAAAAAAABg8EAAAAAAQGDtQAAAAADgV+9AVVVVVYXd80AAAAAAYJbuQAAAAABAU+1AAAAAAMC+7kAAAAAAsH3yQAAAAACADfBAAAAAANDl8kAAAAAA4NjsQAAAAADg5epAAAAAAMBB80AAAAAAYG3uQAAAAAAg0OtAAAAAAKAw8EAAAAAAoG/1QKuqqqpKgfBAAAAAAGDT6kAAAAAA4J3uQAAAAADQqfNAAAAAADCf8UAAAAAA4H7yQAAAAACgtu1AAAAAACAf7UAAAAAAMPXzQAAAAADAF/VAAAAAALCm9kAAAAAAECD0QAAAAABgYexAAAAAAADO7UAAAAAAoDntQAAAAACgWvJAAAAAAGhV8UAAAAAAAGf3QAAAAABg4utA",
          "dtype": "f8"
         }
        },
        {
         "marker": {
          "line": {
           "color": "DarkSlateGrey",
           "width": 1
          },
          "size": 5
         },
         "mode": "markers",
         "name": "Business and Financial Operations",
         "type": "scatter",
         "x": [
          70120,
          62960,
          77730,
          66820,
          75010,
          80620,
          74590,
          90160,
          71560,
          103050,
          81190,
          79150,
          73560,
          61190,
          75330,
          71330,
          80490,
          84040,
          77700,
          84320,
          64420,
          65670,
          71300,
          84050,
          70500,
          74430,
          68790,
          81970,
          67990,
          70880,
          64720,
          71730,
          71270,
          78520,
          66400,
          67660,
          99400,
          68010,
          69220,
          68760,
          82940,
          69870,
          74840,
          76720,
          76450,
          69580,
          77480,
          67410,
          72710,
          79410,
          97010,
          97250,
          88430,
          68780,
          70280,
          68350,
          73340,
          75610,
          95950,
          68290
         ],
         "y": {
          "bdata": "AAAAAGDQ7UAAAAAAgO7tQAAAAACAPfJAAAAAAKBd7EAAAAAAQAvuQAAAAADQGfBAAAAAAKDZ8EAAAAAAoDLxQAAAAAAAH+xAAAAAAEAu6EAAAAAAYH7zQAAAAADQKPNAAAAAAGAy8EAAAAAAoEHqQAAAAABg6exAAAAAAIDN7UAAAAAA6GzxQAAAAAAAF+5AAAAAABAs8EAAAAAAoHLuQAAAAACA+e5AAAAAAMBj8UAAAAAAQKnqQAAAAABg5PFAAAAAAACD7EAAAAAA4EHtQAAAAACAoetAq6qqqrpQ8EAAAAAAIBDrQAAAAADgme5AAAAAAMAg7EAAAAAAwDXtQAAAAABAWO5AAAAAACBc7UAAAAAAwNrsQAAAAAAAV+pAAAAAAJBr8UAAAAAAAFPrQAAAAABg2etAAAAAAOCq7UAAAAAA4CPvQAAAAACA6OtAAAAAAADJ7UAAAAAAgBbsQAAAAADAq+5AAAAAAACM8EAAAAAAYHDvQAAAAAAgouhAAAAAAOC+70AAAAAAcPrwQAAAAADQIvRAAAAAADAE8kAAAAAAQFzuQAAAAACAJOpAAAAAACAQ6kAAAAAAAMzpQAAAAAAAl+xAAAAAADAu7EAAAAAAkEL1QAAAAABgu+tA",
          "dtype": "f8"
         }
        },
        {
         "marker": {
          "line": {
           "color": "DarkSlateGrey",
           "width": 1
          },
          "size": 5
         },
         "mode": "markers",
         "name": "Computer and Mathematical",
         "type": "scatter",
         "x": [
          79330,
          68900,
          90930,
          77240,
          90990,
          103830,
          82070,
          102630,
          77420,
          102840,
          92470,
          91120,
          86740,
          60770,
          95820,
          84666.66666666667,
          94450,
          99770,
          84890,
          95180,
          69560,
          73130,
          81750,
          96260,
          82440,
          81890,
          78340,
          98240,
          76380,
          85350,
          72110,
          82500,
          82390,
          93060,
          78430,
          75370,
          106670,
          75020,
          81870,
          84080,
          94150,
          86280,
          82560,
          92800,
          94040,
          83640,
          96190,
          83480,
          86330,
          102430,
          124630,
          133790,
          121380,
          84300,
          81920,
          71440,
          81450,
          86930,
          108640,
          70280
         ],
         "y": {
          "bdata": "AAAAACBb8UAAAAAAwFD1QAAAAADwGPhAAAAAAIA98kAAAAAAoHT1QAAAAADAnvFAAAAAAOB18UAAAAAA0Nf3QAAAAAAgp+5AAAAAAEAE60AAAAAAwK30QAAAAABAYvdAAAAAACA09EAAAAAAYJfyQAAAAAAQmvJAAAAAANB380AAAAAA3BT1QAAAAAAAEfRAAAAAALD/80AAAAAAcET2QAAAAACgUelAAAAAAJBn8EAAAAAAoOrsQAAAAACwo/NAAAAAAGAL8kAAAAAAwGDyQAAAAACQt/NAq6qqqlp89kAAAAAA0L/wQAAAAABAAOxAAAAAAFBH8UAAAAAAyNjyQAAAAABQcfNAAAAAABD98kAAAAAAIEHzQAAAAADgbPBAAAAAAKAA+kAAAAAAAK/xQAAAAABQR/BAAAAAAMD88kAAAAAAkFj1QKuqqqoqs/JAAAAAAFDp8kAAAAAAkIHzQAAAAADAUfVAAAAAAKB+80AAAAAA4ML0QAAAAACAVu1AAAAAALAM80AAAAAAUFf3QAAAAABoGPtAAAAAAKCC/UAAAAAAgMX4QAAAAABQuvNAAAAAAKCO7kAAAAAAoH/uQAAAAAAgt+9AAAAAAOAd8UAAAAAAQF/3QAAAAABgwutA",
          "dtype": "f8"
         }
        },
        {
         "marker": {
          "line": {
           "color": "DarkSlateGrey",
           "width": 1
          },
          "size": 5
         },
         "mode": "markers",
         "name": "Educational Instruction and Library",
         "type": "scatter",
         "x": [
          53370,
          51060,
          53240,
          56590,
          54210,
          68960,
          57810,
          70550,
          58490,
          53280,
          45120,
          58060,
          60630,
          44330,
          50050,
          49353.333333333336,
          51590,
          60720,
          59350,
          73980,
          58180,
          63410,
          49540,
          56460,
          51680,
          49580,
          51260,
          70000,
          50100,
          56630,
          53080,
          53600,
          53430,
          58960,
          53020,
          48880,
          73390,
          45180,
          55320,
          50330,
          63540,
          48140,
          65120,
          65500,
          51890,
          67290,
          64000,
          57860,
          48610,
          65290,
          70160,
          69800,
          61540,
          50750,
          52080,
          44400,
          55820,
          58730,
          67260,
          45630
         ],
         "y": {
          "bdata": "AAAAAOBI6UAAAAAA4KvjQAAAAADgIuVAAAAAAGC060AAAAAAQH3mQAAAAABA/OdAAAAAAGDG4EAAAAAAYFbmQAAAAAAAjuhAAAAAAADr4EAAAAAA4IHlQAAAAACg+OdAAAAAAODJ4EAAAAAAwGnjQAAAAACgVedAAAAAAEA26EAAAAAAmA/nQAAAAACgG+VAAAAAAMBq5kAAAAAAwFviQAAAAACArOZAAAAAAKAo6kAAAAAAgP3gQAAAAADgDeZAAAAAAKBC5EAAAAAAQH7iQAAAAAAg3+5AAAAAAKDd6kAAAAAA4B/lQAAAAACAkeZAAAAAAOAj5EAAAAAAUMLnQAAAAAAA6+NAAAAAAIDD5UAAAAAAANHkQAAAAABge+VAAAAAAKDz5kAAAAAAgA3hQAAAAACAJ9xAAAAAAICg5UAAAAAAAILlQFVVVVX1XONAAAAAAICp4kAAAAAAgBbnQAAAAABgseZAAAAAAMC07UAAAAAAoCrmQAAAAACgL+NAAAAAAMAv5kAAAAAAQErqQAAAAAAwKOxAAAAAAEAC60AAAAAAgAvoQAAAAACAKOZAAAAAAMDf5EAAAAAA4NHjQAAAAAAAyuRAAAAAAGAJ5EAAAAAAQCXtQAAAAACAseNA",
          "dtype": "f8"
         }
        },
        {
         "marker": {
          "line": {
           "color": "DarkSlateGrey",
           "width": 1
          },
          "size": 5
         },
         "mode": "markers",
         "name": "Healthcare Practitioners and Technical",
         "type": "scatter",
         "x": [
          86020,
          65240,
          81780,
          70240,
          81090,
          84250,
          69040,
          101380,
          80860,
          68140,
          75980,
          83390,
          78540,
          64020,
          79610,
          74686.66666666667,
          81760,
          85880,
          82460,
          74510,
          70510,
          98080,
          79590,
          82530,
          83480,
          76310,
          91570,
          98660,
          70520,
          81060,
          72230,
          78220,
          86550,
          91790,
          74340,
          72080,
          99350,
          74030,
          78970,
          73850,
          87100,
          88810,
          69450,
          97990,
          81400,
          98320,
          109410,
          75650,
          76290,
          99910,
          116380,
          124710,
          99690,
          78890,
          84310,
          79470,
          107400,
          78920,
          97290,
          70940
         ],
         "y": {
          "bdata": "AAAAAGAX8UAAAAAAYLfuQAAAAAAAkelAAAAAALAC80AAAAAAQE/sQAAAAAAgSvBAAAAAAKC98EAAAAAAIPHxQAAAAAAQEfJAAAAAAMAy6kAAAAAAwNDuQAAAAACwR/BAAAAAAGCc7kAAAAAAQF7wQAAAAADgvexAAAAAAMDQ70AAAAAArILwQAAAAADAdu1AAAAAANDM8EAAAAAAQJvtQAAAAAAgr/BAAAAAACBs7kAAAAAA4N3qQAAAAAAg6O9AAAAAAFDl8EAAAAAA4FbtQAAAAAAgHfNAq6qqqorV8EAAAAAAAGLxQAAAAAAg5OhAAAAAAMAv8EAAAAAA8IbuQAAAAACAD+xAAAAAAKDl7EAAAAAAcJnwQAAAAAAgw+5AAAAAAJBT8kAAAAAAYODrQAAAAAAgKu1AAAAAAGBG8UAAAAAA4HvuQFVVVVXVJO5AAAAAACDl7kAAAAAAMAvyQAAAAABQOPBAAAAAAPBl8EAAAAAAgLnuQAAAAADwv/BAAAAAAMA58UAAAAAA4KHtQAAAAACoaPRAAAAAAJBI80AAAAAAYJ7yQAAAAADAZOpAAAAAAHBO9UAAAAAAIHLvQAAAAABwwfFAAAAAALBc6kAAAAAAAF/yQAAAAABQAfBA",
          "dtype": "f8"
         }
        },
        {
         "marker": {
          "line": {
           "color": "DarkSlateGrey",
           "width": 1
          },
          "size": 5
         },
         "mode": "markers",
         "name": "Food Preparation and Serving Related",
         "type": "scatter",
         "x": [
          22750,
          21230,
          23270,
          21310,
          26330,
          27170,
          22560,
          32500,
          28840,
          25430,
          24250,
          25980,
          24070,
          21410,
          27430,
          23273.333333333332,
          23770,
          28810,
          25830,
          25680,
          21150,
          29080,
          22460,
          24470,
          24320,
          25150,
          27700,
          29860,
          23640,
          24880,
          22290,
          26340,
          23950,
          29160,
          23670,
          22470,
          33150,
          23130,
          25840,
          25890,
          26800,
          30640,
          25360,
          30450,
          25700,
          28570,
          28770,
          24210,
          24980,
          31010,
          35750,
          33020,
          36140,
          25480,
          29700,
          22020,
          38370,
          24000,
          30420,
          22300
         ],
         "y": {
          "bdata": "AAAAAMAp10AAAAAAQADZQAAAAAAgY+BAAAAAAEBs2kAAAAAAwDjdQAAAAACAZt5AAAAAAACn10AAAAAA4N3hQAAAAABA5dtAAAAAAIDg2UAAAAAAQNLYQAAAAADATN1AAAAAAIBL3EAAAAAAQFbYQAAAAADAtdtAAAAAAMB33UAAAAAAYFjcQAAAAABAUdxAAAAAAEAj2UAAAAAAwAPXQAAAAAAA5tRAAAAAAIAc3EAAAAAAAHzZQAAAAABAedpAAAAAAECJ20AAAAAAAFLaQAAAAAAAQ9xAq6qqquo63kAAAAAAAG3ZQAAAAACA8tlAAAAAAIDQ20AAAAAAgIHbQAAAAACAktlAAAAAAECL4EAAAAAAAHHaQAAAAACAQtdAAAAAAAAD30AAAAAAwIbaQAAAAADAT91AAAAAAEAI2kAAAAAAIOniQKuqqqqqK9xAAAAAAABB2UAAAAAAgHjfQAAAAAAAktpAAAAAAEBW3EAAAAAAgEvdQAAAAADAmNpAAAAAAEBx2UAAAAAAwIDeQAAAAACgi+FAAAAAAOBt4UAAAAAAYO3hQAAAAAAA69dAAAAAAADU2UAAAAAAgGvXQAAAAACAk91AAAAAAODO10AAAAAAgAzlQAAAAAAAq9hA",
          "dtype": "f8"
         }
        },
        {
         "marker": {
          "line": {
           "color": "DarkSlateGrey",
           "width": 1
          },
          "size": 5
         },
         "mode": "markers",
         "name": "Personal Care and Service",
         "type": "scatter",
         "x": [
          28060,
          24560,
          29590,
          26480,
          30840,
          33300,
          26880,
          39560,
          31580,
          30850,
          28100,
          31960,
          27690,
          25390,
          32160,
          27020,
          29440,
          34260,
          29620,
          29430,
          25170,
          32770,
          25820,
          28870,
          27570,
          28970,
          28690,
          34280,
          29250,
          32120,
          26770,
          29600,
          29790,
          32750,
          29320,
          25950,
          37140,
          27590,
          29500,
          28630,
          30730,
          31990,
          27700,
          34590,
          29700,
          33060,
          32740,
          29310,
          26650,
          33790,
          39350,
          37920,
          41710,
          28520,
          32570,
          28020,
          34080,
          27860,
          33960,
          28670
         ],
         "y": {
          "bdata": "AAAAAED92EAAAAAAwB/hQAAAAADgruBAAAAAAKAB4kAAAAAAAErgQAAAAACgwOBAAAAAAIAG5UAAAAAAoDPiQAAAAACA4t5AAAAAAECu3UAAAAAAQHbgQAAAAACAAuRAAAAAAICv3EAAAAAAAPzgQAAAAABAedxAAAAAAEDp3EAAAAAAKBbgQAAAAABgEuFAAAAAAMC63EAAAAAAgBXfQAAAAAAAmtpAAAAAAECv4kAAAAAAAIfYQAAAAADA2eBAAAAAAMC04EAAAAAAgIvbQAAAAAAgMuBAAAAAAED44EAAAAAAwOXcQAAAAACggOFAAAAAAABT30AAAAAA4BLeQAAAAACAGN5AAAAAACCs4UAAAAAAIK/gQAAAAABAjd1AAAAAAGD95UAAAAAAAEbaQAAAAABAON5AAAAAAEAb4EAAAAAAgDTkQFVVVVUVjeFAAAAAAEAq3EAAAAAAAAneQAAAAACA+t9AAAAAAEDA4UAAAAAAwKjgQAAAAABA7+BAAAAAAEDY4EAAAAAAAM3hQAAAAACQt+VAAAAAAGBE4kAAAAAAQPrjQAAAAADAeN9AAAAAAEDZ3UAAAAAAwKPfQAAAAAAAT91AAAAAACA54EAAAAAAoJbjQAAAAADAtdlA",
          "dtype": "f8"
         }
        },
        {
         "marker": {
          "line": {
           "color": "DarkSlateGrey",
           "width": 1
          },
          "size": 5
         },
         "mode": "markers",
         "name": "Sales and Related",
         "type": "scatter",
         "x": [
          35480,
          31460,
          42750,
          32490,
          46560,
          45050,
          41240,
          53320,
          40810,
          34920,
          47880,
          45670,
          45490,
          32490,
          43420,
          38236.666666666664,
          45140,
          55650,
          45290,
          48530,
          31940,
          39720,
          41230,
          44290,
          47090,
          43750,
          36740,
          46400,
          40530,
          44540,
          40320,
          41670,
          47810,
          49090,
          43130,
          36750,
          57830,
          39980,
          41880,
          38440,
          47660,
          43130,
          42050,
          47450,
          47720,
          40050,
          44350,
          44370,
          39450,
          44150,
          56850,
          60690,
          52950,
          42290,
          35810,
          40930,
          40760,
          36500,
          47180,
          39360
         ],
         "y": {
          "bdata": "AAAAAOAf6EAAAAAAgErtQAAAAACgkO9AAAAAAKA+60AAAAAAID3rQAAAAACwUvFAAAAAACAw7UAAAAAAcBnwQAAAAABgdO5AAAAAAKBc6EAAAAAAQP/rQAAAAADgEe9AAAAAAOCo7UAAAAAA4GzwQAAAAAAgTehAAAAAAKBL6kAAAAAAMJnrQAAAAAAwLO5AAAAAACAp8UAAAAAAoBDwQAAAAACA+uxAAAAAAMAd8EAAAAAAAEXqQAAAAADg+e9AAAAAAAD060AAAAAAgB7uQAAAAAAAfOxAVVVVVbUJ8EAAAAAA4EHvQAAAAACALuZAAAAAAGAx7kAAAAAAsI/qQAAAAACgZPBAAAAAAHAB8UAAAAAAAGrsQAAAAABgruxAAAAAAADv70AAAAAAYAjuQAAAAABAVOhAAAAAAEC67kAAAAAA0AXxQAAAAADAd+pAAAAAAGAV7UAAAAAAIBTvQAAAAADAeu5AAAAAANBb8UAAAAAAcPnwQAAAAACApepAAAAAAMCl6kAAAAAAwDLuQAAAAACQ9O9AAAAAACD060AAAAAAwBbwQAAAAAAgl+9AAAAAAKA+7EAAAAAAQOHpQAAAAAAAr+VAAAAAADCO6kAAAAAAIJ7xQAAAAADA9eZA",
          "dtype": "f8"
         }
        },
        {
         "marker": {
          "line": {
           "color": "DarkSlateGrey",
           "width": 1
          },
          "size": 5
         },
         "mode": "markers",
         "name": "Office and Administrative Support",
         "type": "scatter",
         "x": [
          36900,
          34310,
          40300,
          35060,
          41060,
          44080,
          38670,
          49100,
          41210,
          42380,
          40730,
          43110,
          40380,
          33420,
          38780,
          38423.333333333336,
          40800,
          45200,
          41170,
          42360,
          31490,
          41050,
          38330,
          41150,
          40400,
          40080,
          37680,
          45370,
          37450,
          41200,
          38480,
          39350,
          41490,
          45090,
          40540,
          37160,
          47790,
          37400,
          39310,
          37550,
          43620,
          40740,
          39750,
          43800,
          39330,
          42320,
          44270,
          39020,
          37480,
          44310,
          53290,
          52250,
          48180,
          38650,
          37160,
          38290,
          43900,
          38470,
          48270,
          36980
         ],
         "y": {
          "bdata": "AAAAAOCz4EAAAAAAoLTgQAAAAADAXORAAAAAAKCI4kAAAAAAYPDhQAAAAAAgluRAAAAAAEBo4UAAAAAAIFPnQAAAAACg4eBAAAAAAMB52kAAAAAAACHkQAAAAACAHelAAAAAAABt4EAAAAAAwI/hQAAAAACApeFAAAAAAGB94UAAAAAAsDbmQAAAAAAgZ+NAAAAAAGD74kAAAAAAAGjhQAAAAADAfdxAAAAAAKA94kAAAAAAgLzgQAAAAADg/ONAAAAAAKDR4EAAAAAA4G3iQAAAAAAAbN9Aq6qqqsqQ5EAAAAAAgFDgQAAAAAAAZt5AAAAAAOCt4EAAAAAAgEvhQAAAAAAgZuRAAAAAAMA35EAAAAAAgI/hQAAAAABA9+NAAAAAAIAn6EAAAAAAoL/gQAAAAADgQeBAAAAAAAAm3kAAAAAA4KLkQAAAAACgpOJAAAAAAEAx4EAAAAAAQCnjQAAAAACAP+NAAAAAAOAV6EAAAAAAgO/iQAAAAAAgEOJAAAAAAEAA4UAAAAAAwKXkQAAAAAAgpOhAAAAAAKAb6EAAAAAAgDrmQAAAAACAFuJAAAAAAKDI4EAAAAAAQKjhQAAAAACgcuFAAAAAAOA74EAAAAAAoEjpQAAAAABA7N9A",
          "dtype": "f8"
         }
        },
        {
         "marker": {
          "line": {
           "color": "DarkSlateGrey",
           "width": 1
          },
          "size": 5
         },
         "mode": "markers",
         "name": "Transportation and Material Moving",
         "type": "scatter",
         "x": [
          34980,
          31790,
          36500,
          32100,
          34670,
          39550,
          35400,
          41630,
          35680,
          40410,
          35240,
          40160,
          35020,
          31320,
          34970,
          34143.333333333336,
          41360,
          44660,
          40440,
          32650,
          32490,
          35870,
          34300,
          39260,
          34900,
          36480,
          39350,
          39470,
          40730,
          37210,
          35660,
          38500,
          36170,
          41800,
          34820,
          39480,
          42200,
          35900,
          37310,
          35340,
          36520,
          38310,
          37590,
          40670,
          33310,
          37350,
          37680,
          39940,
          34760,
          37960,
          47560,
          42280,
          49460,
          33650,
          34280,
          35590,
          49190,
          36000,
          41140,
          35420
         ],
         "y": {
          "bdata": "AAAAAICQ50AAAAAAoGzkQAAAAADA5ONAAAAAAACa40AAAAAA4GroQAAAAACg5uZAAAAAAACo8EAAAAAAoE/rQAAAAAAgxuRAAAAAAODj6EAAAAAAINfnQAAAAACAkO1AAAAAAODr50AAAAAAIAfrQAAAAACAG+VAAAAAAIDe5EAAAAAA4BLmQAAAAADgEORAAAAAAADi50AAAAAAIGzmQAAAAABAEeVAAAAAACA45kAAAAAAwLnrQAAAAADg3eZAAAAAACCf6EAAAAAAwITmQAAAAAAAueRAAAAAAGBb6EAAAAAA4IzmQAAAAACAqedAAAAAAEBm6EAAAAAAwBbjQAAAAACA/ehAAAAAAMD45UAAAAAAoGzmQAAAAADgk+xAAAAAACCp7EAAAAAAYEPoQAAAAAAgWOhAAAAAAEDA40AAAAAAgIHuQFVVVVU1D+hAAAAAAOCC6EAAAAAAQAfjQAAAAABAHuVAAAAAAOCu40AAAAAAwE7pQAAAAAAA7uRAAAAAAEBi5kAAAAAA4GfiQAAAAABgLuhAAAAAAAB650AAAAAAgLrnQAAAAAAgJOVAAAAAAOAZ5kAAAAAAYN/jQAAAAABg2uBAAAAAAMDs6UAAAAAAYFXnQAAAAABAI+xA",
          "dtype": "f8"
         }
        },
        {
         "line": {
          "color": "red",
          "width": 2
         },
         "mode": "lines",
         "name": "Equality Line",
         "type": "scatter",
         "x": {
          "bdata": "AAAAAABMzUBGF1100fXPQEYXXXTRT9FA6aKLLrqk0kCMLrroovnTQC+66KKLTtVA0kUXXXSj1kB00UUXXfjXQBhddNFFTdlAuuiiiy6i2kBedNFFF/fbQAAAAAAATN1Ao4suuuig3kBGF1100fXfQHTRRRddpeBARhdddNFP4UAYXXTRRfrhQOmiiy66pOJAuuiiiy5P40CMLrroovnjQF500UUXpORAL7roootO5UAAAAAAAPnlQNJFF110o+ZAo4suuuhN50B10UUXXfjnQEYXXXTRouhAGF100UVN6UDpoosuuvfpQLvooosuoupAjC666KJM60BedNFFF/frQC+66KKLoexAAAAAAABM7UDSRRdddPbtQKOLLrrooO5AddFFF11L70BGF1100fXvQIwuuugiUPBAdNFFF12l8EBedNFFl/rwQEYXXXTRT/FAL7roogul8UAYXXTRRfrxQAAAAACAT/JA6aKLLrqk8kDSRRdd9PnyQLrooosuT/NAo4suumik80CMLrroovnzQHXRRRfdTvRAXXTRRRek9EBGF110Ufn0QC+66KKLTvVAGF100cWj9UAAAAAAAPn1QOmiiy46TvZA0kUXXXSj9kC76KKLrvj2QKOLLrroTfdAjC666CKj90B10UUXXfj3QF500UWXTfhARhdddNGi+EAvuuiiC/j4QBhddNFFTflAAAAAAICi+UDpoosuuvf5QNJFF130TPpAu+iiiy6i+kCjiy66aPf6QIwuuuiiTPtAddFFF92h+0BedNFFF/f7QEYXXXRRTPxAL7rooouh/EAYXXTRxfb8QAEAAAAATP1A6aKLLjqh/UDSRRdddPb9QLvooouuS/5Ao4suuuig/kCMLrroIvb+QHXRRRddS/9AXnTRRZeg/0BGF1100fX/QBhddNGFJQBBjC666CJQAEEAAAAAwHoAQXTRRRddpQBB6aKLLvrPAEFedNFFl/oAQdJFF100JQFBRhdddNFPAUG66KKLbnoBQS+66KILpQFBo4suuqjPAUEYXXTRRfoBQYwuuujiJAJBAAAAAIBPAkE=",
          "dtype": "f8"
         },
         "y": {
          "bdata": "AAAAAABMzUBGF1100fXPQEYXXXTRT9FA6aKLLrqk0kCMLrroovnTQC+66KKLTtVA0kUXXXSj1kB00UUXXfjXQBhddNFFTdlAuuiiiy6i2kBedNFFF/fbQAAAAAAATN1Ao4suuuig3kBGF1100fXfQHTRRRddpeBARhdddNFP4UAYXXTRRfrhQOmiiy66pOJAuuiiiy5P40CMLrroovnjQF500UUXpORAL7roootO5UAAAAAAAPnlQNJFF110o+ZAo4suuuhN50B10UUXXfjnQEYXXXTRouhAGF100UVN6UDpoosuuvfpQLvooosuoupAjC666KJM60BedNFFF/frQC+66KKLoexAAAAAAABM7UDSRRdddPbtQKOLLrrooO5AddFFF11L70BGF1100fXvQIwuuugiUPBAdNFFF12l8EBedNFFl/rwQEYXXXTRT/FAL7roogul8UAYXXTRRfrxQAAAAACAT/JA6aKLLrqk8kDSRRdd9PnyQLrooosuT/NAo4suumik80CMLrroovnzQHXRRRfdTvRAXXTRRRek9EBGF110Ufn0QC+66KKLTvVAGF100cWj9UAAAAAAAPn1QOmiiy46TvZA0kUXXXSj9kC76KKLrvj2QKOLLrroTfdAjC666CKj90B10UUXXfj3QF500UWXTfhARhdddNGi+EAvuuiiC/j4QBhddNFFTflAAAAAAICi+UDpoosuuvf5QNJFF130TPpAu+iiiy6i+kCjiy66aPf6QIwuuuiiTPtAddFFF92h+0BedNFFF/f7QEYXXXRRTPxAL7rooouh/EAYXXTRxfb8QAEAAAAATP1A6aKLLjqh/UDSRRdddPb9QLvooouuS/5Ao4suuuig/kCMLrroIvb+QHXRRRddS/9AXnTRRZeg/0BGF1100fX/QBhddNGFJQBBjC666CJQAEEAAAAAwHoAQXTRRRddpQBB6aKLLvrPAEFedNFFl/oAQdJFF100JQFBRhdddNFPAUG66KKLbnoBQS+66KILpQFBo4suuqjPAUEYXXTRRfoBQYwuuujiJAJBAAAAAIBPAkE=",
          "dtype": "f8"
         }
        }
       ],
       "layout": {
        "annotations": [
         {
          "font": {
           "size": 16
          },
          "showarrow": false,
          "text": "R² = 0.52",
          "x": 0.5,
          "xref": "paper",
          "y": 0.9,
          "yref": "paper"
         }
        ],
        "height": 600,
        "legend": {
         "title": {
          "text": "Occupation"
         }
        },
        "template": {
         "data": {
          "bar": [
           {
            "error_x": {
             "color": "#2a3f5f"
            },
            "error_y": {
             "color": "#2a3f5f"
            },
            "marker": {
             "line": {
              "color": "#E5ECF6",
              "width": 0.5
             },
             "pattern": {
              "fillmode": "overlay",
              "size": 10,
              "solidity": 0.2
             }
            },
            "type": "bar"
           }
          ],
          "barpolar": [
           {
            "marker": {
             "line": {
              "color": "#E5ECF6",
              "width": 0.5
             },
             "pattern": {
              "fillmode": "overlay",
              "size": 10,
              "solidity": 0.2
             }
            },
            "type": "barpolar"
           }
          ],
          "carpet": [
           {
            "aaxis": {
             "endlinecolor": "#2a3f5f",
             "gridcolor": "white",
             "linecolor": "white",
             "minorgridcolor": "white",
             "startlinecolor": "#2a3f5f"
            },
            "baxis": {
             "endlinecolor": "#2a3f5f",
             "gridcolor": "white",
             "linecolor": "white",
             "minorgridcolor": "white",
             "startlinecolor": "#2a3f5f"
            },
            "type": "carpet"
           }
          ],
          "choropleth": [
           {
            "colorbar": {
             "outlinewidth": 0,
             "ticks": ""
            },
            "type": "choropleth"
           }
          ],
          "contour": [
           {
            "colorbar": {
             "outlinewidth": 0,
             "ticks": ""
            },
            "colorscale": [
             [
              0,
              "#0d0887"
             ],
             [
              0.1111111111111111,
              "#46039f"
             ],
             [
              0.2222222222222222,
              "#7201a8"
             ],
             [
              0.3333333333333333,
              "#9c179e"
             ],
             [
              0.4444444444444444,
              "#bd3786"
             ],
             [
              0.5555555555555556,
              "#d8576b"
             ],
             [
              0.6666666666666666,
              "#ed7953"
             ],
             [
              0.7777777777777778,
              "#fb9f3a"
             ],
             [
              0.8888888888888888,
              "#fdca26"
             ],
             [
              1,
              "#f0f921"
             ]
            ],
            "type": "contour"
           }
          ],
          "contourcarpet": [
           {
            "colorbar": {
             "outlinewidth": 0,
             "ticks": ""
            },
            "type": "contourcarpet"
           }
          ],
          "heatmap": [
           {
            "colorbar": {
             "outlinewidth": 0,
             "ticks": ""
            },
            "colorscale": [
             [
              0,
              "#0d0887"
             ],
             [
              0.1111111111111111,
              "#46039f"
             ],
             [
              0.2222222222222222,
              "#7201a8"
             ],
             [
              0.3333333333333333,
              "#9c179e"
             ],
             [
              0.4444444444444444,
              "#bd3786"
             ],
             [
              0.5555555555555556,
              "#d8576b"
             ],
             [
              0.6666666666666666,
              "#ed7953"
             ],
             [
              0.7777777777777778,
              "#fb9f3a"
             ],
             [
              0.8888888888888888,
              "#fdca26"
             ],
             [
              1,
              "#f0f921"
             ]
            ],
            "type": "heatmap"
           }
          ],
          "histogram": [
           {
            "marker": {
             "pattern": {
              "fillmode": "overlay",
              "size": 10,
              "solidity": 0.2
             }
            },
            "type": "histogram"
           }
          ],
          "histogram2d": [
           {
            "colorbar": {
             "outlinewidth": 0,
             "ticks": ""
            },
            "colorscale": [
             [
              0,
              "#0d0887"
             ],
             [
              0.1111111111111111,
              "#46039f"
             ],
             [
              0.2222222222222222,
              "#7201a8"
             ],
             [
              0.3333333333333333,
              "#9c179e"
             ],
             [
              0.4444444444444444,
              "#bd3786"
             ],
             [
              0.5555555555555556,
              "#d8576b"
             ],
             [
              0.6666666666666666,
              "#ed7953"
             ],
             [
              0.7777777777777778,
              "#fb9f3a"
             ],
             [
              0.8888888888888888,
              "#fdca26"
             ],
             [
              1,
              "#f0f921"
             ]
            ],
            "type": "histogram2d"
           }
          ],
          "histogram2dcontour": [
           {
            "colorbar": {
             "outlinewidth": 0,
             "ticks": ""
            },
            "colorscale": [
             [
              0,
              "#0d0887"
             ],
             [
              0.1111111111111111,
              "#46039f"
             ],
             [
              0.2222222222222222,
              "#7201a8"
             ],
             [
              0.3333333333333333,
              "#9c179e"
             ],
             [
              0.4444444444444444,
              "#bd3786"
             ],
             [
              0.5555555555555556,
              "#d8576b"
             ],
             [
              0.6666666666666666,
              "#ed7953"
             ],
             [
              0.7777777777777778,
              "#fb9f3a"
             ],
             [
              0.8888888888888888,
              "#fdca26"
             ],
             [
              1,
              "#f0f921"
             ]
            ],
            "type": "histogram2dcontour"
           }
          ],
          "mesh3d": [
           {
            "colorbar": {
             "outlinewidth": 0,
             "ticks": ""
            },
            "type": "mesh3d"
           }
          ],
          "parcoords": [
           {
            "line": {
             "colorbar": {
              "outlinewidth": 0,
              "ticks": ""
             }
            },
            "type": "parcoords"
           }
          ],
          "pie": [
           {
            "automargin": true,
            "type": "pie"
           }
          ],
          "scatter": [
           {
            "fillpattern": {
             "fillmode": "overlay",
             "size": 10,
             "solidity": 0.2
            },
            "type": "scatter"
           }
          ],
          "scatter3d": [
           {
            "line": {
             "colorbar": {
              "outlinewidth": 0,
              "ticks": ""
             }
            },
            "marker": {
             "colorbar": {
              "outlinewidth": 0,
              "ticks": ""
             }
            },
            "type": "scatter3d"
           }
          ],
          "scattercarpet": [
           {
            "marker": {
             "colorbar": {
              "outlinewidth": 0,
              "ticks": ""
             }
            },
            "type": "scattercarpet"
           }
          ],
          "scattergeo": [
           {
            "marker": {
             "colorbar": {
              "outlinewidth": 0,
              "ticks": ""
             }
            },
            "type": "scattergeo"
           }
          ],
          "scattergl": [
           {
            "marker": {
             "colorbar": {
              "outlinewidth": 0,
              "ticks": ""
             }
            },
            "type": "scattergl"
           }
          ],
          "scattermap": [
           {
            "marker": {
             "colorbar": {
              "outlinewidth": 0,
              "ticks": ""
             }
            },
            "type": "scattermap"
           }
          ],
          "scattermapbox": [
           {
            "marker": {
             "colorbar": {
              "outlinewidth": 0,
              "ticks": ""
             }
            },
            "type": "scattermapbox"
           }
          ],
          "scatterpolar": [
           {
            "marker": {
             "colorbar": {
              "outlinewidth": 0,
              "ticks": ""
             }
            },
            "type": "scatterpolar"
           }
          ],
          "scatterpolargl": [
           {
            "marker": {
             "colorbar": {
              "outlinewidth": 0,
              "ticks": ""
             }
            },
            "type": "scatterpolargl"
           }
          ],
          "scatterternary": [
           {
            "marker": {
             "colorbar": {
              "outlinewidth": 0,
              "ticks": ""
             }
            },
            "type": "scatterternary"
           }
          ],
          "surface": [
           {
            "colorbar": {
             "outlinewidth": 0,
             "ticks": ""
            },
            "colorscale": [
             [
              0,
              "#0d0887"
             ],
             [
              0.1111111111111111,
              "#46039f"
             ],
             [
              0.2222222222222222,
              "#7201a8"
             ],
             [
              0.3333333333333333,
              "#9c179e"
             ],
             [
              0.4444444444444444,
              "#bd3786"
             ],
             [
              0.5555555555555556,
              "#d8576b"
             ],
             [
              0.6666666666666666,
              "#ed7953"
             ],
             [
              0.7777777777777778,
              "#fb9f3a"
             ],
             [
              0.8888888888888888,
              "#fdca26"
             ],
             [
              1,
              "#f0f921"
             ]
            ],
            "type": "surface"
           }
          ],
          "table": [
           {
            "cells": {
             "fill": {
              "color": "#EBF0F8"
             },
             "line": {
              "color": "white"
             }
            },
            "header": {
             "fill": {
              "color": "#C8D4E3"
             },
             "line": {
              "color": "white"
             }
            },
            "type": "table"
           }
          ]
         },
         "layout": {
          "annotationdefaults": {
           "arrowcolor": "#2a3f5f",
           "arrowhead": 0,
           "arrowwidth": 1
          },
          "autotypenumbers": "strict",
          "coloraxis": {
           "colorbar": {
            "outlinewidth": 0,
            "ticks": ""
           }
          },
          "colorscale": {
           "diverging": [
            [
             0,
             "#8e0152"
            ],
            [
             0.1,
             "#c51b7d"
            ],
            [
             0.2,
             "#de77ae"
            ],
            [
             0.3,
             "#f1b6da"
            ],
            [
             0.4,
             "#fde0ef"
            ],
            [
             0.5,
             "#f7f7f7"
            ],
            [
             0.6,
             "#e6f5d0"
            ],
            [
             0.7,
             "#b8e186"
            ],
            [
             0.8,
             "#7fbc41"
            ],
            [
             0.9,
             "#4d9221"
            ],
            [
             1,
             "#276419"
            ]
           ],
           "sequential": [
            [
             0,
             "#0d0887"
            ],
            [
             0.1111111111111111,
             "#46039f"
            ],
            [
             0.2222222222222222,
             "#7201a8"
            ],
            [
             0.3333333333333333,
             "#9c179e"
            ],
            [
             0.4444444444444444,
             "#bd3786"
            ],
            [
             0.5555555555555556,
             "#d8576b"
            ],
            [
             0.6666666666666666,
             "#ed7953"
            ],
            [
             0.7777777777777778,
             "#fb9f3a"
            ],
            [
             0.8888888888888888,
             "#fdca26"
            ],
            [
             1,
             "#f0f921"
            ]
           ],
           "sequentialminus": [
            [
             0,
             "#0d0887"
            ],
            [
             0.1111111111111111,
             "#46039f"
            ],
            [
             0.2222222222222222,
             "#7201a8"
            ],
            [
             0.3333333333333333,
             "#9c179e"
            ],
            [
             0.4444444444444444,
             "#bd3786"
            ],
            [
             0.5555555555555556,
             "#d8576b"
            ],
            [
             0.6666666666666666,
             "#ed7953"
            ],
            [
             0.7777777777777778,
             "#fb9f3a"
            ],
            [
             0.8888888888888888,
             "#fdca26"
            ],
            [
             1,
             "#f0f921"
            ]
           ]
          },
          "colorway": [
           "#636efa",
           "#EF553B",
           "#00cc96",
           "#ab63fa",
           "#FFA15A",
           "#19d3f3",
           "#FF6692",
           "#B6E880",
           "#FF97FF",
           "#FECB52"
          ],
          "font": {
           "color": "#2a3f5f"
          },
          "geo": {
           "bgcolor": "white",
           "lakecolor": "white",
           "landcolor": "#E5ECF6",
           "showlakes": true,
           "showland": true,
           "subunitcolor": "white"
          },
          "hoverlabel": {
           "align": "left"
          },
          "hovermode": "closest",
          "mapbox": {
           "style": "light"
          },
          "paper_bgcolor": "white",
          "plot_bgcolor": "#E5ECF6",
          "polar": {
           "angularaxis": {
            "gridcolor": "white",
            "linecolor": "white",
            "ticks": ""
           },
           "bgcolor": "#E5ECF6",
           "radialaxis": {
            "gridcolor": "white",
            "linecolor": "white",
            "ticks": ""
           }
          },
          "scene": {
           "xaxis": {
            "backgroundcolor": "#E5ECF6",
            "gridcolor": "white",
            "gridwidth": 2,
            "linecolor": "white",
            "showbackground": true,
            "ticks": "",
            "zerolinecolor": "white"
           },
           "yaxis": {
            "backgroundcolor": "#E5ECF6",
            "gridcolor": "white",
            "gridwidth": 2,
            "linecolor": "white",
            "showbackground": true,
            "ticks": "",
            "zerolinecolor": "white"
           },
           "zaxis": {
            "backgroundcolor": "#E5ECF6",
            "gridcolor": "white",
            "gridwidth": 2,
            "linecolor": "white",
            "showbackground": true,
            "ticks": "",
            "zerolinecolor": "white"
           }
          },
          "shapedefaults": {
           "line": {
            "color": "#2a3f5f"
           }
          },
          "ternary": {
           "aaxis": {
            "gridcolor": "white",
            "linecolor": "white",
            "ticks": ""
           },
           "baxis": {
            "gridcolor": "white",
            "linecolor": "white",
            "ticks": ""
           },
           "bgcolor": "#E5ECF6",
           "caxis": {
            "gridcolor": "white",
            "linecolor": "white",
            "ticks": ""
           }
          },
          "title": {
           "x": 0.05
          },
          "xaxis": {
           "automargin": true,
           "gridcolor": "white",
           "linecolor": "white",
           "ticks": "",
           "title": {
            "standoff": 15
           },
           "zerolinecolor": "white",
           "zerolinewidth": 2
          },
          "yaxis": {
           "automargin": true,
           "gridcolor": "white",
           "linecolor": "white",
           "ticks": "",
           "title": {
            "standoff": 15
           },
           "zerolinecolor": "white",
           "zerolinewidth": 2
          }
         }
        },
        "title": {
         "text": "Residuals vs OES Estimates by MSA-Occupation"
        },
        "width": 800,
        "xaxis": {
         "range": [
          15000,
          150000
         ],
         "title": {
          "text": "OES Estimates"
         }
        },
        "yaxis": {
         "range": [
          15000,
          150000
         ],
         "title": {
          "text": "Residuals"
         }
        }
       }
      }
     },
     "metadata": {},
     "output_type": "display_data"
    }
   ],
   "source": [
    "cmb_df2 = cmb_df.groupby([\"map_loc\", \"soc_code\", \"occ_title\"]).agg({\"loc_mean_salary\": \"mean\", \"a_mean\": \"mean\"}).reset_index()\n",
    "cmb_df2[\"occ_title\"] = cmb_df2[\"occ_title\"].map(lambda x: \" \".join(x.split(\" \")[:-1]))\n",
    "cmb_df2.rename(columns={\"loc_mean_salary\": \"residuals\", \"a_mean\": \"oes_est\"}, inplace=True)\n",
    "\n",
    "# plot plotly scatter plot of residuals vs OES estimates colored by discrete occ_title with labeled legend, log both axes\n",
    "fig = go.Figure()\n",
    "for occ in cmb_df2[\"occ_title\"].unique():\n",
    "    fig.add_trace(\n",
    "        go.Scatter(\n",
    "            x = cmb_df2[cmb_df2[\"occ_title\"] == occ][\"oes_est\"],\n",
    "            y = cmb_df2[cmb_df2[\"occ_title\"] == occ][\"residuals\"],\n",
    "            mode = \"markers\",\n",
    "            name = occ,\n",
    "            marker=dict(size=5),\n",
    "        )\n",
    "    )\n",
    "fig.update_layout(\n",
    "    title=\"Residuals vs OES Estimates by MSA-Occupation\",\n",
    "    xaxis_title=\"OES Estimates\",\n",
    "    yaxis_title=\"Residuals\",\n",
    "    legend_title_text=\"Occupation\",\n",
    "    width=800,\n",
    "    height=600,\n",
    "    # set xaxis and yaxis range\n",
    "    xaxis_range=[15_000, 150_000],\n",
    "    yaxis_range=[15_000, 150_000],\n",
    ")\n",
    "fig.update_traces(marker=dict(line=dict(width=1, color='DarkSlateGrey')))\n",
    "\n",
    "# equality line when residuals = OES estimates\n",
    "x = np.linspace(15_000, 150_000, 100)\n",
    "y = x\n",
    "fig.add_trace(\n",
    "    go.Scatter(\n",
    "        x=x,\n",
    "        y=y,\n",
    "        mode=\"lines\",\n",
    "        name=\"Equality Line\",\n",
    "        line=dict(color=\"red\", width=2),\n",
    "    )\n",
    ")\n",
    "# add r2\n",
    "\n",
    "r2 = r2_score(cmb_df2[\"oes_est\"], cmb_df2[\"residuals\"])\n",
    "fig.add_annotation(\n",
    "    x=0.5,\n",
    "    y=0.9,\n",
    "    xref=\"paper\",\n",
    "    yref=\"paper\",\n",
    "    text=f\"R² = {r2:.2f}\",\n",
    "    showarrow=False,\n",
    "    font=dict(size=16),\n",
    ")\n",
    "\n",
    "# add text to the points with the occ_title\n",
    "fig.show()\n"
   ]
  }
 ],
 "metadata": {
  "kernelspec": {
   "display_name": ".venv",
   "language": "python",
   "name": "python3"
  },
  "language_info": {
   "codemirror_mode": {
    "name": "ipython",
    "version": 3
   },
   "file_extension": ".py",
   "mimetype": "text/x-python",
   "name": "python",
   "nbconvert_exporter": "python",
   "pygments_lexer": "ipython3",
   "version": "3.11.6"
  }
 },
 "nbformat": 4,
 "nbformat_minor": 5
}
