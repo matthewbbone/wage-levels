{
 "cells": [
  {
   "cell_type": "code",
   "execution_count": 126,
   "id": "ad1606fd",
   "metadata": {},
   "outputs": [],
   "source": [
    "import pandas as pd\n",
    "import numpy as np\n",
    "import re\n",
    "import plotly.graph_objects as go\n",
    "from sklearn.metrics import r2_score"
   ]
  },
  {
   "cell_type": "code",
   "execution_count": 101,
   "id": "3b211aaa",
   "metadata": {},
   "outputs": [
    {
     "data": {
      "text/plain": [
       "<Axes: >"
      ]
     },
     "metadata": {},
     "output_type": "display_data"
    },
    {
     "data": {
      "image/png": "[encoded data removed]",
      "text/plain": [
       "<Figure size 640x480 with 1 Axes>"
      ]
     },
     "metadata": {},
     "output_type": "display_data"
    }
   ],
   "source": [
    "oes_df = pd.read_excel(\"MSA_M2019_dl.xlsx\")\n",
    "oes_df = oes_df[oes_df[\"o_group\"] == \"major\"]\n",
    "oes_df = oes_df[[\"area_title\", \"occ_title\", \"occ_code\", \"a_mean\"]].drop_duplicates()\n",
    "resid_df = pd.read_pickle(\"Run1_2019.pkl\")\n",
    "display(resid_df[\"n_ads\"].hist())\n",
    "resid_df = resid_df[resid_df[\"id\"].map(lambda x: \"soc\" in x)]\n",
    "resid_df = resid_df[[\"city_state\", \"id\", \"r_mean\"]]"
   ]
  },
  {
   "cell_type": "code",
   "execution_count": 102,
   "id": "10ae09ee",
   "metadata": {},
   "outputs": [
    {
     "data": {
      "text/html": [
       "<div>\n",
       "<style scoped>\n",
       "    .dataframe tbody tr th:only-of-type {\n",
       "        vertical-align: middle;\n",
       "    }\n",
       "\n",
       "    .dataframe tbody tr th {\n",
       "        vertical-align: top;\n",
       "    }\n",
       "\n",
       "    .dataframe thead th {\n",
       "        text-align: right;\n",
       "    }\n",
       "</style>\n",
       "<table border=\"1\" class=\"dataframe\">\n",
       "  <thead>\n",
       "    <tr style=\"text-align: right;\">\n",
       "      <th></th>\n",
       "      <th>city_state</th>\n",
       "      <th>id</th>\n",
       "      <th>r_mean</th>\n",
       "      <th>clean_loc</th>\n",
       "      <th>map_loc</th>\n",
       "      <th>soc_code</th>\n",
       "    </tr>\n",
       "  </thead>\n",
       "  <tbody>\n",
       "    <tr>\n",
       "      <th>0</th>\n",
       "      <td>new york NY</td>\n",
       "      <td>soc_43</td>\n",
       "      <td>3958.0</td>\n",
       "      <td>new york</td>\n",
       "      <td>new york newark jersey city</td>\n",
       "      <td>43</td>\n",
       "    </tr>\n",
       "    <tr>\n",
       "      <th>1</th>\n",
       "      <td>los angeles CA</td>\n",
       "      <td>soc_43</td>\n",
       "      <td>2682.0</td>\n",
       "      <td>los angeles</td>\n",
       "      <td>los angeles long beach anaheim</td>\n",
       "      <td>43</td>\n",
       "    </tr>\n",
       "    <tr>\n",
       "      <th>2</th>\n",
       "      <td>houston TX</td>\n",
       "      <td>soc_43</td>\n",
       "      <td>-2423.0</td>\n",
       "      <td>houston</td>\n",
       "      <td>houston the woodlands sugar land</td>\n",
       "      <td>43</td>\n",
       "    </tr>\n",
       "    <tr>\n",
       "      <th>3</th>\n",
       "      <td>chicago IL</td>\n",
       "      <td>soc_43</td>\n",
       "      <td>-390.0</td>\n",
       "      <td>chicago</td>\n",
       "      <td>chicago naperville elgin</td>\n",
       "      <td>43</td>\n",
       "    </tr>\n",
       "    <tr>\n",
       "      <th>4</th>\n",
       "      <td>dallas TX</td>\n",
       "      <td>soc_43</td>\n",
       "      <td>-2088.0</td>\n",
       "      <td>dallas</td>\n",
       "      <td>dallas fort worth arlington</td>\n",
       "      <td>43</td>\n",
       "    </tr>\n",
       "  </tbody>\n",
       "</table>\n",
       "</div>"
      ],
      "text/plain": [
       "       city_state      id  r_mean    clean_loc  \\\n",
       "0     new york NY  soc_43  3958.0     new york   \n",
       "1  los angeles CA  soc_43  2682.0  los angeles   \n",
       "2      houston TX  soc_43 -2423.0      houston   \n",
       "3      chicago IL  soc_43  -390.0      chicago   \n",
       "4       dallas TX  soc_43 -2088.0       dallas   \n",
       "\n",
       "                            map_loc  soc_code  \n",
       "0       new york newark jersey city        43  \n",
       "1    los angeles long beach anaheim        43  \n",
       "2  houston the woodlands sugar land        43  \n",
       "3          chicago naperville elgin        43  \n",
       "4       dallas fort worth arlington        43  "
      ]
     },
     "metadata": {},
     "output_type": "display_data"
    },
    {
     "data": {
      "text/html": [
       "<div>\n",
       "<style scoped>\n",
       "    .dataframe tbody tr th:only-of-type {\n",
       "        vertical-align: middle;\n",
       "    }\n",
       "\n",
       "    .dataframe tbody tr th {\n",
       "        vertical-align: top;\n",
       "    }\n",
       "\n",
       "    .dataframe thead th {\n",
       "        text-align: right;\n",
       "    }\n",
       "</style>\n",
       "<table border=\"1\" class=\"dataframe\">\n",
       "  <thead>\n",
       "    <tr style=\"text-align: right;\">\n",
       "      <th></th>\n",
       "      <th>area_title</th>\n",
       "      <th>occ_title</th>\n",
       "      <th>occ_code</th>\n",
       "      <th>a_mean</th>\n",
       "      <th>clean_loc</th>\n",
       "      <th>map_loc</th>\n",
       "      <th>soc_code</th>\n",
       "    </tr>\n",
       "  </thead>\n",
       "  <tbody>\n",
       "    <tr>\n",
       "      <th>1</th>\n",
       "      <td>Abilene, TX</td>\n",
       "      <td>Management Occupations</td>\n",
       "      <td>11-0000</td>\n",
       "      <td>90500</td>\n",
       "      <td>abilene</td>\n",
       "      <td>abilene</td>\n",
       "      <td>11</td>\n",
       "    </tr>\n",
       "    <tr>\n",
       "      <th>18</th>\n",
       "      <td>Abilene, TX</td>\n",
       "      <td>Business and Financial Operations Occupations</td>\n",
       "      <td>13-0000</td>\n",
       "      <td>67520</td>\n",
       "      <td>abilene</td>\n",
       "      <td>abilene</td>\n",
       "      <td>13</td>\n",
       "    </tr>\n",
       "    <tr>\n",
       "      <th>36</th>\n",
       "      <td>Abilene, TX</td>\n",
       "      <td>Computer and Mathematical Occupations</td>\n",
       "      <td>15-0000</td>\n",
       "      <td>62970</td>\n",
       "      <td>abilene</td>\n",
       "      <td>abilene</td>\n",
       "      <td>15</td>\n",
       "    </tr>\n",
       "    <tr>\n",
       "      <th>44</th>\n",
       "      <td>Abilene, TX</td>\n",
       "      <td>Architecture and Engineering Occupations</td>\n",
       "      <td>17-0000</td>\n",
       "      <td>72440</td>\n",
       "      <td>abilene</td>\n",
       "      <td>abilene</td>\n",
       "      <td>17</td>\n",
       "    </tr>\n",
       "    <tr>\n",
       "      <th>54</th>\n",
       "      <td>Abilene, TX</td>\n",
       "      <td>Life, Physical, and Social Science Occupations</td>\n",
       "      <td>19-0000</td>\n",
       "      <td>58360</td>\n",
       "      <td>abilene</td>\n",
       "      <td>abilene</td>\n",
       "      <td>19</td>\n",
       "    </tr>\n",
       "  </tbody>\n",
       "</table>\n",
       "</div>"
      ],
      "text/plain": [
       "     area_title                                       occ_title occ_code  \\\n",
       "1   Abilene, TX                          Management Occupations  11-0000   \n",
       "18  Abilene, TX   Business and Financial Operations Occupations  13-0000   \n",
       "36  Abilene, TX           Computer and Mathematical Occupations  15-0000   \n",
       "44  Abilene, TX        Architecture and Engineering Occupations  17-0000   \n",
       "54  Abilene, TX  Life, Physical, and Social Science Occupations  19-0000   \n",
       "\n",
       "   a_mean clean_loc  map_loc  soc_code  \n",
       "1   90500   abilene  abilene        11  \n",
       "18  67520   abilene  abilene        13  \n",
       "36  62970   abilene  abilene        15  \n",
       "44  72440   abilene  abilene        17  \n",
       "54  58360   abilene  abilene        19  "
      ]
     },
     "metadata": {},
     "output_type": "display_data"
    }
   ],
   "source": [
    "def clean_loc(text): \n",
    "    text = \" \".join(text.split(\" \")[:-1])\n",
    "    text = text.replace(\"-\", \" \")\n",
    "    text = re.sub(r\"[^a-zA-Z0-9 ]\", \"\", text)\n",
    "    return text.lower().strip()\n",
    "\n",
    "def city_map(val, vals):\n",
    "\n",
    "    for v in vals:\n",
    "        if val in v:\n",
    "            return v\n",
    "\n",
    "resid_df[\"clean_loc\"] = resid_df[\"city_state\"].map(clean_loc)\n",
    "oes_df[\"clean_loc\"] = oes_df[\"area_title\"].map(clean_loc)\n",
    "\n",
    "oes_df[\"map_loc\"] = oes_df[\"clean_loc\"]\n",
    "resid_df[\"map_loc\"] = resid_df[\"clean_loc\"].map(lambda x: city_map(x, oes_df[\"clean_loc\"].unique()))\n",
    "\n",
    "resid_df[\"soc_code\"] = resid_df[\"id\"].map(lambda x: int(x.split(\"_\")[1]))\n",
    "oes_df[\"soc_code\"] = oes_df[\"occ_code\"].map(lambda x: int(x.split(\"-\")[0]))\n",
    "\n",
    "resid_df = resid_df[resid_df[\"map_loc\"].notnull()]\n",
    "oes_df = oes_df[oes_df[\"map_loc\"].notnull()]\n",
    "\n",
    "display(resid_df.head())\n",
    "display(oes_df.head())"
   ]
  },
  {
   "cell_type": "code",
   "execution_count": 103,
   "id": "fd4cfb95",
   "metadata": {},
   "outputs": [
    {
     "name": "stdout",
     "output_type": "stream",
     "text": [
      "OES MSA by Occ Pairs:  8645\n",
      "Resid City by Occ Pairs:  710\n"
     ]
    }
   ],
   "source": [
    "print(\"OES MSA by Occ Pairs: \", len(oes_df))\n",
    "print(\"Resid City by Occ Pairs: \", len(resid_df))"
   ]
  },
  {
   "cell_type": "code",
   "execution_count": null,
   "id": "4cb56666",
   "metadata": {},
   "outputs": [],
   "source": [
    "cmb_df = resid_df.merge(\n",
    "    oes_df,\n",
    "    on = [\"map_loc\", \"soc_code\"],\n",
    "    how=\"left\",\n",
    ")"
   ]
  },
  {
   "cell_type": "code",
   "execution_count": null,
   "id": "4be288b1",
   "metadata": {},
   "outputs": [
    {
     "data": {
      "text/html": [
       "<div>\n",
       "<style scoped>\n",
       "    .dataframe tbody tr th:only-of-type {\n",
       "        vertical-align: middle;\n",
       "    }\n",
       "\n",
       "    .dataframe tbody tr th {\n",
       "        vertical-align: top;\n",
       "    }\n",
       "\n",
       "    .dataframe thead th {\n",
       "        text-align: right;\n",
       "    }\n",
       "</style>\n",
       "<table border=\"1\" class=\"dataframe\">\n",
       "  <thead>\n",
       "    <tr style=\"text-align: right;\">\n",
       "      <th></th>\n",
       "      <th>map_loc</th>\n",
       "      <th>soc_code</th>\n",
       "      <th>occ_title</th>\n",
       "      <th>residuals</th>\n",
       "      <th>oes_est</th>\n",
       "    </tr>\n",
       "  </thead>\n",
       "  <tbody>\n",
       "    <tr>\n",
       "      <th>0</th>\n",
       "      <td>albuquerque</td>\n",
       "      <td>11</td>\n",
       "      <td>Management</td>\n",
       "      <td>-6190.0</td>\n",
       "      <td>107400.0</td>\n",
       "    </tr>\n",
       "    <tr>\n",
       "      <th>1</th>\n",
       "      <td>albuquerque</td>\n",
       "      <td>13</td>\n",
       "      <td>Business and Financial Operations</td>\n",
       "      <td>-6482.0</td>\n",
       "      <td>70120.0</td>\n",
       "    </tr>\n",
       "    <tr>\n",
       "      <th>2</th>\n",
       "      <td>albuquerque</td>\n",
       "      <td>15</td>\n",
       "      <td>Computer and Mathematical</td>\n",
       "      <td>-8015.0</td>\n",
       "      <td>79330.0</td>\n",
       "    </tr>\n",
       "    <tr>\n",
       "      <th>3</th>\n",
       "      <td>albuquerque</td>\n",
       "      <td>25</td>\n",
       "      <td>Educational Instruction and Library</td>\n",
       "      <td>-6249.0</td>\n",
       "      <td>53370.0</td>\n",
       "    </tr>\n",
       "    <tr>\n",
       "      <th>4</th>\n",
       "      <td>albuquerque</td>\n",
       "      <td>29</td>\n",
       "      <td>Healthcare Practitioners and Technical</td>\n",
       "      <td>-7055.0</td>\n",
       "      <td>86020.0</td>\n",
       "    </tr>\n",
       "    <tr>\n",
       "      <th>...</th>\n",
       "      <td>...</td>\n",
       "      <td>...</td>\n",
       "      <td>...</td>\n",
       "      <td>...</td>\n",
       "      <td>...</td>\n",
       "    </tr>\n",
       "    <tr>\n",
       "      <th>595</th>\n",
       "      <td>wichita</td>\n",
       "      <td>35</td>\n",
       "      <td>Food Preparation and Serving Related</td>\n",
       "      <td>-5552.0</td>\n",
       "      <td>22300.0</td>\n",
       "    </tr>\n",
       "    <tr>\n",
       "      <th>596</th>\n",
       "      <td>wichita</td>\n",
       "      <td>39</td>\n",
       "      <td>Personal Care and Service</td>\n",
       "      <td>-6646.0</td>\n",
       "      <td>28670.0</td>\n",
       "    </tr>\n",
       "    <tr>\n",
       "      <th>597</th>\n",
       "      <td>wichita</td>\n",
       "      <td>41</td>\n",
       "      <td>Sales and Related</td>\n",
       "      <td>-4351.0</td>\n",
       "      <td>39360.0</td>\n",
       "    </tr>\n",
       "    <tr>\n",
       "      <th>598</th>\n",
       "      <td>wichita</td>\n",
       "      <td>43</td>\n",
       "      <td>Office and Administrative Support</td>\n",
       "      <td>-5701.0</td>\n",
       "      <td>36980.0</td>\n",
       "    </tr>\n",
       "    <tr>\n",
       "      <th>599</th>\n",
       "      <td>wichita</td>\n",
       "      <td>53</td>\n",
       "      <td>Transportation and Material Moving</td>\n",
       "      <td>-4662.0</td>\n",
       "      <td>35420.0</td>\n",
       "    </tr>\n",
       "  </tbody>\n",
       "</table>\n",
       "<p>600 rows × 5 columns</p>\n",
       "</div>"
      ],
      "text/plain": [
       "         map_loc  soc_code                               occ_title  residuals  \\\n",
       "0    albuquerque        11                              Management    -6190.0   \n",
       "1    albuquerque        13       Business and Financial Operations    -6482.0   \n",
       "2    albuquerque        15               Computer and Mathematical    -8015.0   \n",
       "3    albuquerque        25     Educational Instruction and Library    -6249.0   \n",
       "4    albuquerque        29  Healthcare Practitioners and Technical    -7055.0   \n",
       "..           ...       ...                                     ...        ...   \n",
       "595      wichita        35    Food Preparation and Serving Related    -5552.0   \n",
       "596      wichita        39               Personal Care and Service    -6646.0   \n",
       "597      wichita        41                       Sales and Related    -4351.0   \n",
       "598      wichita        43       Office and Administrative Support    -5701.0   \n",
       "599      wichita        53      Transportation and Material Moving    -4662.0   \n",
       "\n",
       "      oes_est  \n",
       "0    107400.0  \n",
       "1     70120.0  \n",
       "2     79330.0  \n",
       "3     53370.0  \n",
       "4     86020.0  \n",
       "..        ...  \n",
       "595   22300.0  \n",
       "596   28670.0  \n",
       "597   39360.0  \n",
       "598   36980.0  \n",
       "599   35420.0  \n",
       "\n",
       "[600 rows x 5 columns]"
      ]
     },
     "execution_count": 113,
     "metadata": {},
     "output_type": "execute_result"
    }
   ],
   "source": []
  },
  {
   "cell_type": "code",
   "execution_count": 123,
   "id": "b4a951c4",
   "metadata": {},
   "outputs": [
    {
     "data": {
      "text/html": [
       "<div>\n",
       "<style scoped>\n",
       "    .dataframe tbody tr th:only-of-type {\n",
       "        vertical-align: middle;\n",
       "    }\n",
       "\n",
       "    .dataframe tbody tr th {\n",
       "        vertical-align: top;\n",
       "    }\n",
       "\n",
       "    .dataframe thead th {\n",
       "        text-align: right;\n",
       "    }\n",
       "</style>\n",
       "<table border=\"1\" class=\"dataframe\">\n",
       "  <thead>\n",
       "    <tr style=\"text-align: right;\">\n",
       "      <th></th>\n",
       "      <th>city_state</th>\n",
       "      <th>id</th>\n",
       "      <th>r_mean</th>\n",
       "      <th>clean_loc</th>\n",
       "      <th>map_loc</th>\n",
       "      <th>soc_code</th>\n",
       "    </tr>\n",
       "  </thead>\n",
       "  <tbody>\n",
       "    <tr>\n",
       "      <th>18</th>\n",
       "      <td>portland OR</td>\n",
       "      <td>soc_43</td>\n",
       "      <td>0.0</td>\n",
       "      <td>portland</td>\n",
       "      <td>portland vancouver hillsboro</td>\n",
       "      <td>43</td>\n",
       "    </tr>\n",
       "    <tr>\n",
       "      <th>18</th>\n",
       "      <td>portland OR</td>\n",
       "      <td>soc_41</td>\n",
       "      <td>0.0</td>\n",
       "      <td>portland</td>\n",
       "      <td>portland vancouver hillsboro</td>\n",
       "      <td>41</td>\n",
       "    </tr>\n",
       "    <tr>\n",
       "      <th>18</th>\n",
       "      <td>portland OR</td>\n",
       "      <td>soc_53</td>\n",
       "      <td>0.0</td>\n",
       "      <td>portland</td>\n",
       "      <td>portland vancouver hillsboro</td>\n",
       "      <td>53</td>\n",
       "    </tr>\n",
       "    <tr>\n",
       "      <th>18</th>\n",
       "      <td>portland OR</td>\n",
       "      <td>soc_11</td>\n",
       "      <td>0.0</td>\n",
       "      <td>portland</td>\n",
       "      <td>portland vancouver hillsboro</td>\n",
       "      <td>11</td>\n",
       "    </tr>\n",
       "    <tr>\n",
       "      <th>18</th>\n",
       "      <td>portland OR</td>\n",
       "      <td>soc_29</td>\n",
       "      <td>0.0</td>\n",
       "      <td>portland</td>\n",
       "      <td>portland vancouver hillsboro</td>\n",
       "      <td>29</td>\n",
       "    </tr>\n",
       "    <tr>\n",
       "      <th>18</th>\n",
       "      <td>portland OR</td>\n",
       "      <td>soc_35</td>\n",
       "      <td>0.0</td>\n",
       "      <td>portland</td>\n",
       "      <td>portland vancouver hillsboro</td>\n",
       "      <td>35</td>\n",
       "    </tr>\n",
       "    <tr>\n",
       "      <th>18</th>\n",
       "      <td>portland OR</td>\n",
       "      <td>soc_13</td>\n",
       "      <td>0.0</td>\n",
       "      <td>portland</td>\n",
       "      <td>portland vancouver hillsboro</td>\n",
       "      <td>13</td>\n",
       "    </tr>\n",
       "    <tr>\n",
       "      <th>18</th>\n",
       "      <td>portland OR</td>\n",
       "      <td>soc_15</td>\n",
       "      <td>0.0</td>\n",
       "      <td>portland</td>\n",
       "      <td>portland vancouver hillsboro</td>\n",
       "      <td>15</td>\n",
       "    </tr>\n",
       "    <tr>\n",
       "      <th>18</th>\n",
       "      <td>portland OR</td>\n",
       "      <td>soc_25</td>\n",
       "      <td>0.0</td>\n",
       "      <td>portland</td>\n",
       "      <td>portland vancouver hillsboro</td>\n",
       "      <td>25</td>\n",
       "    </tr>\n",
       "    <tr>\n",
       "      <th>18</th>\n",
       "      <td>portland OR</td>\n",
       "      <td>soc_39</td>\n",
       "      <td>0.0</td>\n",
       "      <td>portland</td>\n",
       "      <td>portland vancouver hillsboro</td>\n",
       "      <td>39</td>\n",
       "    </tr>\n",
       "  </tbody>\n",
       "</table>\n",
       "</div>"
      ],
      "text/plain": [
       "     city_state      id  r_mean clean_loc                       map_loc  \\\n",
       "18  portland OR  soc_43     0.0  portland  portland vancouver hillsboro   \n",
       "18  portland OR  soc_41     0.0  portland  portland vancouver hillsboro   \n",
       "18  portland OR  soc_53     0.0  portland  portland vancouver hillsboro   \n",
       "18  portland OR  soc_11     0.0  portland  portland vancouver hillsboro   \n",
       "18  portland OR  soc_29     0.0  portland  portland vancouver hillsboro   \n",
       "18  portland OR  soc_35     0.0  portland  portland vancouver hillsboro   \n",
       "18  portland OR  soc_13     0.0  portland  portland vancouver hillsboro   \n",
       "18  portland OR  soc_15     0.0  portland  portland vancouver hillsboro   \n",
       "18  portland OR  soc_25     0.0  portland  portland vancouver hillsboro   \n",
       "18  portland OR  soc_39     0.0  portland  portland vancouver hillsboro   \n",
       "\n",
       "    soc_code  \n",
       "18        43  \n",
       "18        41  \n",
       "18        53  \n",
       "18        11  \n",
       "18        29  \n",
       "18        35  \n",
       "18        13  \n",
       "18        15  \n",
       "18        25  \n",
       "18        39  "
      ]
     },
     "execution_count": 123,
     "metadata": {},
     "output_type": "execute_result"
    }
   ],
   "source": [
    "resid_df[resid_df[\"city_state\"].map(lambda x: \"portland\" in x.lower())]"
   ]
  },
  {
   "cell_type": "code",
   "execution_count": null,
   "id": "6253113c",
   "metadata": {},
   "outputs": [
    {
     "name": "stdout",
     "output_type": "stream",
     "text": [
      "Overall R2:  0.3930253994888768\n"
     ]
    },
    {
     "data": {
      "application/vnd.plotly.v1+json": {
       "config": {
        "plotlyServerURL": "https://plot.ly"
       },
       "data": [
        {
         "marker": {
          "line": {
           "color": "DarkSlateGrey",
           "width": 1
          },
          "size": 5
         },
         "mode": "markers",
         "name": "Management",
         "type": "scatter",
         "x": {
          "bdata": "AAAAAACav8AAAAAAgL3SwAAAAAAAI8RAAAAAAACuxcAAAAAAAOy9QAAAAAAAhMdAAAAAAAAAZMAAAAAAACjZQAAAAAAAbrlAAAAAAABAykAAAAAAAB/NQAAAAAAAesJAAAAAAABwl0AAAAAAANDbwAAAAAAA9KVAYFVVVVUJrcAAAAAAABnJQAAAAAAAFtxAAAAAAABIwkAAAAAAgAnSQAAAAACAftDAAAAAAAB3wMAAAAAAAOiiQAAAAAAAi8VAAAAAAADcucAAAAAAACCMQAAAAAAAaKDAAAAAAIC90kAAAAAAAJXKwAAAAAAAgKFAAAAAAABixsAAAAAAAECKwAAAAAAAGMVAAAAAAAA6y0AAAAAAAIa1wAAAAAAANr/AAAAAAICU6EAAAAAAAFPBwAAAAAAAIcHAAAAAAADnw8AAAAAAAJvZQAAAAAAAPKTAAAAAAABuuUAAAAAAAAAAAAAAAAAAbs5AAAAAAABgncAAAAAAANitQAAAAAAAHsnAAAAAAACQmsAAAAAAgCzSQAAAAADAL+VAAAAAAMDd60AAAAAAgJTYQAAAAAAAWKHAAAAAAACzz8AAAAAAAGiwwAAAAAAAgKHAAAAAAABInEAAAAAAgEbhQAAAAAAAbsnA",
          "dtype": "f8"
         },
         "y": {
          "bdata": "AAAAAAAuuMAAAAAAAMm0wAAAAAAA8HDAAAAAAAAyq8AAAAAAAHCjwAAAAAAAZJDAAAAAAAA8qsAAAAAAAI2zQAAAAAAA4q3AAAAAAAA1tsAAAAAAALyowAAAAAAArKNAAAAAAAA6ssAAAAAAANmwwAAAAAAArLDAAAAAAABUqsAAAAAAAIAvQAAAAAAAUHDAAAAAAAC2qcAAAAAAAAaowAAAAAAA0bvAAAAAAAAAkEAAAAAAAFy0wAAAAAAAyIlAAAAAAAC7ssAAAAAAACG1wAAAAAAA7qbAq6qqqqo/uUAAAAAAAHOzwAAAAAAA1qrAAAAAAAC0ssAAAAAAAPOiwAAAAAAAQKPAAAAAAABwisAAAAAAAOKrwAAAAAAAR7TAAAAAAACsv0AAAAAAANm1wAAAAAAAIrbAAAAAAACRt8AAAAAAAKiSQAAAAAAAVKXAAAAAAABHtcAAAAAAAAAAAAAAAAAAKKzAAAAAAAATsUAAAAAAAJKwQAAAAAAAiLXAAAAAAAC6qcAAAAAAAOymQAAAAAAAjsxAAAAAAAC10EAAAAAAAASzQAAAAAAAMbTAAAAAAAAftcAAAAAAAMO4wAAAAAAA4GZAAAAAAAAsscAAAAAAAJy1QAAAAAAAz7rA",
          "dtype": "f8"
         }
        },
        {
         "marker": {
          "line": {
           "color": "DarkSlateGrey",
           "width": 1
          },
          "size": 5
         },
         "mode": "markers",
         "name": "Business and Financial Operations",
         "type": "scatter",
         "x": {
          "bdata": "AAAAAADIucAAAAAAAODKwAAAAAAAkI9AAAAAAABWw8AAAAAAALiawAAAAAAAeK5AAAAAAACkoMAAAAAAAEDKQAAAAAAAKLTAAAAAAIC22UAAAAAAAHaxQAAAAAAA/KJAAAAAAACwqMAAAAAAAFXOwAAAAAAAuJXAAAAAAAAOtcAAAAAAAHStQAAAAAAAmLxAAAAAAACgjkAAAAAAALC9QAAAAAAABsjAAAAAAACVxcAAAAAAACy1wAAAAAAAorxAAAAAAABMuMAAAAAAAOShwAAAAAAA+r7AAAAAAACCtEAAAAAAAA3BwAAAAAAA0LbAAAAAAABwx8AAAAAAAH6zwAAAAAAASrXAAAAAAAAgnEAAAAAAACjEwAAAAAAAssHAAAAAAAAm1kAAAAAAAAPBwAAAAAAATL3AAAAAAAAYv8AAAAAAAEy4QAAAAAAAwrrAAAAAAABgncAAAAAAAAAAAAAAAAAA4HDAAAAAAADku8AAAAAAAMCHQAAAAAAAL8LAAAAAAABUr8AAAAAAAASlQAAAAACA0NNAAAAAAIAM1EAAAAAAAN/GQAAAAAAABL/AAAAAAAAoucAAAAAAAFnAwAAAAAAAaKrAAAAAAABYkcAAAAAAgMfSQAAAAAAAd8DA",
          "dtype": "f8"
         },
         "y": {
          "bdata": "AAAAAABSucAAAAAAANC0wAAAAAAAkIjAAAAAAACOrMAAAAAAAGKnwAAAAAAAiJrAAAAAAAB4sMAAAAAAAESvQAAAAAAA8K/AAAAAAAB2t8AAAAAAAPyowAAAAAAAHJRAAAAAAADZs8AAAAAAAFazwAAAAAAANbHAAAAAAAAEq8AAAAAAALyHwAAAAAAARIrAAAAAAADoq8AAAAAAAI6rwAAAAAAAnbvAAAAAAAAAT0AAAAAAAFy1wAAAAAAAMIDAAAAAAAApssAAAAAAAEi2wAAAAAAAlKvAq6qqqqpIskAAAAAAAJK0wAAAAAAAXqzAAAAAAAAxtMAAAAAAANSlwAAAAAAAOKrAAAAAAAC8kMAAAAAAAOKvwAAAAAAABbTAAAAAAADmuUAAAAAAANW3wAAAAAAAl7bAAAAAAAD0uMAAAAAAALiAQKuqqqqqIKfAAAAAAADytsAAAAAAAAAAAAAAAAAAZq/AAAAAAADkpkAAAAAAAGSjQAAAAAAA1rPAAAAAAABercAAAAAAAGScQAAAAACAqMdAAAAAAADfy0AAAAAAABSvQAAAAAAAGLXAAAAAAADItsAAAAAAAHq4wAAAAAAAPJDAAAAAAAAFssAAAAAAAIyyQAAAAAAACrvA",
          "dtype": "f8"
         }
        },
        {
         "marker": {
          "line": {
           "color": "DarkSlateGrey",
           "width": 1
          },
          "size": 5
         },
         "mode": "markers",
         "name": "Computer and Mathematical",
         "type": "scatter",
         "x": {
          "bdata": "AAAAAABPysAAAAAAAFfXwAAAAAAAOJ3AAAAAAABkzsAAAAAAAEicwAAAAAAAi8VAAAAAAAD1xMAAAAAAADPDQAAAAAAACs7AAAAAAACcw0AAAAAAAKB0wAAAAAAAQJrAAAAAAACst8AAAAAAgEffwAAAAAAAmKdAUFVVVVXFv8AAAAAAAMiZQAAAAAAAOrtAAAAAAADmvsAAAAAAAJiiQAAAAAAAstbAAAAAAIA108AAAAAAAJXFwAAAAAAACKtAAAAAAAA8xMAAAAAAAE/FwAAAAAAAPszAAAAAAABAtUAAAAAAAAnQwAAAAAAAGr3AAAAAAIA01MAAAAAAAB7EwAAAAAAAVcTAAAAAAABAcEAAAAAAABHMwAAAAACABdHAAAAAAAAXy0AAAAAAAF3RwAAAAAAAWcXAAAAAAAAIwcAAAAAAABiVQAAAAAAAeLnAAAAAAAAAxMAAAAAAAAAAAAAAAAAAYJNAAAAAAADkwcAAAAAAAHyqQAAAAAAANMLAAAAAAABGucAAAAAAAM/CQAAAAACAFd9AAAAAAMAD5EAAAAAAAOnbQAAAAAAAmsDAAAAAAABAxcAAAAAAANzUwAAAAAAAK8bAAAAAAADutsAAAAAAAPDOQAAAAAAA/tXA",
          "dtype": "f8"
         },
         "y": {
          "bdata": "AAAAAABPv8AAAAAAAPO5wAAAAAAAKIDAAAAAAABIq8AAAAAAALSmwAAAAAAAkJPAAAAAAAA/ssAAAAAAAIi3QAAAAAAAA7fAAAAAAAB2wMAAAAAAAOapwAAAAAAAoqRAAAAAAADot8AAAAAAANG6wAAAAAAAPLfAAAAAAABYscAAAAAAANRyQAAAAAAAKpDAAAAAAABfscAAAAAAAKKmwAAAAAAAQcHAAAAAAABQfkAAAAAAAH24wAAAAAAAwIBAAAAAAADxtsAAAAAAAHm8wAAAAAAAqq/Aq6qqqqp/u0AAAAAAAD+2wAAAAAAAI7TAAAAAAAAhusAAAAAAAHKpwAAAAAAA6LHAAAAAAADskcAAAAAAAHS1wAAAAAAAXbzAAAAAAAAAvkAAAAAAgCnAwAAAAAAAGr3AAAAAAAAtv8AAAAAAAOCUQAAAAAAAPq7AAAAAAACJvsAAAAAAAAAAAAAAAAAA+KrAAAAAAAD7s0AAAAAAANyxQAAAAAAAk7rAAAAAAAB+rcAAAAAAAPyoQAAAAACAMM9AAAAAAEB+00AAAAAAAA66QAAAAAAAarvAAAAAAACSv8AAAAAAAFG9wAAAAAAADJLAAAAAAICMtcAAAAAAAM+5QAAAAAAA1sHA",
          "dtype": "f8"
         }
        },
        {
         "marker": {
          "line": {
           "color": "DarkSlateGrey",
           "width": 1
          },
          "size": 5
         },
         "mode": "markers",
         "name": "Educational Instruction and Library",
         "type": "scatter",
         "x": {
          "bdata": "AAAAAACxx8AAAAAAADTMwAAAAAAA8sfAAAAAAABnwcAAAAAAAA3GwAAAAAAACKtAAAAAAAAKvsAAAAAAALqzQAAAAAAAYrvAAAAAAADex8AAAAAAAOfTwAAAAAAAEL3AAAAAAAAGs8AAAAAAgKzUwAAAAAAALc7AVFVVVVWJz8AAAAAAACvLwAAAAAAArLLAAAAAAAAGuMAAAAAAAJDAQAAAAAAAmLzAAAAAAABUoMAAAAAAACzPwAAAAAAAqMHAAAAAAAD+ysAAAAAAABjPwAAAAAAA0MvAAAAAAACUsUAAAAAAABTOwAAAAAAAU8HAAAAAAABCyMAAAAAAAD7HwAAAAAAAk8fAAAAAAACMucAAAAAAAGDIwAAAAAAAO9DAAAAAAADSvkAAAAAAANjTwAAAAAAA4sPAAAAAAAChzcAAAAAAAKCewAAAAAAA9NDAAAAAAADAd8AAAAAAAAAAAAAAAAAAlcrAAAAAAAD4m0AAAAAAAHCXwAAAAAAA2L3AAAAAAIB+0MAAAAAAAEBqwAAAAAAANLJAAAAAAADMsEAAAAAAAPCuwAAAAAAAz8zAAAAAAAA2ysAAAAAAAJvUwAAAAAAA6MLAAAAAAAByusAAAAAAAICbQAAAAACAZ9PA",
          "dtype": "f8"
         },
         "y": {
          "bdata": "AAAAAABpuMAAAAAAAEa2wAAAAAAADqfAAAAAAADErcAAAAAAAAStwAAAAAAAPqLAAAAAAACnscAAAAAAAIKjQAAAAAAAsKrAAAAAAADotsAAAAAAADuxwAAAAAAA8HbAAAAAAAAIs8AAAAAAAP2zwAAAAAAAErDAAAAAAABWsMAAAAAAAOahwAAAAAAAUpTAAAAAAABMrMAAAAAAAHKxwAAAAAAAcLnAAAAAAAAIicAAAAAAAGq4wAAAAAAAnqPAAAAAAABMtMAAAAAAALKzwAAAAAAAsKzAAAAAAAAoqUAAAAAAAGW0wAAAAAAABqzAAAAAAAADtcAAAAAAAPeqwAAAAAAAIKzAAAAAAAC4nMAAAAAAAF+wwAAAAAAAILTAAAAAAADYtUAAAAAAAEK3wAAAAAAApbPAAAAAAAAxt8AAAAAAAHybwAAAAAAATK3AAAAAAADKs8AAAAAAAAAAAAAAAAAADLLAAAAAAACupEAAAAAAABicQAAAAAAA2LPAAAAAAAC+ssAAAAAAAFCJQAAAAABA+MNAAAAAAIDBx0AAAAAAAOatQAAAAAAAd7bAAAAAAADts8AAAAAAAKW4wAAAAAAAsJLAAAAAAIAMtcAAAAAAACKkQAAAAAAAGLvA",
          "dtype": "f8"
         }
        },
        {
         "marker": {
          "line": {
           "color": "DarkSlateGrey",
           "width": 1
          },
          "size": 5
         },
         "mode": "markers",
         "name": "Healthcare Practitioners and Technical",
         "type": "scatter",
         "x": {
          "bdata": "AAAAAABhx8AAAAAAgPvfwAAAAAAAqc/AAAAAAIAZ28AAAAAAAIHQwAAAAAAA1srAAAAAAIBF3MAAAAAAAHyqQAAAAACAutDAAAAAAIAm3cAAAAAAgH7VwAAAAAAAhMzAAAAAAID+0sAAAAAAQJbgwAAAAAAA89HAVFVVVdXB1sAAAAAAALPPwAAAAAAAp8fAAAAAAABVzsAAAAAAAO7WwAAAAAAA1trAAAAAAACAVkAAAAAAAPjRwAAAAAAAMs7AAAAAAABXzMAAAAAAACzVwAAAAAAAFLnAAAAAAADwhEAAAAAAgNPawAAAAACAiNDAAAAAAAAo2cAAAAAAgE7TwAAAAAAAWMbAAAAAAAA4uMAAAAAAgBjXwAAAAACATdnAAAAAAABAlUAAAAAAAGbXwAAAAAAAk9LAAAAAAACT18AAAAAAAEXFwAAAAAAA7sHAAAAAAADf28AAAAAAAAAAAAAAAACAM9DAAAAAAACgdEAAAAAAAE7GQAAAAAAA0dXAAAAAAAAx1cAAAAAAAACeQAAAAACA9dFAAAAAAAAY2kAAAAAAAJCaQAAAAAAAp9LAAAAAAAC4ysAAAAAAABbSwAAAAAAAYcJAAAAAAICf0sAAAAAAAOCFwAAAAACAatrA",
          "dtype": "f8"
         },
         "y": {
          "bdata": "AAAAAACPu8AAAAAAAPS8wAAAAAAAlKXAAAAAAAALuMAAAAAAAM2zwAAAAAAARKjAAAAAAAChtsAAAAAAAK6rQAAAAAAATbbAAAAAAAAmv8AAAAAAAB65wAAAAAAAkHvAAAAAAACAvMAAAAAAANq4wAAAAAAAEbjAAAAAAABwtcAAAAAAgFulwAAAAAAANaDAAAAAAABYtMAAAAAAAHC4wAAAAACArMDAAAAAAACYi8AAAAAAADbAwAAAAAAAtJ3AAAAAAAB7usAAAAAAAMq/wAAAAAAA7K7Aq6qqqqrGsUAAAAAAAI29wAAAAAAAtLLAAAAAAABHvcAAAAAAgECxwAAAAAAA1LHAAAAAAADOocAAAAAAAIS0wAAAAAAAmL7AAAAAAACys0AAAAAAANm+wAAAAAAA0rzAAAAAAAAkw8AAAAAAAFSUwAAAAAAAb7HAAAAAAADUv8AAAAAAAAAAAAAAAAAAgbzAAAAAAACqrEAAAAAAADSoQAAAAAAAhLzAAAAAAABStcAAAAAAACCWQAAAAABAushAAAAAAACpzUAAAAAAAKSoQAAAAAAAjLzAAAAAAAD3u8AAAAAAAL7AwAAAAAAAKIDAAAAAAAAgvsAAAAAAAPirQAAAAACAxsLA",
          "dtype": "f8"
         }
        },
        {
         "marker": {
          "line": {
           "color": "DarkSlateGrey",
           "width": 1
          },
          "size": 5
         },
         "mode": "markers",
         "name": "Food Preparation and Serving Related",
         "type": "scatter",
         "x": {
          "bdata": "AAAAAAAUvsAAAAAAAALCwAAAAAAADLzAAAAAAADawcAAAAAAABiwwAAAAAAAoKnAAAAAAADSvsAAAAAAAASgQAAAAAAAKJnAAAAAAACcs8AAAAAAADi4wAAAAAAAdrHAAAAAAADsuMAAAAAAAKjBwAAAAAAAmKfArKqqqqoIvMAAAAAAABi6wAAAAAAAoJnAAAAAAAAMssAAAAAAAKKywAAAAAAAKsLAAAAAAABolcAAAAAAADa/wAAAAAAAXLfAAAAAAADyt8AAAAAAALS0wAAAAAAAfKXAAAAAAABwgsAAAAAAAJq6wAAAAAAAwrXAAAAAAADgv8AAAAAAAA6wwAAAAAAAZLnAAAAAAAAolMAAAAAAAHy6wAAAAAAALL/AAAAAAAAYpUAAAAAAAJi8wAAAAAAAArLAAAAAAADQscAAAAAAAISswAAAAAAAwGdAAAAAAADis8AAAAAAAAAAAAAAAAAAjrLAAAAAAABgncAAAAAAAECawAAAAAAAYLjAAAAAAABetcAAAAAAAICBQAAAAAAAtLRAAAAAAAAUpEAAAAAAADq2QAAAAAAAarPAAAAAAABwh8AAAAAAAHfAwAAAAAAA8L5AAAAAAAAyucAAAAAAAAA+wAAAAAAA1r/A",
          "dtype": "f8"
         },
         "y": {
          "bdata": "AAAAAABatMAAAAAAAPCxwAAAAAAA5qfAAAAAAAAXsMAAAAAAAEqmwAAAAAAA8qPAAAAAAABcs8AAAAAAAEiYQAAAAAAA7qbAAAAAAABzs8AAAAAAAA6wwAAAAAAAKJLAAAAAAABur8AAAAAAAI6xwAAAAAAA7KnAAAAAAADMq8AAAAAAgJenwAAAAAAADpDAAAAAAAC+rMAAAAAAAEmxwAAAAAAACLfAAAAAAAA0nsAAAAAAAGK1wAAAAAAARKzAAAAAAAAGsMAAAAAAAEaxwAAAAAAA4q7AVVVVVVWVfUAAAAAAAE+wwAAAAAAAOqXAAAAAAABfs8AAAAAAAAetwAAAAAAAWqvAAAAAAABEk8AAAAAAAGiqwAAAAAAAerDAAAAAAABuqUAAAAAAAAi0wAAAAAAAMK/AAAAAAADys8AAAAAAAJ6iwFVVVVVVaaXAAAAAAADsr8AAAAAAAAAAAAAAAAAA/7DAAAAAAAB0mMAAAAAAAKiFwAAAAAAAZKzAAAAAAAARscAAAAAAAEBwQAAAAAAAnrlAAAAAAAA1tkAAAAAAABauQAAAAAAA4bHAAAAAAAAArMAAAAAAADG2wAAAAAAArJDAAAAAAABSs8AAAAAAAJCUQAAAAAAAsLXA",
          "dtype": "f8"
         }
        },
        {
         "marker": {
          "line": {
           "color": "DarkSlateGrey",
           "width": 1
          },
          "size": 5
         },
         "mode": "markers",
         "name": "Personal Care and Service",
         "type": "scatter",
         "x": {
          "bdata": "AAAAAACCucAAAAAAAJfDwAAAAAAAiLPAAAAAAACuv8AAAAAAAEytwAAAAAAAKJTAAAAAAAAevsAAAAAAAGqzQAAAAAAAhKfAAAAAAAA4rcAAAAAAAFq5wAAAAAAAjKTAAAAAAAD0usAAAAAAAPjBwAAAAAAA/KLAAAAAAACSvcAAAAAAAB60wAAAAAAAoHTAAAAAAABqs8AAAAAAACi0wAAAAAAAZsLAAAAAAABwnMAAAAAAACHBwAAAAAAAWLbAAAAAAABsu8AAAAAAAPS1wAAAAAAADLfAAAAAAABgc8AAAAAAANy0wAAAAAAATKPAAAAAAACMvsAAAAAAAH6zwAAAAAAAwLLAAAAAAADAnMAAAAAAAJa0wAAAAAAA4MDAAAAAAADso0AAAAAAAFi7wAAAAAAA4rPAAAAAAABIt8AAAAAAACiuwAAAAAAAUKTAAAAAAADqusAAAAAAAAAAAAAAAAAAGrPAAAAAAADol8AAAAAAAOicwAAAAAAAoLTAAAAAAAAEv8AAAAAAAACJwAAAAAAAmLJAAAAAAAAEqkAAAAAAANC7QAAAAAAAtrfAAAAAAACQn8AAAAAAAKq5wAAAAAAA4H/AAAAAAABKusAAAAAAALCDwAAAAAAAILfA",
          "dtype": "f8"
         },
         "y": {
          "bdata": "AAAAAABWuMAAAAAAAC20wAAAAAAAlKnAAAAAAADnscAAAAAAAMqqwAAAAAAAYqbAAAAAAAD1tcAAAAAAAJCbQAAAAAAA9KrAAAAAAACMtsAAAAAAAFWywAAAAAAAGJHAAAAAAACTssAAAAAAADS0wAAAAAAA0KzAAAAAAACar8AAAAAAANCpwAAAAAAA4JHAAAAAAABUsMAAAAAAACOzwAAAAAAAQbvAAAAAAAAWocAAAAAAAH24wAAAAAAAOq3AAAAAAABvssAAAAAAAGi0wAAAAAAAqbDAAAAAAACYiEAAAAAAAJSzwAAAAAAACKnAAAAAAACrtsAAAAAAAOyvwAAAAAAAuK7AAAAAAAAEmMAAAAAAADiuwAAAAAAAJbPAAAAAAABvsEAAAAAAALm3wAAAAAAAjLLAAAAAAACNtsAAAAAAAFijwFVVVVVV46jAAAAAAABNssAAAAAAAAAAAAAAAAAAcLPAAAAAAAB0lcAAAAAAAGB3wAAAAAAAMLDAAAAAAAAftMAAAAAAALB0QAAAAACAlb9AAAAAAABFvEAAAAAAACCwQAAAAAAAprTAAAAAAABisMAAAAAAAJC5wAAAAAAAcJLAAAAAAACWtsAAAAAAAOSWQAAAAAAA9rnA",
          "dtype": "f8"
         }
        },
        {
         "marker": {
          "line": {
           "color": "DarkSlateGrey",
           "width": 1
          },
          "size": 5
         },
         "mode": "markers",
         "name": "Sales and Related",
         "type": "scatter",
         "x": {
          "bdata": "AAAAAABhx8AAAAAAADvPwAAAAAAAXLLAAAAAAAA4zcAAAAAAANCLwAAAAAAAwKLAAAAAAABCuMAAAAAAAO62QAAAAAAA8LnAAAAAAAB5yMAAAAAAAOB6QAAAAAAA0JvAAAAAAACgnsAAAAAAADjNwAAAAAAAfK/ArKqqqqr+wcAAAAAAAAyiwAAAAAAABMBAAAAAAADgoMAAAAAAAOCQQAAAAAAAS87AAAAAAAAyvsAAAAAAAEy4wAAAAAAAsKjAAAAAAACAdsAAAAAAAOiswAAAAAAA68TAAAAAAABokMAAAAAAAAi7wAAAAAAAvKbAAAAAAADau8AAAAAAAJS2wAAAAAAAgHZAAAAAAACgmUAAAAAAAOCwwAAAAAAA5sTAAAAAAABGxEAAAAAAAC69wAAAAAAAwrXAAAAAAACZwcAAAAAAAEBqQAAAAAAA4LDAAAAAAAAYtcAAAAAAAAAAAAAAAAAA4HBAAAAAAADovMAAAAAAADiowAAAAAAAEKjAAAAAAABAv8AAAAAAAMipwAAAAAAAXMJAAAAAAADcyUAAAAAAAHy1QAAAAAAAKLTAAAAAAAC8xsAAAAAAAHi5wAAAAAAAIrrAAAAAAABjxcAAAAAAAOBwwAAAAAAAmr/A",
          "dtype": "f8"
         },
         "y": {
          "bdata": "AAAAAAADsMAAAAAAAGSmwAAAAAAAgIPAAAAAAABQo8AAAAAAAIidwAAAAAAAKI/AAAAAAADOpsAAAAAAAFahQAAAAAAAhqPAAAAAAADWrMAAAAAAAEyhwAAAAAAASIRAAAAAAABCpsAAAAAAAPalwAAAAAAA2qHAAAAAAABQoMAAAAAAAMiKwAAAAAAAIHbAAAAAAAAuoMAAAAAAANKjwAAAAAAAOLHAAAAAAABwdcAAAAAAAFyrwAAAAAAAuIXAAAAAAABOpsAAAAAAANiqwAAAAAAAIKLAq6qqqqrOoEAAAAAAADSowAAAAAAAQJvAAAAAAAAwqcAAAAAAAFKawAAAAAAA3J7AAAAAAACgecAAAAAAAAiewAAAAAAAeqbAAAAAAABxsUAAAAAAAMSrwAAAAAAAOq3AAAAAAADArsAAAAAAAEBewFVVVVVVCZrAAAAAAABKq8AAAAAAAAAAAAAAAAAAdKTAAAAAAABQe0AAAAAAAMCFQAAAAAAAMKfAAAAAAABupMAAAAAAAFCKQAAAAAAAibtAAAAAAADJukAAAAAAAMSiQAAAAAAA+qfAAAAAAABop8AAAAAAAGqwwAAAAAAAgG/AAAAAAADGpsAAAAAAAKKiQAAAAAAA/7DA",
          "dtype": "f8"
         }
        },
        {
         "marker": {
          "line": {
           "color": "DarkSlateGrey",
           "width": 1
          },
          "size": 5
         },
         "mode": "markers",
         "name": "Office and Administrative Support",
         "type": "scatter",
         "x": {
          "bdata": "AAAAAAD0usAAAAAAAInCwAAAAAAAWKvAAAAAAAASwcAAAAAAAGilwAAAAAAAgHFAAAAAAAAKtMAAAAAAALS0QAAAAAAAPKTAAAAAAAAwlsAAAAAAAPynwAAAAAAAkIXAAAAAAAC4qsAAAAAAAEbEwAAAAAAAnLPAqKqqqqoAtcAAAAAAAHCnwAAAAAAA4JVAAAAAAACMpMAAAAAAAICWwAAAAAAAC8jAAAAAAAB8pcAAAAAAAF61wAAAAAAAtKTAAAAAAACQqsAAAAAAABCtwAAAAAAA6LfAAAAAAACImEAAAAAAAM64wAAAAAAAUKTAAAAAAADItMAAAAAAAGKxwAAAAAAADKLAAAAAAAAolEAAAAAAAHipwAAAAAAA8LnAAAAAAAAsr0AAAAAAAAC5wAAAAAAAirHAAAAAAABquMAAAAAAAIBmwAAAAAAA6KfAAAAAAACkr8AAAAAAAAAAAAAAAAAAdrHAAAAAAAAgl8AAAAAAAGB9QAAAAAAArLLAAAAAAACwuMAAAAAAAOB/QAAAAAAAicJAAAAAAACBwEAAAAAAAByxQAAAAAAAHrTAAAAAAADwucAAAAAAAIa1wAAAAAAAAFlAAAAAAADStMAAAAAAAHaxQAAAAAAApLrA",
          "dtype": "f8"
         },
         "y": {
          "bdata": "AAAAAACvtcAAAAAAACaywAAAAAAArqDAAAAAAAC6rMAAAAAAAECmwAAAAAAA2qDAAAAAAAC/scAAAAAAADCeQAAAAAAA5qXAAAAAAAAgs8AAAAAAAP6swAAAAAAAYHjAAAAAAADor8AAAAAAAFixwAAAAAAA9qnAAAAAAAD4qcAAAAAAgMOgwAAAAAAA2IfAAAAAAAAYqsAAAAAAAFSuwAAAAAAAabjAAAAAAACUkcAAAAAAAKK0wAAAAAAA7qLAAAAAAADgrsAAAAAAADKxwAAAAAAADK7AVVVVVVWNmEAAAAAAABmxwAAAAAAAwKXAAAAAAADXssAAAAAAAOSpwAAAAAAA4qjAAAAAAABwksAAAAAAAEqqwAAAAAAAv7DAAAAAAADsrkAAAAAAALOzwAAAAAAAZrDAAAAAAAB4tcAAAAAAAOSVwFVVVVVVV6XAAAAAAACHsMAAAAAAAAAAAAAAAAAAgK7AAAAAAACATEAAAAAAAEBbQAAAAAAAPK7AAAAAAABosMAAAAAAAEiCQAAAAACAQ71AAAAAAAC5vkAAAAAAAE6mQAAAAAAAGLLAAAAAAABasMAAAAAAAG62wAAAAAAAkJLAAAAAAAAIssAAAAAAAHifQAAAAAAARbbA",
          "dtype": "f8"
         }
        },
        {
         "marker": {
          "line": {
           "color": "DarkSlateGrey",
           "width": 1
          },
          "size": 5
         },
         "mode": "markers",
         "name": "Transportation and Material Moving",
         "type": "scatter",
         "x": {
          "bdata": "AAAAAAA6tsAAAAAAAFjBwAAAAAAASrDAAAAAAAC9wMAAAAAAAHC3wAAAAAAAgJHAAAAAAACWtMAAAAAAAACOQAAAAAAAfrPAAAAAAABAcMAAAAAAADa1wAAAAAAA4H/AAAAAAAAStsAAAAAAAEPCwAAAAAAARLbAqKqqqqp+ucAAAAAAAJCFQAAAAAAALK9AAAAAAADAbMAAAAAAAFS/wAAAAAAA9L/AAAAAAADAssAAAAAAAOK4wAAAAAAACJbAAAAAAACKtsAAAAAAAF6wwAAAAAAAoJTAAAAAAADAksAAAAAAAABOQAAAAAAACKvAAAAAAACSs8AAAAAAAPSgwAAAAAAAlLHAAAAAAACokUAAAAAAANq2wAAAAAAAmJLAAAAAAADol0AAAAAAAKKywAAAAAAAQKrAAAAAAADStMAAAAAAADawwAAAAAAAcKLAAAAAAAAQqMAAAAAAAAAAAAAAAAAAwLzAAAAAAADwqcAAAAAAAFynwAAAAAAA0IbAAAAAAAAWt8AAAAAAACylwAAAAAAA6rpAAAAAAAAomUAAAAAAACvBQAAAAAAAbLvAAAAAAAD2uMAAAAAAANizwAAAAAAApMBAAAAAAAA+ssAAAAAAAGB9QAAAAAAAgrTA",
          "dtype": "f8"
         },
         "y": {
          "bdata": "AAAAAAA+sMAAAAAAAGCswAAAAAAA6J/AAAAAAABUqMAAAAAAAHqiwAAAAAAALJ7AAAAAAACyrsAAAAAAACCOQAAAAAAA4qPAAAAAAADAr8AAAAAAALqowAAAAAAAMI7AAAAAAABap8AAAAAAAAaqwAAAAAAAGqTAAAAAAADGpMAAAAAAACKhwAAAAAAAlIvAAAAAAAA4pMAAAAAAAJqrwAAAAAAAU7PAAAAAAACwl8AAAAAAAISwwAAAAAAAQKTAAAAAAADqqMAAAAAAAMipwAAAAAAAwqfAq6qqqqrKYEAAAAAAADyqwAAAAAAAhqDAAAAAAACsrsAAAAAAAK2lwAAAAAAA8KLAAAAAAACkk8AAAAAAAIakwAAAAAAACKrAAAAAAAA4nkAAAAAAAFStwAAAAAAA9KjAAAAAAACTsMAAAAAAAFyZwAAAAAAAwKHAAAAAAABeqMAAAAAAAAAAAAAAAAAAMqrAAAAAAAAUk8AAAAAAAGCGwAAAAAAADKXAAAAAAADOq8AAAAAAAEBfwAAAAAAAhrFAAAAAAACPsUAAAAAAALqgQAAAAAAAnqzAAAAAAACMp8AAAAAAAEaxwAAAAAAAiJPAAAAAAACQrcAAAAAAAECPQAAAAAAANrLA",
          "dtype": "f8"
         }
        },
        {
         "line": {
          "color": "red",
          "width": 2
         },
         "mode": "lines",
         "name": "Line of Equality",
         "type": "scatter",
         "x": {
          "bdata": "AAAAAACI48DzdobEvAnjwObtDIl5i+LA2WSTTTYN4sDM2xkS847hwL9SoNavEOHAsskmm2yS4MCmQK1fKRTgwDFvZ0jMK9/AGF100UUv3sD+SoFavzLdwOQ4juM4NtzAyiabbLI528CwFKj1Kz3awJYCtX6lQNnAfPDBBx9E2MBi3s6QmEfXwEnM2xkSS9bAL7roootO1cAVqPUrBVLUwPuVArV+VdPA4YMPPvhY0sDHcRzHcVzRwK5fKVDrX9DAKJtsssnGzsD0dobEvM3MwMBSoNav1MrAjC666KLbyMBYCtT6leLGwCbm7QyJ6cTA8sEHH3zwwsC+nSExb/fAwBTzdobE/L3AsKqqqqoKusBIYt7OkBi2wOAZEvN2JrLA8KKLLrporMAgEvN2hoSkwKACtX6lQJnAAMIHH3zwgsCAArV+pUB5QEBi3s6QGJZA8MEHH3zwokDAUqDWr9SqQMhxHMdxXLFAKLroootOtUCQArV+pUC5QPhKgVq/Mr1AsMkmm2ySwEDk7QyJeYvCQBgS83aGhMRATDbZZJN9xkCAWr9SoHbIQLR+pUCtb8pA6KKLLrpozEAcx3Ecx2HOQKj1KwVqLdBAwgcffPAp0UDaGRLzdibSQPQrBWr9ItNADj744IMf1EAoUOtXChzVQEJi3s6QGNZAXHTRRRcV10B2hsS8nRHYQJCYtzMkDtlAqKqqqqoK2kDEvJ0hMQfbQNzOkJi3A9xA+OCDDz4A3UAQ83aGxPzdQCwFav1K+d5ARBdddNH130CwFKj1K3ngQLydITFv9+BAyiabbLJ14UDWrxSo9fPhQOI4juM4cuJA8MEHH3zw4kD8SoFav27jQArU+pUC7eNAFl100UVr5EAk5u0MienkQDBvZ0jMZ+VAPvjggw/m5UBKgVq/UmTmQFgK1PqV4uZAZJNNNtlg50ByHMdxHN/nQH6lQK1fXehAii666KLb6ECYtzMk5lnpQKRArV8p2OlAsskmm2xW6kC+UqDWr9TqQMzbGRLzUutA2GSTTTbR60Dm7QyJeU/sQPJ2hsS8zexAAAAAAABM7UA=",
          "dtype": "f8"
         },
         "y": {
          "bdata": "AAAAAACI48DzdobEvAnjwObtDIl5i+LA2WSTTTYN4sDM2xkS847hwL9SoNavEOHAsskmm2yS4MCmQK1fKRTgwDFvZ0jMK9/AGF100UUv3sD+SoFavzLdwOQ4juM4NtzAyiabbLI528CwFKj1Kz3awJYCtX6lQNnAfPDBBx9E2MBi3s6QmEfXwEnM2xkSS9bAL7roootO1cAVqPUrBVLUwPuVArV+VdPA4YMPPvhY0sDHcRzHcVzRwK5fKVDrX9DAKJtsssnGzsD0dobEvM3MwMBSoNav1MrAjC666KLbyMBYCtT6leLGwCbm7QyJ6cTA8sEHH3zwwsC+nSExb/fAwBTzdobE/L3AsKqqqqoKusBIYt7OkBi2wOAZEvN2JrLA8KKLLrporMAgEvN2hoSkwKACtX6lQJnAAMIHH3zwgsCAArV+pUB5QEBi3s6QGJZA8MEHH3zwokDAUqDWr9SqQMhxHMdxXLFAKLroootOtUCQArV+pUC5QPhKgVq/Mr1AsMkmm2ySwEDk7QyJeYvCQBgS83aGhMRATDbZZJN9xkCAWr9SoHbIQLR+pUCtb8pA6KKLLrpozEAcx3Ecx2HOQKj1KwVqLdBAwgcffPAp0UDaGRLzdibSQPQrBWr9ItNADj744IMf1EAoUOtXChzVQEJi3s6QGNZAXHTRRRcV10B2hsS8nRHYQJCYtzMkDtlAqKqqqqoK2kDEvJ0hMQfbQNzOkJi3A9xA+OCDDz4A3UAQ83aGxPzdQCwFav1K+d5ARBdddNH130CwFKj1K3ngQLydITFv9+BAyiabbLJ14UDWrxSo9fPhQOI4juM4cuJA8MEHH3zw4kD8SoFav27jQArU+pUC7eNAFl100UVr5EAk5u0MienkQDBvZ0jMZ+VAPvjggw/m5UBKgVq/UmTmQFgK1PqV4uZAZJNNNtlg50ByHMdxHN/nQH6lQK1fXehAii666KLb6ECYtzMk5lnpQKRArV8p2OlAsskmm2xW6kC+UqDWr9TqQMzbGRLzUutA2GSTTTbR60Dm7QyJeU/sQPJ2hsS8zexAAAAAAABM7UA=",
          "dtype": "f8"
         }
        }
       ],
       "layout": {
        "annotations": [
         {
          "font": {
           "size": 16
          },
          "showarrow": false,
          "text": "Overall R2: 0.39",
          "x": 0.1,
          "xref": "paper",
          "y": 0.95,
          "yref": "paper"
         }
        ],
        "height": 600,
        "legend": {
         "title": {
          "text": "Occupation"
         }
        },
        "template": {
         "data": {
          "bar": [
           {
            "error_x": {
             "color": "#2a3f5f"
            },
            "error_y": {
             "color": "#2a3f5f"
            },
            "marker": {
             "line": {
              "color": "#E5ECF6",
              "width": 0.5
             },
             "pattern": {
              "fillmode": "overlay",
              "size": 10,
              "solidity": 0.2
             }
            },
            "type": "bar"
           }
          ],
          "barpolar": [
           {
            "marker": {
             "line": {
              "color": "#E5ECF6",
              "width": 0.5
             },
             "pattern": {
              "fillmode": "overlay",
              "size": 10,
              "solidity": 0.2
             }
            },
            "type": "barpolar"
           }
          ],
          "carpet": [
           {
            "aaxis": {
             "endlinecolor": "#2a3f5f",
             "gridcolor": "white",
             "linecolor": "white",
             "minorgridcolor": "white",
             "startlinecolor": "#2a3f5f"
            },
            "baxis": {
             "endlinecolor": "#2a3f5f",
             "gridcolor": "white",
             "linecolor": "white",
             "minorgridcolor": "white",
             "startlinecolor": "#2a3f5f"
            },
            "type": "carpet"
           }
          ],
          "choropleth": [
           {
            "colorbar": {
             "outlinewidth": 0,
             "ticks": ""
            },
            "type": "choropleth"
           }
          ],
          "contour": [
           {
            "colorbar": {
             "outlinewidth": 0,
             "ticks": ""
            },
            "colorscale": [
             [
              0,
              "#0d0887"
             ],
             [
              0.1111111111111111,
              "#46039f"
             ],
             [
              0.2222222222222222,
              "#7201a8"
             ],
             [
              0.3333333333333333,
              "#9c179e"
             ],
             [
              0.4444444444444444,
              "#bd3786"
             ],
             [
              0.5555555555555556,
              "#d8576b"
             ],
             [
              0.6666666666666666,
              "#ed7953"
             ],
             [
              0.7777777777777778,
              "#fb9f3a"
             ],
             [
              0.8888888888888888,
              "#fdca26"
             ],
             [
              1,
              "#f0f921"
             ]
            ],
            "type": "contour"
           }
          ],
          "contourcarpet": [
           {
            "colorbar": {
             "outlinewidth": 0,
             "ticks": ""
            },
            "type": "contourcarpet"
           }
          ],
          "heatmap": [
           {
            "colorbar": {
             "outlinewidth": 0,
             "ticks": ""
            },
            "colorscale": [
             [
              0,
              "#0d0887"
             ],
             [
              0.1111111111111111,
              "#46039f"
             ],
             [
              0.2222222222222222,
              "#7201a8"
             ],
             [
              0.3333333333333333,
              "#9c179e"
             ],
             [
              0.4444444444444444,
              "#bd3786"
             ],
             [
              0.5555555555555556,
              "#d8576b"
             ],
             [
              0.6666666666666666,
              "#ed7953"
             ],
             [
              0.7777777777777778,
              "#fb9f3a"
             ],
             [
              0.8888888888888888,
              "#fdca26"
             ],
             [
              1,
              "#f0f921"
             ]
            ],
            "type": "heatmap"
           }
          ],
          "histogram": [
           {
            "marker": {
             "pattern": {
              "fillmode": "overlay",
              "size": 10,
              "solidity": 0.2
             }
            },
            "type": "histogram"
           }
          ],
          "histogram2d": [
           {
            "colorbar": {
             "outlinewidth": 0,
             "ticks": ""
            },
            "colorscale": [
             [
              0,
              "#0d0887"
             ],
             [
              0.1111111111111111,
              "#46039f"
             ],
             [
              0.2222222222222222,
              "#7201a8"
             ],
             [
              0.3333333333333333,
              "#9c179e"
             ],
             [
              0.4444444444444444,
              "#bd3786"
             ],
             [
              0.5555555555555556,
              "#d8576b"
             ],
             [
              0.6666666666666666,
              "#ed7953"
             ],
             [
              0.7777777777777778,
              "#fb9f3a"
             ],
             [
              0.8888888888888888,
              "#fdca26"
             ],
             [
              1,
              "#f0f921"
             ]
            ],
            "type": "histogram2d"
           }
          ],
          "histogram2dcontour": [
           {
            "colorbar": {
             "outlinewidth": 0,
             "ticks": ""
            },
            "colorscale": [
             [
              0,
              "#0d0887"
             ],
             [
              0.1111111111111111,
              "#46039f"
             ],
             [
              0.2222222222222222,
              "#7201a8"
             ],
             [
              0.3333333333333333,
              "#9c179e"
             ],
             [
              0.4444444444444444,
              "#bd3786"
             ],
             [
              0.5555555555555556,
              "#d8576b"
             ],
             [
              0.6666666666666666,
              "#ed7953"
             ],
             [
              0.7777777777777778,
              "#fb9f3a"
             ],
             [
              0.8888888888888888,
              "#fdca26"
             ],
             [
              1,
              "#f0f921"
             ]
            ],
            "type": "histogram2dcontour"
           }
          ],
          "mesh3d": [
           {
            "colorbar": {
             "outlinewidth": 0,
             "ticks": ""
            },
            "type": "mesh3d"
           }
          ],
          "parcoords": [
           {
            "line": {
             "colorbar": {
              "outlinewidth": 0,
              "ticks": ""
             }
            },
            "type": "parcoords"
           }
          ],
          "pie": [
           {
            "automargin": true,
            "type": "pie"
           }
          ],
          "scatter": [
           {
            "fillpattern": {
             "fillmode": "overlay",
             "size": 10,
             "solidity": 0.2
            },
            "type": "scatter"
           }
          ],
          "scatter3d": [
           {
            "line": {
             "colorbar": {
              "outlinewidth": 0,
              "ticks": ""
             }
            },
            "marker": {
             "colorbar": {
              "outlinewidth": 0,
              "ticks": ""
             }
            },
            "type": "scatter3d"
           }
          ],
          "scattercarpet": [
           {
            "marker": {
             "colorbar": {
              "outlinewidth": 0,
              "ticks": ""
             }
            },
            "type": "scattercarpet"
           }
          ],
          "scattergeo": [
           {
            "marker": {
             "colorbar": {
              "outlinewidth": 0,
              "ticks": ""
             }
            },
            "type": "scattergeo"
           }
          ],
          "scattergl": [
           {
            "marker": {
             "colorbar": {
              "outlinewidth": 0,
              "ticks": ""
             }
            },
            "type": "scattergl"
           }
          ],
          "scattermap": [
           {
            "marker": {
             "colorbar": {
              "outlinewidth": 0,
              "ticks": ""
             }
            },
            "type": "scattermap"
           }
          ],
          "scattermapbox": [
           {
            "marker": {
             "colorbar": {
              "outlinewidth": 0,
              "ticks": ""
             }
            },
            "type": "scattermapbox"
           }
          ],
          "scatterpolar": [
           {
            "marker": {
             "colorbar": {
              "outlinewidth": 0,
              "ticks": ""
             }
            },
            "type": "scatterpolar"
           }
          ],
          "scatterpolargl": [
           {
            "marker": {
             "colorbar": {
              "outlinewidth": 0,
              "ticks": ""
             }
            },
            "type": "scatterpolargl"
           }
          ],
          "scatterternary": [
           {
            "marker": {
             "colorbar": {
              "outlinewidth": 0,
              "ticks": ""
             }
            },
            "type": "scatterternary"
           }
          ],
          "surface": [
           {
            "colorbar": {
             "outlinewidth": 0,
             "ticks": ""
            },
            "colorscale": [
             [
              0,
              "#0d0887"
             ],
             [
              0.1111111111111111,
              "#46039f"
             ],
             [
              0.2222222222222222,
              "#7201a8"
             ],
             [
              0.3333333333333333,
              "#9c179e"
             ],
             [
              0.4444444444444444,
              "#bd3786"
             ],
             [
              0.5555555555555556,
              "#d8576b"
             ],
             [
              0.6666666666666666,
              "#ed7953"
             ],
             [
              0.7777777777777778,
              "#fb9f3a"
             ],
             [
              0.8888888888888888,
              "#fdca26"
             ],
             [
              1,
              "#f0f921"
             ]
            ],
            "type": "surface"
           }
          ],
          "table": [
           {
            "cells": {
             "fill": {
              "color": "#EBF0F8"
             },
             "line": {
              "color": "white"
             }
            },
            "header": {
             "fill": {
              "color": "#C8D4E3"
             },
             "line": {
              "color": "white"
             }
            },
            "type": "table"
           }
          ]
         },
         "layout": {
          "annotationdefaults": {
           "arrowcolor": "#2a3f5f",
           "arrowhead": 0,
           "arrowwidth": 1
          },
          "autotypenumbers": "strict",
          "coloraxis": {
           "colorbar": {
            "outlinewidth": 0,
            "ticks": ""
           }
          },
          "colorscale": {
           "diverging": [
            [
             0,
             "#8e0152"
            ],
            [
             0.1,
             "#c51b7d"
            ],
            [
             0.2,
             "#de77ae"
            ],
            [
             0.3,
             "#f1b6da"
            ],
            [
             0.4,
             "#fde0ef"
            ],
            [
             0.5,
             "#f7f7f7"
            ],
            [
             0.6,
             "#e6f5d0"
            ],
            [
             0.7,
             "#b8e186"
            ],
            [
             0.8,
             "#7fbc41"
            ],
            [
             0.9,
             "#4d9221"
            ],
            [
             1,
             "#276419"
            ]
           ],
           "sequential": [
            [
             0,
             "#0d0887"
            ],
            [
             0.1111111111111111,
             "#46039f"
            ],
            [
             0.2222222222222222,
             "#7201a8"
            ],
            [
             0.3333333333333333,
             "#9c179e"
            ],
            [
             0.4444444444444444,
             "#bd3786"
            ],
            [
             0.5555555555555556,
             "#d8576b"
            ],
            [
             0.6666666666666666,
             "#ed7953"
            ],
            [
             0.7777777777777778,
             "#fb9f3a"
            ],
            [
             0.8888888888888888,
             "#fdca26"
            ],
            [
             1,
             "#f0f921"
            ]
           ],
           "sequentialminus": [
            [
             0,
             "#0d0887"
            ],
            [
             0.1111111111111111,
             "#46039f"
            ],
            [
             0.2222222222222222,
             "#7201a8"
            ],
            [
             0.3333333333333333,
             "#9c179e"
            ],
            [
             0.4444444444444444,
             "#bd3786"
            ],
            [
             0.5555555555555556,
             "#d8576b"
            ],
            [
             0.6666666666666666,
             "#ed7953"
            ],
            [
             0.7777777777777778,
             "#fb9f3a"
            ],
            [
             0.8888888888888888,
             "#fdca26"
            ],
            [
             1,
             "#f0f921"
            ]
           ]
          },
          "colorway": [
           "#636efa",
           "#EF553B",
           "#00cc96",
           "#ab63fa",
           "#FFA15A",
           "#19d3f3",
           "#FF6692",
           "#B6E880",
           "#FF97FF",
           "#FECB52"
          ],
          "font": {
           "color": "#2a3f5f"
          },
          "geo": {
           "bgcolor": "white",
           "lakecolor": "white",
           "landcolor": "#E5ECF6",
           "showlakes": true,
           "showland": true,
           "subunitcolor": "white"
          },
          "hoverlabel": {
           "align": "left"
          },
          "hovermode": "closest",
          "mapbox": {
           "style": "light"
          },
          "paper_bgcolor": "white",
          "plot_bgcolor": "#E5ECF6",
          "polar": {
           "angularaxis": {
            "gridcolor": "white",
            "linecolor": "white",
            "ticks": ""
           },
           "bgcolor": "#E5ECF6",
           "radialaxis": {
            "gridcolor": "white",
            "linecolor": "white",
            "ticks": ""
           }
          },
          "scene": {
           "xaxis": {
            "backgroundcolor": "#E5ECF6",
            "gridcolor": "white",
            "gridwidth": 2,
            "linecolor": "white",
            "showbackground": true,
            "ticks": "",
            "zerolinecolor": "white"
           },
           "yaxis": {
            "backgroundcolor": "#E5ECF6",
            "gridcolor": "white",
            "gridwidth": 2,
            "linecolor": "white",
            "showbackground": true,
            "ticks": "",
            "zerolinecolor": "white"
           },
           "zaxis": {
            "backgroundcolor": "#E5ECF6",
            "gridcolor": "white",
            "gridwidth": 2,
            "linecolor": "white",
            "showbackground": true,
            "ticks": "",
            "zerolinecolor": "white"
           }
          },
          "shapedefaults": {
           "line": {
            "color": "#2a3f5f"
           }
          },
          "ternary": {
           "aaxis": {
            "gridcolor": "white",
            "linecolor": "white",
            "ticks": ""
           },
           "baxis": {
            "gridcolor": "white",
            "linecolor": "white",
            "ticks": ""
           },
           "bgcolor": "#E5ECF6",
           "caxis": {
            "gridcolor": "white",
            "linecolor": "white",
            "ticks": ""
           }
          },
          "title": {
           "x": 0.05
          },
          "xaxis": {
           "automargin": true,
           "gridcolor": "white",
           "linecolor": "white",
           "ticks": "",
           "title": {
            "standoff": 15
           },
           "zerolinecolor": "white",
           "zerolinewidth": 2
          },
          "yaxis": {
           "automargin": true,
           "gridcolor": "white",
           "linecolor": "white",
           "ticks": "",
           "title": {
            "standoff": 15
           },
           "zerolinecolor": "white",
           "zerolinewidth": 2
          }
         }
        },
        "title": {
         "text": "Residuals vs OES Estimates by MSA-Occupation"
        },
        "width": 800,
        "xaxis": {
         "range": [
          -40000,
          60000
         ],
         "title": {
          "text": "OES Estimates"
         }
        },
        "yaxis": {
         "range": [
          -40000,
          60000
         ],
         "title": {
          "text": "Residuals"
         }
        }
       }
      }
     },
     "metadata": {},
     "output_type": "display_data"
    }
   ],
   "source": [
    "cmb_df2 = cmb_df.groupby([\"map_loc\", \"soc_code\", \"occ_title\"]).agg({\"r_mean\": \"mean\", \"a_mean\": \"mean\"}).reset_index()\n",
    "cmb_df2[\"occ_title\"] = cmb_df2[\"occ_title\"].map(lambda x: \" \".join(x.split(\" \")[:-1]))\n",
    "cmb_df2.rename(columns={\"r_mean\": \"residuals\", \"a_mean\": \"oes_est\"}, inplace=True)\n",
    "cmb_df2[\"residuals\"] = cmb_df2[\"residuals\"].astype(float)\n",
    "cmb_df2[\"oes_est\"] = cmb_df2[\"oes_est\"].astype(float)\n",
    "\n",
    "for occ in cmb_df2[\"occ_title\"].unique():\n",
    "    # remove the value for portland from the oes_est\n",
    "    portland_val = cmb_df2[(cmb_df2[\"occ_title\"] == occ) & (cmb_df2[\"map_loc\"].str.contains(\"portland\"))][\"oes_est\"].values[0]\n",
    "    cmb_df2.loc[cmb_df2[\"occ_title\"] == occ, \"oes_est\"] = cmb_df2[cmb_df2[\"occ_title\"] == occ][\"oes_est\"].map(lambda x: x - portland_val)\n",
    "\n",
    "# plot plotly scatter plot of residuals vs OES estimates colored by discrete occ_title with labeled legend, log both axes\n",
    "fig = go.Figure()\n",
    "for occ in cmb_df2[\"occ_title\"].unique():\n",
    "    fig.add_trace(\n",
    "        go.Scatter(\n",
    "            x = cmb_df2[cmb_df2[\"occ_title\"] == occ][\"oes_est\"],\n",
    "            y = cmb_df2[cmb_df2[\"occ_title\"] == occ][\"residuals\"],\n",
    "            mode = \"markers\",\n",
    "            name = occ,\n",
    "            marker=dict(size=5),\n",
    "        )\n",
    "    )\n",
    "fig.update_layout(\n",
    "    title=\"Residuals vs OES Estimates by MSA-Occupation\",\n",
    "    xaxis_title=\"OES Estimates\",\n",
    "    yaxis_title=\"Residuals\",\n",
    "    legend_title_text=\"Occupation\",\n",
    "    width=800,\n",
    "    height=600,\n",
    "    xaxis_range=[-40_000, 60_000],\n",
    "    yaxis_range=[-40_000, 60_000]\n",
    ")\n",
    "fig.update_traces(marker=dict(line=dict(width=1, color='DarkSlateGrey')))\n",
    "\n",
    "# create overall r2\n",
    "r2 = r2_score(cmb_df2[\"oes_est\"], cmb_df2[\"residuals\"])\n",
    "print(\"Overall R2: \", r2)\n",
    "fig.add_annotation(\n",
    "    xref=\"paper\", yref=\"paper\",\n",
    "    x=0.1, y=0.95,\n",
    "    text=f\"Overall R2: {r2:.2f}\",\n",
    "    showarrow=False,\n",
    "    font=dict(size=16)\n",
    ")\n",
    "\n",
    "# create diagonal line of equality\n",
    "x_vals = np.linspace(-40_000, 60_000, 100)\n",
    "y_vals = x_vals\n",
    "fig.add_trace(\n",
    "    go.Scatter(\n",
    "        x=x_vals,\n",
    "        y=y_vals,\n",
    "        mode=\"lines\",\n",
    "        name=\"Line of Equality\",\n",
    "        line=dict(color=\"red\", width=2),\n",
    "    )\n",
    ")\n",
    "\n",
    "fig.show()"
   ]
  },
  {
   "cell_type": "code",
   "execution_count": 141,
   "id": "ff695bf1",
   "metadata": {},
   "outputs": [
    {
     "name": "stdout",
     "output_type": "stream",
     "text": [
      "Overall R2:  0.23020752054369376\n"
     ]
    },
    {
     "data": {
      "application/vnd.plotly.v1+json": {
       "config": {
        "plotlyServerURL": "https://plot.ly"
       },
       "data": [
        {
         "marker": {
          "line": {
           "color": "DarkSlateGrey",
           "width": 1
          },
          "size": 5
         },
         "mode": "markers",
         "name": "Management",
         "type": "scatter",
         "x": {
          "bdata": "AAAAAACav8AAAAAAgL3SwAAAAAAAI8RAAAAAAACuxcAAAAAAAOy9QAAAAAAAhMdAAAAAAAAAZMAAAAAAACjZQAAAAAAAbrlAAAAAAABAykAAAAAAAB/NQAAAAAAAesJAAAAAAABwl0AAAAAAANDbwAAAAAAA9KVAYFVVVVUJrcAAAAAAABnJQAAAAAAAFtxAAAAAAABIwkAAAAAAgAnSQAAAAACAftDAAAAAAAB3wMAAAAAAAOiiQAAAAAAAi8VAAAAAAADcucAAAAAAACCMQAAAAAAAaKDAAAAAAIC90kAAAAAAAJXKwAAAAAAAgKFAAAAAAABixsAAAAAAAECKwAAAAAAAGMVAAAAAAAA6y0AAAAAAAIa1wAAAAAAANr/AAAAAAICU6EAAAAAAAFPBwAAAAAAAIcHAAAAAAADnw8AAAAAAAJvZQAAAAAAAPKTAAAAAAABuuUAAAAAAAAAAAAAAAAAAbs5AAAAAAABgncAAAAAAANitQAAAAAAAHsnAAAAAAACQmsAAAAAAgCzSQAAAAADAL+VAAAAAAMDd60AAAAAAgJTYQAAAAAAAWKHAAAAAAACzz8AAAAAAAGiwwAAAAAAAgKHAAAAAAABInEAAAAAAgEbhQAAAAAAAbsnA",
          "dtype": "f8"
         },
         "y": {
          "bdata": "AAAAAAAuuMAAAAAAAMm0wAAAAAAA8HDAAAAAAAAyq8AAAAAAAHCjwAAAAAAAZJDAAAAAAAA8qsAAAAAAAI2zQAAAAAAA4q3AAAAAAAA1tsAAAAAAALyowAAAAAAArKNAAAAAAAA6ssAAAAAAANmwwAAAAAAArLDAAAAAAABUqsAAAAAAAIAvQAAAAAAAUHDAAAAAAAC2qcAAAAAAAAaowAAAAAAA0bvAAAAAAAAAkEAAAAAAAFy0wAAAAAAAyIlAAAAAAAC7ssAAAAAAACG1wAAAAAAA7qbAq6qqqqo/uUAAAAAAAHOzwAAAAAAA1qrAAAAAAAC0ssAAAAAAAPOiwAAAAAAAQKPAAAAAAABwisAAAAAAAOKrwAAAAAAAR7TAAAAAAACsv0AAAAAAANm1wAAAAAAAIrbAAAAAAACRt8AAAAAAAKiSQAAAAAAAVKXAAAAAAABHtcAAAAAAAAAAAAAAAAAAKKzAAAAAAAATsUAAAAAAAJKwQAAAAAAAiLXAAAAAAAC6qcAAAAAAAOymQAAAAAAAjsxAAAAAAAC10EAAAAAAAASzQAAAAAAAMbTAAAAAAAAftcAAAAAAAMO4wAAAAAAA4GZAAAAAAAAsscAAAAAAAJy1QAAAAAAAz7rA",
          "dtype": "f8"
         }
        },
        {
         "line": {
          "color": "red",
          "width": 2
         },
         "mode": "lines",
         "name": "Line of Equality",
         "type": "scatter",
         "x": {
          "bdata": "AAAAAACI48DzdobEvAnjwObtDIl5i+LA2WSTTTYN4sDM2xkS847hwL9SoNavEOHAsskmm2yS4MCmQK1fKRTgwDFvZ0jMK9/AGF100UUv3sD+SoFavzLdwOQ4juM4NtzAyiabbLI528CwFKj1Kz3awJYCtX6lQNnAfPDBBx9E2MBi3s6QmEfXwEnM2xkSS9bAL7roootO1cAVqPUrBVLUwPuVArV+VdPA4YMPPvhY0sDHcRzHcVzRwK5fKVDrX9DAKJtsssnGzsD0dobEvM3MwMBSoNav1MrAjC666KLbyMBYCtT6leLGwCbm7QyJ6cTA8sEHH3zwwsC+nSExb/fAwBTzdobE/L3AsKqqqqoKusBIYt7OkBi2wOAZEvN2JrLA8KKLLrporMAgEvN2hoSkwKACtX6lQJnAAMIHH3zwgsCAArV+pUB5QEBi3s6QGJZA8MEHH3zwokDAUqDWr9SqQMhxHMdxXLFAKLroootOtUCQArV+pUC5QPhKgVq/Mr1AsMkmm2ySwEDk7QyJeYvCQBgS83aGhMRATDbZZJN9xkCAWr9SoHbIQLR+pUCtb8pA6KKLLrpozEAcx3Ecx2HOQKj1KwVqLdBAwgcffPAp0UDaGRLzdibSQPQrBWr9ItNADj744IMf1EAoUOtXChzVQEJi3s6QGNZAXHTRRRcV10B2hsS8nRHYQJCYtzMkDtlAqKqqqqoK2kDEvJ0hMQfbQNzOkJi3A9xA+OCDDz4A3UAQ83aGxPzdQCwFav1K+d5ARBdddNH130CwFKj1K3ngQLydITFv9+BAyiabbLJ14UDWrxSo9fPhQOI4juM4cuJA8MEHH3zw4kD8SoFav27jQArU+pUC7eNAFl100UVr5EAk5u0MienkQDBvZ0jMZ+VAPvjggw/m5UBKgVq/UmTmQFgK1PqV4uZAZJNNNtlg50ByHMdxHN/nQH6lQK1fXehAii666KLb6ECYtzMk5lnpQKRArV8p2OlAsskmm2xW6kC+UqDWr9TqQMzbGRLzUutA2GSTTTbR60Dm7QyJeU/sQPJ2hsS8zexAAAAAAABM7UA=",
          "dtype": "f8"
         },
         "y": {
          "bdata": "AAAAAACI48DzdobEvAnjwObtDIl5i+LA2WSTTTYN4sDM2xkS847hwL9SoNavEOHAsskmm2yS4MCmQK1fKRTgwDFvZ0jMK9/AGF100UUv3sD+SoFavzLdwOQ4juM4NtzAyiabbLI528CwFKj1Kz3awJYCtX6lQNnAfPDBBx9E2MBi3s6QmEfXwEnM2xkSS9bAL7roootO1cAVqPUrBVLUwPuVArV+VdPA4YMPPvhY0sDHcRzHcVzRwK5fKVDrX9DAKJtsssnGzsD0dobEvM3MwMBSoNav1MrAjC666KLbyMBYCtT6leLGwCbm7QyJ6cTA8sEHH3zwwsC+nSExb/fAwBTzdobE/L3AsKqqqqoKusBIYt7OkBi2wOAZEvN2JrLA8KKLLrporMAgEvN2hoSkwKACtX6lQJnAAMIHH3zwgsCAArV+pUB5QEBi3s6QGJZA8MEHH3zwokDAUqDWr9SqQMhxHMdxXLFAKLroootOtUCQArV+pUC5QPhKgVq/Mr1AsMkmm2ySwEDk7QyJeYvCQBgS83aGhMRATDbZZJN9xkCAWr9SoHbIQLR+pUCtb8pA6KKLLrpozEAcx3Ecx2HOQKj1KwVqLdBAwgcffPAp0UDaGRLzdibSQPQrBWr9ItNADj744IMf1EAoUOtXChzVQEJi3s6QGNZAXHTRRRcV10B2hsS8nRHYQJCYtzMkDtlAqKqqqqoK2kDEvJ0hMQfbQNzOkJi3A9xA+OCDDz4A3UAQ83aGxPzdQCwFav1K+d5ARBdddNH130CwFKj1K3ngQLydITFv9+BAyiabbLJ14UDWrxSo9fPhQOI4juM4cuJA8MEHH3zw4kD8SoFav27jQArU+pUC7eNAFl100UVr5EAk5u0MienkQDBvZ0jMZ+VAPvjggw/m5UBKgVq/UmTmQFgK1PqV4uZAZJNNNtlg50ByHMdxHN/nQH6lQK1fXehAii666KLb6ECYtzMk5lnpQKRArV8p2OlAsskmm2xW6kC+UqDWr9TqQMzbGRLzUutA2GSTTTbR60Dm7QyJeU/sQPJ2hsS8zexAAAAAAABM7UA=",
          "dtype": "f8"
         }
        }
       ],
       "layout": {
        "annotations": [
         {
          "font": {
           "size": 16
          },
          "showarrow": false,
          "text": "Overall R2: 0.23",
          "x": 0.1,
          "xref": "paper",
          "y": 0.95,
          "yref": "paper"
         }
        ],
        "height": 600,
        "legend": {
         "title": {
          "text": "Occupation"
         }
        },
        "template": {
         "data": {
          "bar": [
           {
            "error_x": {
             "color": "#2a3f5f"
            },
            "error_y": {
             "color": "#2a3f5f"
            },
            "marker": {
             "line": {
              "color": "#E5ECF6",
              "width": 0.5
             },
             "pattern": {
              "fillmode": "overlay",
              "size": 10,
              "solidity": 0.2
             }
            },
            "type": "bar"
           }
          ],
          "barpolar": [
           {
            "marker": {
             "line": {
              "color": "#E5ECF6",
              "width": 0.5
             },
             "pattern": {
              "fillmode": "overlay",
              "size": 10,
              "solidity": 0.2
             }
            },
            "type": "barpolar"
           }
          ],
          "carpet": [
           {
            "aaxis": {
             "endlinecolor": "#2a3f5f",
             "gridcolor": "white",
             "linecolor": "white",
             "minorgridcolor": "white",
             "startlinecolor": "#2a3f5f"
            },
            "baxis": {
             "endlinecolor": "#2a3f5f",
             "gridcolor": "white",
             "linecolor": "white",
             "minorgridcolor": "white",
             "startlinecolor": "#2a3f5f"
            },
            "type": "carpet"
           }
          ],
          "choropleth": [
           {
            "colorbar": {
             "outlinewidth": 0,
             "ticks": ""
            },
            "type": "choropleth"
           }
          ],
          "contour": [
           {
            "colorbar": {
             "outlinewidth": 0,
             "ticks": ""
            },
            "colorscale": [
             [
              0,
              "#0d0887"
             ],
             [
              0.1111111111111111,
              "#46039f"
             ],
             [
              0.2222222222222222,
              "#7201a8"
             ],
             [
              0.3333333333333333,
              "#9c179e"
             ],
             [
              0.4444444444444444,
              "#bd3786"
             ],
             [
              0.5555555555555556,
              "#d8576b"
             ],
             [
              0.6666666666666666,
              "#ed7953"
             ],
             [
              0.7777777777777778,
              "#fb9f3a"
             ],
             [
              0.8888888888888888,
              "#fdca26"
             ],
             [
              1,
              "#f0f921"
             ]
            ],
            "type": "contour"
           }
          ],
          "contourcarpet": [
           {
            "colorbar": {
             "outlinewidth": 0,
             "ticks": ""
            },
            "type": "contourcarpet"
           }
          ],
          "heatmap": [
           {
            "colorbar": {
             "outlinewidth": 0,
             "ticks": ""
            },
            "colorscale": [
             [
              0,
              "#0d0887"
             ],
             [
              0.1111111111111111,
              "#46039f"
             ],
             [
              0.2222222222222222,
              "#7201a8"
             ],
             [
              0.3333333333333333,
              "#9c179e"
             ],
             [
              0.4444444444444444,
              "#bd3786"
             ],
             [
              0.5555555555555556,
              "#d8576b"
             ],
             [
              0.6666666666666666,
              "#ed7953"
             ],
             [
              0.7777777777777778,
              "#fb9f3a"
             ],
             [
              0.8888888888888888,
              "#fdca26"
             ],
             [
              1,
              "#f0f921"
             ]
            ],
            "type": "heatmap"
           }
          ],
          "histogram": [
           {
            "marker": {
             "pattern": {
              "fillmode": "overlay",
              "size": 10,
              "solidity": 0.2
             }
            },
            "type": "histogram"
           }
          ],
          "histogram2d": [
           {
            "colorbar": {
             "outlinewidth": 0,
             "ticks": ""
            },
            "colorscale": [
             [
              0,
              "#0d0887"
             ],
             [
              0.1111111111111111,
              "#46039f"
             ],
             [
              0.2222222222222222,
              "#7201a8"
             ],
             [
              0.3333333333333333,
              "#9c179e"
             ],
             [
              0.4444444444444444,
              "#bd3786"
             ],
             [
              0.5555555555555556,
              "#d8576b"
             ],
             [
              0.6666666666666666,
              "#ed7953"
             ],
             [
              0.7777777777777778,
              "#fb9f3a"
             ],
             [
              0.8888888888888888,
              "#fdca26"
             ],
             [
              1,
              "#f0f921"
             ]
            ],
            "type": "histogram2d"
           }
          ],
          "histogram2dcontour": [
           {
            "colorbar": {
             "outlinewidth": 0,
             "ticks": ""
            },
            "colorscale": [
             [
              0,
              "#0d0887"
             ],
             [
              0.1111111111111111,
              "#46039f"
             ],
             [
              0.2222222222222222,
              "#7201a8"
             ],
             [
              0.3333333333333333,
              "#9c179e"
             ],
             [
              0.4444444444444444,
              "#bd3786"
             ],
             [
              0.5555555555555556,
              "#d8576b"
             ],
             [
              0.6666666666666666,
              "#ed7953"
             ],
             [
              0.7777777777777778,
              "#fb9f3a"
             ],
             [
              0.8888888888888888,
              "#fdca26"
             ],
             [
              1,
              "#f0f921"
             ]
            ],
            "type": "histogram2dcontour"
           }
          ],
          "mesh3d": [
           {
            "colorbar": {
             "outlinewidth": 0,
             "ticks": ""
            },
            "type": "mesh3d"
           }
          ],
          "parcoords": [
           {
            "line": {
             "colorbar": {
              "outlinewidth": 0,
              "ticks": ""
             }
            },
            "type": "parcoords"
           }
          ],
          "pie": [
           {
            "automargin": true,
            "type": "pie"
           }
          ],
          "scatter": [
           {
            "fillpattern": {
             "fillmode": "overlay",
             "size": 10,
             "solidity": 0.2
            },
            "type": "scatter"
           }
          ],
          "scatter3d": [
           {
            "line": {
             "colorbar": {
              "outlinewidth": 0,
              "ticks": ""
             }
            },
            "marker": {
             "colorbar": {
              "outlinewidth": 0,
              "ticks": ""
             }
            },
            "type": "scatter3d"
           }
          ],
          "scattercarpet": [
           {
            "marker": {
             "colorbar": {
              "outlinewidth": 0,
              "ticks": ""
             }
            },
            "type": "scattercarpet"
           }
          ],
          "scattergeo": [
           {
            "marker": {
             "colorbar": {
              "outlinewidth": 0,
              "ticks": ""
             }
            },
            "type": "scattergeo"
           }
          ],
          "scattergl": [
           {
            "marker": {
             "colorbar": {
              "outlinewidth": 0,
              "ticks": ""
             }
            },
            "type": "scattergl"
           }
          ],
          "scattermap": [
           {
            "marker": {
             "colorbar": {
              "outlinewidth": 0,
              "ticks": ""
             }
            },
            "type": "scattermap"
           }
          ],
          "scattermapbox": [
           {
            "marker": {
             "colorbar": {
              "outlinewidth": 0,
              "ticks": ""
             }
            },
            "type": "scattermapbox"
           }
          ],
          "scatterpolar": [
           {
            "marker": {
             "colorbar": {
              "outlinewidth": 0,
              "ticks": ""
             }
            },
            "type": "scatterpolar"
           }
          ],
          "scatterpolargl": [
           {
            "marker": {
             "colorbar": {
              "outlinewidth": 0,
              "ticks": ""
             }
            },
            "type": "scatterpolargl"
           }
          ],
          "scatterternary": [
           {
            "marker": {
             "colorbar": {
              "outlinewidth": 0,
              "ticks": ""
             }
            },
            "type": "scatterternary"
           }
          ],
          "surface": [
           {
            "colorbar": {
             "outlinewidth": 0,
             "ticks": ""
            },
            "colorscale": [
             [
              0,
              "#0d0887"
             ],
             [
              0.1111111111111111,
              "#46039f"
             ],
             [
              0.2222222222222222,
              "#7201a8"
             ],
             [
              0.3333333333333333,
              "#9c179e"
             ],
             [
              0.4444444444444444,
              "#bd3786"
             ],
             [
              0.5555555555555556,
              "#d8576b"
             ],
             [
              0.6666666666666666,
              "#ed7953"
             ],
             [
              0.7777777777777778,
              "#fb9f3a"
             ],
             [
              0.8888888888888888,
              "#fdca26"
             ],
             [
              1,
              "#f0f921"
             ]
            ],
            "type": "surface"
           }
          ],
          "table": [
           {
            "cells": {
             "fill": {
              "color": "#EBF0F8"
             },
             "line": {
              "color": "white"
             }
            },
            "header": {
             "fill": {
              "color": "#C8D4E3"
             },
             "line": {
              "color": "white"
             }
            },
            "type": "table"
           }
          ]
         },
         "layout": {
          "annotationdefaults": {
           "arrowcolor": "#2a3f5f",
           "arrowhead": 0,
           "arrowwidth": 1
          },
          "autotypenumbers": "strict",
          "coloraxis": {
           "colorbar": {
            "outlinewidth": 0,
            "ticks": ""
           }
          },
          "colorscale": {
           "diverging": [
            [
             0,
             "#8e0152"
            ],
            [
             0.1,
             "#c51b7d"
            ],
            [
             0.2,
             "#de77ae"
            ],
            [
             0.3,
             "#f1b6da"
            ],
            [
             0.4,
             "#fde0ef"
            ],
            [
             0.5,
             "#f7f7f7"
            ],
            [
             0.6,
             "#e6f5d0"
            ],
            [
             0.7,
             "#b8e186"
            ],
            [
             0.8,
             "#7fbc41"
            ],
            [
             0.9,
             "#4d9221"
            ],
            [
             1,
             "#276419"
            ]
           ],
           "sequential": [
            [
             0,
             "#0d0887"
            ],
            [
             0.1111111111111111,
             "#46039f"
            ],
            [
             0.2222222222222222,
             "#7201a8"
            ],
            [
             0.3333333333333333,
             "#9c179e"
            ],
            [
             0.4444444444444444,
             "#bd3786"
            ],
            [
             0.5555555555555556,
             "#d8576b"
            ],
            [
             0.6666666666666666,
             "#ed7953"
            ],
            [
             0.7777777777777778,
             "#fb9f3a"
            ],
            [
             0.8888888888888888,
             "#fdca26"
            ],
            [
             1,
             "#f0f921"
            ]
           ],
           "sequentialminus": [
            [
             0,
             "#0d0887"
            ],
            [
             0.1111111111111111,
             "#46039f"
            ],
            [
             0.2222222222222222,
             "#7201a8"
            ],
            [
             0.3333333333333333,
             "#9c179e"
            ],
            [
             0.4444444444444444,
             "#bd3786"
            ],
            [
             0.5555555555555556,
             "#d8576b"
            ],
            [
             0.6666666666666666,
             "#ed7953"
            ],
            [
             0.7777777777777778,
             "#fb9f3a"
            ],
            [
             0.8888888888888888,
             "#fdca26"
            ],
            [
             1,
             "#f0f921"
            ]
           ]
          },
          "colorway": [
           "#636efa",
           "#EF553B",
           "#00cc96",
           "#ab63fa",
           "#FFA15A",
           "#19d3f3",
           "#FF6692",
           "#B6E880",
           "#FF97FF",
           "#FECB52"
          ],
          "font": {
           "color": "#2a3f5f"
          },
          "geo": {
           "bgcolor": "white",
           "lakecolor": "white",
           "landcolor": "#E5ECF6",
           "showlakes": true,
           "showland": true,
           "subunitcolor": "white"
          },
          "hoverlabel": {
           "align": "left"
          },
          "hovermode": "closest",
          "mapbox": {
           "style": "light"
          },
          "paper_bgcolor": "white",
          "plot_bgcolor": "#E5ECF6",
          "polar": {
           "angularaxis": {
            "gridcolor": "white",
            "linecolor": "white",
            "ticks": ""
           },
           "bgcolor": "#E5ECF6",
           "radialaxis": {
            "gridcolor": "white",
            "linecolor": "white",
            "ticks": ""
           }
          },
          "scene": {
           "xaxis": {
            "backgroundcolor": "#E5ECF6",
            "gridcolor": "white",
            "gridwidth": 2,
            "linecolor": "white",
            "showbackground": true,
            "ticks": "",
            "zerolinecolor": "white"
           },
           "yaxis": {
            "backgroundcolor": "#E5ECF6",
            "gridcolor": "white",
            "gridwidth": 2,
            "linecolor": "white",
            "showbackground": true,
            "ticks": "",
            "zerolinecolor": "white"
           },
           "zaxis": {
            "backgroundcolor": "#E5ECF6",
            "gridcolor": "white",
            "gridwidth": 2,
            "linecolor": "white",
            "showbackground": true,
            "ticks": "",
            "zerolinecolor": "white"
           }
          },
          "shapedefaults": {
           "line": {
            "color": "#2a3f5f"
           }
          },
          "ternary": {
           "aaxis": {
            "gridcolor": "white",
            "linecolor": "white",
            "ticks": ""
           },
           "baxis": {
            "gridcolor": "white",
            "linecolor": "white",
            "ticks": ""
           },
           "bgcolor": "#E5ECF6",
           "caxis": {
            "gridcolor": "white",
            "linecolor": "white",
            "ticks": ""
           }
          },
          "title": {
           "x": 0.05
          },
          "xaxis": {
           "automargin": true,
           "gridcolor": "white",
           "linecolor": "white",
           "ticks": "",
           "title": {
            "standoff": 15
           },
           "zerolinecolor": "white",
           "zerolinewidth": 2
          },
          "yaxis": {
           "automargin": true,
           "gridcolor": "white",
           "linecolor": "white",
           "ticks": "",
           "title": {
            "standoff": 15
           },
           "zerolinecolor": "white",
           "zerolinewidth": 2
          }
         }
        },
        "title": {
         "text": "Residuals vs OES Estimates by MSA-Occupation: Management"
        },
        "width": 800,
        "xaxis": {
         "range": [
          -40000,
          60000
         ],
         "title": {
          "text": "OES Estimates"
         }
        },
        "yaxis": {
         "range": [
          -40000,
          60000
         ],
         "title": {
          "text": "Residuals"
         }
        }
       }
      }
     },
     "metadata": {},
     "output_type": "display_data"
    },
    {
     "name": "stdout",
     "output_type": "stream",
     "text": [
      "Overall R2:  0.42615956038601244\n"
     ]
    },
    {
     "data": {
      "application/vnd.plotly.v1+json": {
       "config": {
        "plotlyServerURL": "https://plot.ly"
       },
       "data": [
        {
         "marker": {
          "line": {
           "color": "DarkSlateGrey",
           "width": 1
          },
          "size": 5
         },
         "mode": "markers",
         "name": "Business and Financial Operations",
         "type": "scatter",
         "x": {
          "bdata": "AAAAAADIucAAAAAAAODKwAAAAAAAkI9AAAAAAABWw8AAAAAAALiawAAAAAAAeK5AAAAAAACkoMAAAAAAAEDKQAAAAAAAKLTAAAAAAIC22UAAAAAAAHaxQAAAAAAA/KJAAAAAAACwqMAAAAAAAFXOwAAAAAAAuJXAAAAAAAAOtcAAAAAAAHStQAAAAAAAmLxAAAAAAACgjkAAAAAAALC9QAAAAAAABsjAAAAAAACVxcAAAAAAACy1wAAAAAAAorxAAAAAAABMuMAAAAAAAOShwAAAAAAA+r7AAAAAAACCtEAAAAAAAA3BwAAAAAAA0LbAAAAAAABwx8AAAAAAAH6zwAAAAAAASrXAAAAAAAAgnEAAAAAAACjEwAAAAAAAssHAAAAAAAAm1kAAAAAAAAPBwAAAAAAATL3AAAAAAAAYv8AAAAAAAEy4QAAAAAAAwrrAAAAAAABgncAAAAAAAAAAAAAAAAAA4HDAAAAAAADku8AAAAAAAMCHQAAAAAAAL8LAAAAAAABUr8AAAAAAAASlQAAAAACA0NNAAAAAAIAM1EAAAAAAAN/GQAAAAAAABL/AAAAAAAAoucAAAAAAAFnAwAAAAAAAaKrAAAAAAABYkcAAAAAAgMfSQAAAAAAAd8DA",
          "dtype": "f8"
         },
         "y": {
          "bdata": "AAAAAABSucAAAAAAANC0wAAAAAAAkIjAAAAAAACOrMAAAAAAAGKnwAAAAAAAiJrAAAAAAAB4sMAAAAAAAESvQAAAAAAA8K/AAAAAAAB2t8AAAAAAAPyowAAAAAAAHJRAAAAAAADZs8AAAAAAAFazwAAAAAAANbHAAAAAAAAEq8AAAAAAALyHwAAAAAAARIrAAAAAAADoq8AAAAAAAI6rwAAAAAAAnbvAAAAAAAAAT0AAAAAAAFy1wAAAAAAAMIDAAAAAAAApssAAAAAAAEi2wAAAAAAAlKvAq6qqqqpIskAAAAAAAJK0wAAAAAAAXqzAAAAAAAAxtMAAAAAAANSlwAAAAAAAOKrAAAAAAAC8kMAAAAAAAOKvwAAAAAAABbTAAAAAAADmuUAAAAAAANW3wAAAAAAAl7bAAAAAAAD0uMAAAAAAALiAQKuqqqqqIKfAAAAAAADytsAAAAAAAAAAAAAAAAAAZq/AAAAAAADkpkAAAAAAAGSjQAAAAAAA1rPAAAAAAABercAAAAAAAGScQAAAAACAqMdAAAAAAADfy0AAAAAAABSvQAAAAAAAGLXAAAAAAADItsAAAAAAAHq4wAAAAAAAPJDAAAAAAAAFssAAAAAAAIyyQAAAAAAACrvA",
          "dtype": "f8"
         }
        },
        {
         "line": {
          "color": "red",
          "width": 2
         },
         "mode": "lines",
         "name": "Line of Equality",
         "type": "scatter",
         "x": {
          "bdata": "AAAAAACI48DzdobEvAnjwObtDIl5i+LA2WSTTTYN4sDM2xkS847hwL9SoNavEOHAsskmm2yS4MCmQK1fKRTgwDFvZ0jMK9/AGF100UUv3sD+SoFavzLdwOQ4juM4NtzAyiabbLI528CwFKj1Kz3awJYCtX6lQNnAfPDBBx9E2MBi3s6QmEfXwEnM2xkSS9bAL7roootO1cAVqPUrBVLUwPuVArV+VdPA4YMPPvhY0sDHcRzHcVzRwK5fKVDrX9DAKJtsssnGzsD0dobEvM3MwMBSoNav1MrAjC666KLbyMBYCtT6leLGwCbm7QyJ6cTA8sEHH3zwwsC+nSExb/fAwBTzdobE/L3AsKqqqqoKusBIYt7OkBi2wOAZEvN2JrLA8KKLLrporMAgEvN2hoSkwKACtX6lQJnAAMIHH3zwgsCAArV+pUB5QEBi3s6QGJZA8MEHH3zwokDAUqDWr9SqQMhxHMdxXLFAKLroootOtUCQArV+pUC5QPhKgVq/Mr1AsMkmm2ySwEDk7QyJeYvCQBgS83aGhMRATDbZZJN9xkCAWr9SoHbIQLR+pUCtb8pA6KKLLrpozEAcx3Ecx2HOQKj1KwVqLdBAwgcffPAp0UDaGRLzdibSQPQrBWr9ItNADj744IMf1EAoUOtXChzVQEJi3s6QGNZAXHTRRRcV10B2hsS8nRHYQJCYtzMkDtlAqKqqqqoK2kDEvJ0hMQfbQNzOkJi3A9xA+OCDDz4A3UAQ83aGxPzdQCwFav1K+d5ARBdddNH130CwFKj1K3ngQLydITFv9+BAyiabbLJ14UDWrxSo9fPhQOI4juM4cuJA8MEHH3zw4kD8SoFav27jQArU+pUC7eNAFl100UVr5EAk5u0MienkQDBvZ0jMZ+VAPvjggw/m5UBKgVq/UmTmQFgK1PqV4uZAZJNNNtlg50ByHMdxHN/nQH6lQK1fXehAii666KLb6ECYtzMk5lnpQKRArV8p2OlAsskmm2xW6kC+UqDWr9TqQMzbGRLzUutA2GSTTTbR60Dm7QyJeU/sQPJ2hsS8zexAAAAAAABM7UA=",
          "dtype": "f8"
         },
         "y": {
          "bdata": "AAAAAACI48DzdobEvAnjwObtDIl5i+LA2WSTTTYN4sDM2xkS847hwL9SoNavEOHAsskmm2yS4MCmQK1fKRTgwDFvZ0jMK9/AGF100UUv3sD+SoFavzLdwOQ4juM4NtzAyiabbLI528CwFKj1Kz3awJYCtX6lQNnAfPDBBx9E2MBi3s6QmEfXwEnM2xkSS9bAL7roootO1cAVqPUrBVLUwPuVArV+VdPA4YMPPvhY0sDHcRzHcVzRwK5fKVDrX9DAKJtsssnGzsD0dobEvM3MwMBSoNav1MrAjC666KLbyMBYCtT6leLGwCbm7QyJ6cTA8sEHH3zwwsC+nSExb/fAwBTzdobE/L3AsKqqqqoKusBIYt7OkBi2wOAZEvN2JrLA8KKLLrporMAgEvN2hoSkwKACtX6lQJnAAMIHH3zwgsCAArV+pUB5QEBi3s6QGJZA8MEHH3zwokDAUqDWr9SqQMhxHMdxXLFAKLroootOtUCQArV+pUC5QPhKgVq/Mr1AsMkmm2ySwEDk7QyJeYvCQBgS83aGhMRATDbZZJN9xkCAWr9SoHbIQLR+pUCtb8pA6KKLLrpozEAcx3Ecx2HOQKj1KwVqLdBAwgcffPAp0UDaGRLzdibSQPQrBWr9ItNADj744IMf1EAoUOtXChzVQEJi3s6QGNZAXHTRRRcV10B2hsS8nRHYQJCYtzMkDtlAqKqqqqoK2kDEvJ0hMQfbQNzOkJi3A9xA+OCDDz4A3UAQ83aGxPzdQCwFav1K+d5ARBdddNH130CwFKj1K3ngQLydITFv9+BAyiabbLJ14UDWrxSo9fPhQOI4juM4cuJA8MEHH3zw4kD8SoFav27jQArU+pUC7eNAFl100UVr5EAk5u0MienkQDBvZ0jMZ+VAPvjggw/m5UBKgVq/UmTmQFgK1PqV4uZAZJNNNtlg50ByHMdxHN/nQH6lQK1fXehAii666KLb6ECYtzMk5lnpQKRArV8p2OlAsskmm2xW6kC+UqDWr9TqQMzbGRLzUutA2GSTTTbR60Dm7QyJeU/sQPJ2hsS8zexAAAAAAABM7UA=",
          "dtype": "f8"
         }
        }
       ],
       "layout": {
        "annotations": [
         {
          "font": {
           "size": 16
          },
          "showarrow": false,
          "text": "Overall R2: 0.43",
          "x": 0.1,
          "xref": "paper",
          "y": 0.95,
          "yref": "paper"
         }
        ],
        "height": 600,
        "legend": {
         "title": {
          "text": "Occupation"
         }
        },
        "template": {
         "data": {
          "bar": [
           {
            "error_x": {
             "color": "#2a3f5f"
            },
            "error_y": {
             "color": "#2a3f5f"
            },
            "marker": {
             "line": {
              "color": "#E5ECF6",
              "width": 0.5
             },
             "pattern": {
              "fillmode": "overlay",
              "size": 10,
              "solidity": 0.2
             }
            },
            "type": "bar"
           }
          ],
          "barpolar": [
           {
            "marker": {
             "line": {
              "color": "#E5ECF6",
              "width": 0.5
             },
             "pattern": {
              "fillmode": "overlay",
              "size": 10,
              "solidity": 0.2
             }
            },
            "type": "barpolar"
           }
          ],
          "carpet": [
           {
            "aaxis": {
             "endlinecolor": "#2a3f5f",
             "gridcolor": "white",
             "linecolor": "white",
             "minorgridcolor": "white",
             "startlinecolor": "#2a3f5f"
            },
            "baxis": {
             "endlinecolor": "#2a3f5f",
             "gridcolor": "white",
             "linecolor": "white",
             "minorgridcolor": "white",
             "startlinecolor": "#2a3f5f"
            },
            "type": "carpet"
           }
          ],
          "choropleth": [
           {
            "colorbar": {
             "outlinewidth": 0,
             "ticks": ""
            },
            "type": "choropleth"
           }
          ],
          "contour": [
           {
            "colorbar": {
             "outlinewidth": 0,
             "ticks": ""
            },
            "colorscale": [
             [
              0,
              "#0d0887"
             ],
             [
              0.1111111111111111,
              "#46039f"
             ],
             [
              0.2222222222222222,
              "#7201a8"
             ],
             [
              0.3333333333333333,
              "#9c179e"
             ],
             [
              0.4444444444444444,
              "#bd3786"
             ],
             [
              0.5555555555555556,
              "#d8576b"
             ],
             [
              0.6666666666666666,
              "#ed7953"
             ],
             [
              0.7777777777777778,
              "#fb9f3a"
             ],
             [
              0.8888888888888888,
              "#fdca26"
             ],
             [
              1,
              "#f0f921"
             ]
            ],
            "type": "contour"
           }
          ],
          "contourcarpet": [
           {
            "colorbar": {
             "outlinewidth": 0,
             "ticks": ""
            },
            "type": "contourcarpet"
           }
          ],
          "heatmap": [
           {
            "colorbar": {
             "outlinewidth": 0,
             "ticks": ""
            },
            "colorscale": [
             [
              0,
              "#0d0887"
             ],
             [
              0.1111111111111111,
              "#46039f"
             ],
             [
              0.2222222222222222,
              "#7201a8"
             ],
             [
              0.3333333333333333,
              "#9c179e"
             ],
             [
              0.4444444444444444,
              "#bd3786"
             ],
             [
              0.5555555555555556,
              "#d8576b"
             ],
             [
              0.6666666666666666,
              "#ed7953"
             ],
             [
              0.7777777777777778,
              "#fb9f3a"
             ],
             [
              0.8888888888888888,
              "#fdca26"
             ],
             [
              1,
              "#f0f921"
             ]
            ],
            "type": "heatmap"
           }
          ],
          "histogram": [
           {
            "marker": {
             "pattern": {
              "fillmode": "overlay",
              "size": 10,
              "solidity": 0.2
             }
            },
            "type": "histogram"
           }
          ],
          "histogram2d": [
           {
            "colorbar": {
             "outlinewidth": 0,
             "ticks": ""
            },
            "colorscale": [
             [
              0,
              "#0d0887"
             ],
             [
              0.1111111111111111,
              "#46039f"
             ],
             [
              0.2222222222222222,
              "#7201a8"
             ],
             [
              0.3333333333333333,
              "#9c179e"
             ],
             [
              0.4444444444444444,
              "#bd3786"
             ],
             [
              0.5555555555555556,
              "#d8576b"
             ],
             [
              0.6666666666666666,
              "#ed7953"
             ],
             [
              0.7777777777777778,
              "#fb9f3a"
             ],
             [
              0.8888888888888888,
              "#fdca26"
             ],
             [
              1,
              "#f0f921"
             ]
            ],
            "type": "histogram2d"
           }
          ],
          "histogram2dcontour": [
           {
            "colorbar": {
             "outlinewidth": 0,
             "ticks": ""
            },
            "colorscale": [
             [
              0,
              "#0d0887"
             ],
             [
              0.1111111111111111,
              "#46039f"
             ],
             [
              0.2222222222222222,
              "#7201a8"
             ],
             [
              0.3333333333333333,
              "#9c179e"
             ],
             [
              0.4444444444444444,
              "#bd3786"
             ],
             [
              0.5555555555555556,
              "#d8576b"
             ],
             [
              0.6666666666666666,
              "#ed7953"
             ],
             [
              0.7777777777777778,
              "#fb9f3a"
             ],
             [
              0.8888888888888888,
              "#fdca26"
             ],
             [
              1,
              "#f0f921"
             ]
            ],
            "type": "histogram2dcontour"
           }
          ],
          "mesh3d": [
           {
            "colorbar": {
             "outlinewidth": 0,
             "ticks": ""
            },
            "type": "mesh3d"
           }
          ],
          "parcoords": [
           {
            "line": {
             "colorbar": {
              "outlinewidth": 0,
              "ticks": ""
             }
            },
            "type": "parcoords"
           }
          ],
          "pie": [
           {
            "automargin": true,
            "type": "pie"
           }
          ],
          "scatter": [
           {
            "fillpattern": {
             "fillmode": "overlay",
             "size": 10,
             "solidity": 0.2
            },
            "type": "scatter"
           }
          ],
          "scatter3d": [
           {
            "line": {
             "colorbar": {
              "outlinewidth": 0,
              "ticks": ""
             }
            },
            "marker": {
             "colorbar": {
              "outlinewidth": 0,
              "ticks": ""
             }
            },
            "type": "scatter3d"
           }
          ],
          "scattercarpet": [
           {
            "marker": {
             "colorbar": {
              "outlinewidth": 0,
              "ticks": ""
             }
            },
            "type": "scattercarpet"
           }
          ],
          "scattergeo": [
           {
            "marker": {
             "colorbar": {
              "outlinewidth": 0,
              "ticks": ""
             }
            },
            "type": "scattergeo"
           }
          ],
          "scattergl": [
           {
            "marker": {
             "colorbar": {
              "outlinewidth": 0,
              "ticks": ""
             }
            },
            "type": "scattergl"
           }
          ],
          "scattermap": [
           {
            "marker": {
             "colorbar": {
              "outlinewidth": 0,
              "ticks": ""
             }
            },
            "type": "scattermap"
           }
          ],
          "scattermapbox": [
           {
            "marker": {
             "colorbar": {
              "outlinewidth": 0,
              "ticks": ""
             }
            },
            "type": "scattermapbox"
           }
          ],
          "scatterpolar": [
           {
            "marker": {
             "colorbar": {
              "outlinewidth": 0,
              "ticks": ""
             }
            },
            "type": "scatterpolar"
           }
          ],
          "scatterpolargl": [
           {
            "marker": {
             "colorbar": {
              "outlinewidth": 0,
              "ticks": ""
             }
            },
            "type": "scatterpolargl"
           }
          ],
          "scatterternary": [
           {
            "marker": {
             "colorbar": {
              "outlinewidth": 0,
              "ticks": ""
             }
            },
            "type": "scatterternary"
           }
          ],
          "surface": [
           {
            "colorbar": {
             "outlinewidth": 0,
             "ticks": ""
            },
            "colorscale": [
             [
              0,
              "#0d0887"
             ],
             [
              0.1111111111111111,
              "#46039f"
             ],
             [
              0.2222222222222222,
              "#7201a8"
             ],
             [
              0.3333333333333333,
              "#9c179e"
             ],
             [
              0.4444444444444444,
              "#bd3786"
             ],
             [
              0.5555555555555556,
              "#d8576b"
             ],
             [
              0.6666666666666666,
              "#ed7953"
             ],
             [
              0.7777777777777778,
              "#fb9f3a"
             ],
             [
              0.8888888888888888,
              "#fdca26"
             ],
             [
              1,
              "#f0f921"
             ]
            ],
            "type": "surface"
           }
          ],
          "table": [
           {
            "cells": {
             "fill": {
              "color": "#EBF0F8"
             },
             "line": {
              "color": "white"
             }
            },
            "header": {
             "fill": {
              "color": "#C8D4E3"
             },
             "line": {
              "color": "white"
             }
            },
            "type": "table"
           }
          ]
         },
         "layout": {
          "annotationdefaults": {
           "arrowcolor": "#2a3f5f",
           "arrowhead": 0,
           "arrowwidth": 1
          },
          "autotypenumbers": "strict",
          "coloraxis": {
           "colorbar": {
            "outlinewidth": 0,
            "ticks": ""
           }
          },
          "colorscale": {
           "diverging": [
            [
             0,
             "#8e0152"
            ],
            [
             0.1,
             "#c51b7d"
            ],
            [
             0.2,
             "#de77ae"
            ],
            [
             0.3,
             "#f1b6da"
            ],
            [
             0.4,
             "#fde0ef"
            ],
            [
             0.5,
             "#f7f7f7"
            ],
            [
             0.6,
             "#e6f5d0"
            ],
            [
             0.7,
             "#b8e186"
            ],
            [
             0.8,
             "#7fbc41"
            ],
            [
             0.9,
             "#4d9221"
            ],
            [
             1,
             "#276419"
            ]
           ],
           "sequential": [
            [
             0,
             "#0d0887"
            ],
            [
             0.1111111111111111,
             "#46039f"
            ],
            [
             0.2222222222222222,
             "#7201a8"
            ],
            [
             0.3333333333333333,
             "#9c179e"
            ],
            [
             0.4444444444444444,
             "#bd3786"
            ],
            [
             0.5555555555555556,
             "#d8576b"
            ],
            [
             0.6666666666666666,
             "#ed7953"
            ],
            [
             0.7777777777777778,
             "#fb9f3a"
            ],
            [
             0.8888888888888888,
             "#fdca26"
            ],
            [
             1,
             "#f0f921"
            ]
           ],
           "sequentialminus": [
            [
             0,
             "#0d0887"
            ],
            [
             0.1111111111111111,
             "#46039f"
            ],
            [
             0.2222222222222222,
             "#7201a8"
            ],
            [
             0.3333333333333333,
             "#9c179e"
            ],
            [
             0.4444444444444444,
             "#bd3786"
            ],
            [
             0.5555555555555556,
             "#d8576b"
            ],
            [
             0.6666666666666666,
             "#ed7953"
            ],
            [
             0.7777777777777778,
             "#fb9f3a"
            ],
            [
             0.8888888888888888,
             "#fdca26"
            ],
            [
             1,
             "#f0f921"
            ]
           ]
          },
          "colorway": [
           "#636efa",
           "#EF553B",
           "#00cc96",
           "#ab63fa",
           "#FFA15A",
           "#19d3f3",
           "#FF6692",
           "#B6E880",
           "#FF97FF",
           "#FECB52"
          ],
          "font": {
           "color": "#2a3f5f"
          },
          "geo": {
           "bgcolor": "white",
           "lakecolor": "white",
           "landcolor": "#E5ECF6",
           "showlakes": true,
           "showland": true,
           "subunitcolor": "white"
          },
          "hoverlabel": {
           "align": "left"
          },
          "hovermode": "closest",
          "mapbox": {
           "style": "light"
          },
          "paper_bgcolor": "white",
          "plot_bgcolor": "#E5ECF6",
          "polar": {
           "angularaxis": {
            "gridcolor": "white",
            "linecolor": "white",
            "ticks": ""
           },
           "bgcolor": "#E5ECF6",
           "radialaxis": {
            "gridcolor": "white",
            "linecolor": "white",
            "ticks": ""
           }
          },
          "scene": {
           "xaxis": {
            "backgroundcolor": "#E5ECF6",
            "gridcolor": "white",
            "gridwidth": 2,
            "linecolor": "white",
            "showbackground": true,
            "ticks": "",
            "zerolinecolor": "white"
           },
           "yaxis": {
            "backgroundcolor": "#E5ECF6",
            "gridcolor": "white",
            "gridwidth": 2,
            "linecolor": "white",
            "showbackground": true,
            "ticks": "",
            "zerolinecolor": "white"
           },
           "zaxis": {
            "backgroundcolor": "#E5ECF6",
            "gridcolor": "white",
            "gridwidth": 2,
            "linecolor": "white",
            "showbackground": true,
            "ticks": "",
            "zerolinecolor": "white"
           }
          },
          "shapedefaults": {
           "line": {
            "color": "#2a3f5f"
           }
          },
          "ternary": {
           "aaxis": {
            "gridcolor": "white",
            "linecolor": "white",
            "ticks": ""
           },
           "baxis": {
            "gridcolor": "white",
            "linecolor": "white",
            "ticks": ""
           },
           "bgcolor": "#E5ECF6",
           "caxis": {
            "gridcolor": "white",
            "linecolor": "white",
            "ticks": ""
           }
          },
          "title": {
           "x": 0.05
          },
          "xaxis": {
           "automargin": true,
           "gridcolor": "white",
           "linecolor": "white",
           "ticks": "",
           "title": {
            "standoff": 15
           },
           "zerolinecolor": "white",
           "zerolinewidth": 2
          },
          "yaxis": {
           "automargin": true,
           "gridcolor": "white",
           "linecolor": "white",
           "ticks": "",
           "title": {
            "standoff": 15
           },
           "zerolinecolor": "white",
           "zerolinewidth": 2
          }
         }
        },
        "title": {
         "text": "Residuals vs OES Estimates by MSA-Occupation: Business and Financial Operations"
        },
        "width": 800,
        "xaxis": {
         "range": [
          -40000,
          60000
         ],
         "title": {
          "text": "OES Estimates"
         }
        },
        "yaxis": {
         "range": [
          -40000,
          60000
         ],
         "title": {
          "text": "Residuals"
         }
        }
       }
      }
     },
     "metadata": {},
     "output_type": "display_data"
    },
    {
     "name": "stdout",
     "output_type": "stream",
     "text": [
      "Overall R2:  0.49031528610748143\n"
     ]
    },
    {
     "data": {
      "application/vnd.plotly.v1+json": {
       "config": {
        "plotlyServerURL": "https://plot.ly"
       },
       "data": [
        {
         "marker": {
          "line": {
           "color": "DarkSlateGrey",
           "width": 1
          },
          "size": 5
         },
         "mode": "markers",
         "name": "Computer and Mathematical",
         "type": "scatter",
         "x": {
          "bdata": "AAAAAABPysAAAAAAAFfXwAAAAAAAOJ3AAAAAAABkzsAAAAAAAEicwAAAAAAAi8VAAAAAAAD1xMAAAAAAADPDQAAAAAAACs7AAAAAAACcw0AAAAAAAKB0wAAAAAAAQJrAAAAAAACst8AAAAAAgEffwAAAAAAAmKdAUFVVVVXFv8AAAAAAAMiZQAAAAAAAOrtAAAAAAADmvsAAAAAAAJiiQAAAAAAAstbAAAAAAIA108AAAAAAAJXFwAAAAAAACKtAAAAAAAA8xMAAAAAAAE/FwAAAAAAAPszAAAAAAABAtUAAAAAAAAnQwAAAAAAAGr3AAAAAAIA01MAAAAAAAB7EwAAAAAAAVcTAAAAAAABAcEAAAAAAABHMwAAAAACABdHAAAAAAAAXy0AAAAAAAF3RwAAAAAAAWcXAAAAAAAAIwcAAAAAAABiVQAAAAAAAeLnAAAAAAAAAxMAAAAAAAAAAAAAAAAAAYJNAAAAAAADkwcAAAAAAAHyqQAAAAAAANMLAAAAAAABGucAAAAAAAM/CQAAAAACAFd9AAAAAAMAD5EAAAAAAAOnbQAAAAAAAmsDAAAAAAABAxcAAAAAAANzUwAAAAAAAK8bAAAAAAADutsAAAAAAAPDOQAAAAAAA/tXA",
          "dtype": "f8"
         },
         "y": {
          "bdata": "AAAAAABPv8AAAAAAAPO5wAAAAAAAKIDAAAAAAABIq8AAAAAAALSmwAAAAAAAkJPAAAAAAAA/ssAAAAAAAIi3QAAAAAAAA7fAAAAAAAB2wMAAAAAAAOapwAAAAAAAoqRAAAAAAADot8AAAAAAANG6wAAAAAAAPLfAAAAAAABYscAAAAAAANRyQAAAAAAAKpDAAAAAAABfscAAAAAAAKKmwAAAAAAAQcHAAAAAAABQfkAAAAAAAH24wAAAAAAAwIBAAAAAAADxtsAAAAAAAHm8wAAAAAAAqq/Aq6qqqqp/u0AAAAAAAD+2wAAAAAAAI7TAAAAAAAAhusAAAAAAAHKpwAAAAAAA6LHAAAAAAADskcAAAAAAAHS1wAAAAAAAXbzAAAAAAAAAvkAAAAAAgCnAwAAAAAAAGr3AAAAAAAAtv8AAAAAAAOCUQAAAAAAAPq7AAAAAAACJvsAAAAAAAAAAAAAAAAAA+KrAAAAAAAD7s0AAAAAAANyxQAAAAAAAk7rAAAAAAAB+rcAAAAAAAPyoQAAAAACAMM9AAAAAAEB+00AAAAAAAA66QAAAAAAAarvAAAAAAACSv8AAAAAAAFG9wAAAAAAADJLAAAAAAICMtcAAAAAAAM+5QAAAAAAA1sHA",
          "dtype": "f8"
         }
        },
        {
         "line": {
          "color": "red",
          "width": 2
         },
         "mode": "lines",
         "name": "Line of Equality",
         "type": "scatter",
         "x": {
          "bdata": "AAAAAACI48DzdobEvAnjwObtDIl5i+LA2WSTTTYN4sDM2xkS847hwL9SoNavEOHAsskmm2yS4MCmQK1fKRTgwDFvZ0jMK9/AGF100UUv3sD+SoFavzLdwOQ4juM4NtzAyiabbLI528CwFKj1Kz3awJYCtX6lQNnAfPDBBx9E2MBi3s6QmEfXwEnM2xkSS9bAL7roootO1cAVqPUrBVLUwPuVArV+VdPA4YMPPvhY0sDHcRzHcVzRwK5fKVDrX9DAKJtsssnGzsD0dobEvM3MwMBSoNav1MrAjC666KLbyMBYCtT6leLGwCbm7QyJ6cTA8sEHH3zwwsC+nSExb/fAwBTzdobE/L3AsKqqqqoKusBIYt7OkBi2wOAZEvN2JrLA8KKLLrporMAgEvN2hoSkwKACtX6lQJnAAMIHH3zwgsCAArV+pUB5QEBi3s6QGJZA8MEHH3zwokDAUqDWr9SqQMhxHMdxXLFAKLroootOtUCQArV+pUC5QPhKgVq/Mr1AsMkmm2ySwEDk7QyJeYvCQBgS83aGhMRATDbZZJN9xkCAWr9SoHbIQLR+pUCtb8pA6KKLLrpozEAcx3Ecx2HOQKj1KwVqLdBAwgcffPAp0UDaGRLzdibSQPQrBWr9ItNADj744IMf1EAoUOtXChzVQEJi3s6QGNZAXHTRRRcV10B2hsS8nRHYQJCYtzMkDtlAqKqqqqoK2kDEvJ0hMQfbQNzOkJi3A9xA+OCDDz4A3UAQ83aGxPzdQCwFav1K+d5ARBdddNH130CwFKj1K3ngQLydITFv9+BAyiabbLJ14UDWrxSo9fPhQOI4juM4cuJA8MEHH3zw4kD8SoFav27jQArU+pUC7eNAFl100UVr5EAk5u0MienkQDBvZ0jMZ+VAPvjggw/m5UBKgVq/UmTmQFgK1PqV4uZAZJNNNtlg50ByHMdxHN/nQH6lQK1fXehAii666KLb6ECYtzMk5lnpQKRArV8p2OlAsskmm2xW6kC+UqDWr9TqQMzbGRLzUutA2GSTTTbR60Dm7QyJeU/sQPJ2hsS8zexAAAAAAABM7UA=",
          "dtype": "f8"
         },
         "y": {
          "bdata": "AAAAAACI48DzdobEvAnjwObtDIl5i+LA2WSTTTYN4sDM2xkS847hwL9SoNavEOHAsskmm2yS4MCmQK1fKRTgwDFvZ0jMK9/AGF100UUv3sD+SoFavzLdwOQ4juM4NtzAyiabbLI528CwFKj1Kz3awJYCtX6lQNnAfPDBBx9E2MBi3s6QmEfXwEnM2xkSS9bAL7roootO1cAVqPUrBVLUwPuVArV+VdPA4YMPPvhY0sDHcRzHcVzRwK5fKVDrX9DAKJtsssnGzsD0dobEvM3MwMBSoNav1MrAjC666KLbyMBYCtT6leLGwCbm7QyJ6cTA8sEHH3zwwsC+nSExb/fAwBTzdobE/L3AsKqqqqoKusBIYt7OkBi2wOAZEvN2JrLA8KKLLrporMAgEvN2hoSkwKACtX6lQJnAAMIHH3zwgsCAArV+pUB5QEBi3s6QGJZA8MEHH3zwokDAUqDWr9SqQMhxHMdxXLFAKLroootOtUCQArV+pUC5QPhKgVq/Mr1AsMkmm2ySwEDk7QyJeYvCQBgS83aGhMRATDbZZJN9xkCAWr9SoHbIQLR+pUCtb8pA6KKLLrpozEAcx3Ecx2HOQKj1KwVqLdBAwgcffPAp0UDaGRLzdibSQPQrBWr9ItNADj744IMf1EAoUOtXChzVQEJi3s6QGNZAXHTRRRcV10B2hsS8nRHYQJCYtzMkDtlAqKqqqqoK2kDEvJ0hMQfbQNzOkJi3A9xA+OCDDz4A3UAQ83aGxPzdQCwFav1K+d5ARBdddNH130CwFKj1K3ngQLydITFv9+BAyiabbLJ14UDWrxSo9fPhQOI4juM4cuJA8MEHH3zw4kD8SoFav27jQArU+pUC7eNAFl100UVr5EAk5u0MienkQDBvZ0jMZ+VAPvjggw/m5UBKgVq/UmTmQFgK1PqV4uZAZJNNNtlg50ByHMdxHN/nQH6lQK1fXehAii666KLb6ECYtzMk5lnpQKRArV8p2OlAsskmm2xW6kC+UqDWr9TqQMzbGRLzUutA2GSTTTbR60Dm7QyJeU/sQPJ2hsS8zexAAAAAAABM7UA=",
          "dtype": "f8"
         }
        }
       ],
       "layout": {
        "annotations": [
         {
          "font": {
           "size": 16
          },
          "showarrow": false,
          "text": "Overall R2: 0.49",
          "x": 0.1,
          "xref": "paper",
          "y": 0.95,
          "yref": "paper"
         }
        ],
        "height": 600,
        "legend": {
         "title": {
          "text": "Occupation"
         }
        },
        "template": {
         "data": {
          "bar": [
           {
            "error_x": {
             "color": "#2a3f5f"
            },
            "error_y": {
             "color": "#2a3f5f"
            },
            "marker": {
             "line": {
              "color": "#E5ECF6",
              "width": 0.5
             },
             "pattern": {
              "fillmode": "overlay",
              "size": 10,
              "solidity": 0.2
             }
            },
            "type": "bar"
           }
          ],
          "barpolar": [
           {
            "marker": {
             "line": {
              "color": "#E5ECF6",
              "width": 0.5
             },
             "pattern": {
              "fillmode": "overlay",
              "size": 10,
              "solidity": 0.2
             }
            },
            "type": "barpolar"
           }
          ],
          "carpet": [
           {
            "aaxis": {
             "endlinecolor": "#2a3f5f",
             "gridcolor": "white",
             "linecolor": "white",
             "minorgridcolor": "white",
             "startlinecolor": "#2a3f5f"
            },
            "baxis": {
             "endlinecolor": "#2a3f5f",
             "gridcolor": "white",
             "linecolor": "white",
             "minorgridcolor": "white",
             "startlinecolor": "#2a3f5f"
            },
            "type": "carpet"
           }
          ],
          "choropleth": [
           {
            "colorbar": {
             "outlinewidth": 0,
             "ticks": ""
            },
            "type": "choropleth"
           }
          ],
          "contour": [
           {
            "colorbar": {
             "outlinewidth": 0,
             "ticks": ""
            },
            "colorscale": [
             [
              0,
              "#0d0887"
             ],
             [
              0.1111111111111111,
              "#46039f"
             ],
             [
              0.2222222222222222,
              "#7201a8"
             ],
             [
              0.3333333333333333,
              "#9c179e"
             ],
             [
              0.4444444444444444,
              "#bd3786"
             ],
             [
              0.5555555555555556,
              "#d8576b"
             ],
             [
              0.6666666666666666,
              "#ed7953"
             ],
             [
              0.7777777777777778,
              "#fb9f3a"
             ],
             [
              0.8888888888888888,
              "#fdca26"
             ],
             [
              1,
              "#f0f921"
             ]
            ],
            "type": "contour"
           }
          ],
          "contourcarpet": [
           {
            "colorbar": {
             "outlinewidth": 0,
             "ticks": ""
            },
            "type": "contourcarpet"
           }
          ],
          "heatmap": [
           {
            "colorbar": {
             "outlinewidth": 0,
             "ticks": ""
            },
            "colorscale": [
             [
              0,
              "#0d0887"
             ],
             [
              0.1111111111111111,
              "#46039f"
             ],
             [
              0.2222222222222222,
              "#7201a8"
             ],
             [
              0.3333333333333333,
              "#9c179e"
             ],
             [
              0.4444444444444444,
              "#bd3786"
             ],
             [
              0.5555555555555556,
              "#d8576b"
             ],
             [
              0.6666666666666666,
              "#ed7953"
             ],
             [
              0.7777777777777778,
              "#fb9f3a"
             ],
             [
              0.8888888888888888,
              "#fdca26"
             ],
             [
              1,
              "#f0f921"
             ]
            ],
            "type": "heatmap"
           }
          ],
          "histogram": [
           {
            "marker": {
             "pattern": {
              "fillmode": "overlay",
              "size": 10,
              "solidity": 0.2
             }
            },
            "type": "histogram"
           }
          ],
          "histogram2d": [
           {
            "colorbar": {
             "outlinewidth": 0,
             "ticks": ""
            },
            "colorscale": [
             [
              0,
              "#0d0887"
             ],
             [
              0.1111111111111111,
              "#46039f"
             ],
             [
              0.2222222222222222,
              "#7201a8"
             ],
             [
              0.3333333333333333,
              "#9c179e"
             ],
             [
              0.4444444444444444,
              "#bd3786"
             ],
             [
              0.5555555555555556,
              "#d8576b"
             ],
             [
              0.6666666666666666,
              "#ed7953"
             ],
             [
              0.7777777777777778,
              "#fb9f3a"
             ],
             [
              0.8888888888888888,
              "#fdca26"
             ],
             [
              1,
              "#f0f921"
             ]
            ],
            "type": "histogram2d"
           }
          ],
          "histogram2dcontour": [
           {
            "colorbar": {
             "outlinewidth": 0,
             "ticks": ""
            },
            "colorscale": [
             [
              0,
              "#0d0887"
             ],
             [
              0.1111111111111111,
              "#46039f"
             ],
             [
              0.2222222222222222,
              "#7201a8"
             ],
             [
              0.3333333333333333,
              "#9c179e"
             ],
             [
              0.4444444444444444,
              "#bd3786"
             ],
             [
              0.5555555555555556,
              "#d8576b"
             ],
             [
              0.6666666666666666,
              "#ed7953"
             ],
             [
              0.7777777777777778,
              "#fb9f3a"
             ],
             [
              0.8888888888888888,
              "#fdca26"
             ],
             [
              1,
              "#f0f921"
             ]
            ],
            "type": "histogram2dcontour"
           }
          ],
          "mesh3d": [
           {
            "colorbar": {
             "outlinewidth": 0,
             "ticks": ""
            },
            "type": "mesh3d"
           }
          ],
          "parcoords": [
           {
            "line": {
             "colorbar": {
              "outlinewidth": 0,
              "ticks": ""
             }
            },
            "type": "parcoords"
           }
          ],
          "pie": [
           {
            "automargin": true,
            "type": "pie"
           }
          ],
          "scatter": [
           {
            "fillpattern": {
             "fillmode": "overlay",
             "size": 10,
             "solidity": 0.2
            },
            "type": "scatter"
           }
          ],
          "scatter3d": [
           {
            "line": {
             "colorbar": {
              "outlinewidth": 0,
              "ticks": ""
             }
            },
            "marker": {
             "colorbar": {
              "outlinewidth": 0,
              "ticks": ""
             }
            },
            "type": "scatter3d"
           }
          ],
          "scattercarpet": [
           {
            "marker": {
             "colorbar": {
              "outlinewidth": 0,
              "ticks": ""
             }
            },
            "type": "scattercarpet"
           }
          ],
          "scattergeo": [
           {
            "marker": {
             "colorbar": {
              "outlinewidth": 0,
              "ticks": ""
             }
            },
            "type": "scattergeo"
           }
          ],
          "scattergl": [
           {
            "marker": {
             "colorbar": {
              "outlinewidth": 0,
              "ticks": ""
             }
            },
            "type": "scattergl"
           }
          ],
          "scattermap": [
           {
            "marker": {
             "colorbar": {
              "outlinewidth": 0,
              "ticks": ""
             }
            },
            "type": "scattermap"
           }
          ],
          "scattermapbox": [
           {
            "marker": {
             "colorbar": {
              "outlinewidth": 0,
              "ticks": ""
             }
            },
            "type": "scattermapbox"
           }
          ],
          "scatterpolar": [
           {
            "marker": {
             "colorbar": {
              "outlinewidth": 0,
              "ticks": ""
             }
            },
            "type": "scatterpolar"
           }
          ],
          "scatterpolargl": [
           {
            "marker": {
             "colorbar": {
              "outlinewidth": 0,
              "ticks": ""
             }
            },
            "type": "scatterpolargl"
           }
          ],
          "scatterternary": [
           {
            "marker": {
             "colorbar": {
              "outlinewidth": 0,
              "ticks": ""
             }
            },
            "type": "scatterternary"
           }
          ],
          "surface": [
           {
            "colorbar": {
             "outlinewidth": 0,
             "ticks": ""
            },
            "colorscale": [
             [
              0,
              "#0d0887"
             ],
             [
              0.1111111111111111,
              "#46039f"
             ],
             [
              0.2222222222222222,
              "#7201a8"
             ],
             [
              0.3333333333333333,
              "#9c179e"
             ],
             [
              0.4444444444444444,
              "#bd3786"
             ],
             [
              0.5555555555555556,
              "#d8576b"
             ],
             [
              0.6666666666666666,
              "#ed7953"
             ],
             [
              0.7777777777777778,
              "#fb9f3a"
             ],
             [
              0.8888888888888888,
              "#fdca26"
             ],
             [
              1,
              "#f0f921"
             ]
            ],
            "type": "surface"
           }
          ],
          "table": [
           {
            "cells": {
             "fill": {
              "color": "#EBF0F8"
             },
             "line": {
              "color": "white"
             }
            },
            "header": {
             "fill": {
              "color": "#C8D4E3"
             },
             "line": {
              "color": "white"
             }
            },
            "type": "table"
           }
          ]
         },
         "layout": {
          "annotationdefaults": {
           "arrowcolor": "#2a3f5f",
           "arrowhead": 0,
           "arrowwidth": 1
          },
          "autotypenumbers": "strict",
          "coloraxis": {
           "colorbar": {
            "outlinewidth": 0,
            "ticks": ""
           }
          },
          "colorscale": {
           "diverging": [
            [
             0,
             "#8e0152"
            ],
            [
             0.1,
             "#c51b7d"
            ],
            [
             0.2,
             "#de77ae"
            ],
            [
             0.3,
             "#f1b6da"
            ],
            [
             0.4,
             "#fde0ef"
            ],
            [
             0.5,
             "#f7f7f7"
            ],
            [
             0.6,
             "#e6f5d0"
            ],
            [
             0.7,
             "#b8e186"
            ],
            [
             0.8,
             "#7fbc41"
            ],
            [
             0.9,
             "#4d9221"
            ],
            [
             1,
             "#276419"
            ]
           ],
           "sequential": [
            [
             0,
             "#0d0887"
            ],
            [
             0.1111111111111111,
             "#46039f"
            ],
            [
             0.2222222222222222,
             "#7201a8"
            ],
            [
             0.3333333333333333,
             "#9c179e"
            ],
            [
             0.4444444444444444,
             "#bd3786"
            ],
            [
             0.5555555555555556,
             "#d8576b"
            ],
            [
             0.6666666666666666,
             "#ed7953"
            ],
            [
             0.7777777777777778,
             "#fb9f3a"
            ],
            [
             0.8888888888888888,
             "#fdca26"
            ],
            [
             1,
             "#f0f921"
            ]
           ],
           "sequentialminus": [
            [
             0,
             "#0d0887"
            ],
            [
             0.1111111111111111,
             "#46039f"
            ],
            [
             0.2222222222222222,
             "#7201a8"
            ],
            [
             0.3333333333333333,
             "#9c179e"
            ],
            [
             0.4444444444444444,
             "#bd3786"
            ],
            [
             0.5555555555555556,
             "#d8576b"
            ],
            [
             0.6666666666666666,
             "#ed7953"
            ],
            [
             0.7777777777777778,
             "#fb9f3a"
            ],
            [
             0.8888888888888888,
             "#fdca26"
            ],
            [
             1,
             "#f0f921"
            ]
           ]
          },
          "colorway": [
           "#636efa",
           "#EF553B",
           "#00cc96",
           "#ab63fa",
           "#FFA15A",
           "#19d3f3",
           "#FF6692",
           "#B6E880",
           "#FF97FF",
           "#FECB52"
          ],
          "font": {
           "color": "#2a3f5f"
          },
          "geo": {
           "bgcolor": "white",
           "lakecolor": "white",
           "landcolor": "#E5ECF6",
           "showlakes": true,
           "showland": true,
           "subunitcolor": "white"
          },
          "hoverlabel": {
           "align": "left"
          },
          "hovermode": "closest",
          "mapbox": {
           "style": "light"
          },
          "paper_bgcolor": "white",
          "plot_bgcolor": "#E5ECF6",
          "polar": {
           "angularaxis": {
            "gridcolor": "white",
            "linecolor": "white",
            "ticks": ""
           },
           "bgcolor": "#E5ECF6",
           "radialaxis": {
            "gridcolor": "white",
            "linecolor": "white",
            "ticks": ""
           }
          },
          "scene": {
           "xaxis": {
            "backgroundcolor": "#E5ECF6",
            "gridcolor": "white",
            "gridwidth": 2,
            "linecolor": "white",
            "showbackground": true,
            "ticks": "",
            "zerolinecolor": "white"
           },
           "yaxis": {
            "backgroundcolor": "#E5ECF6",
            "gridcolor": "white",
            "gridwidth": 2,
            "linecolor": "white",
            "showbackground": true,
            "ticks": "",
            "zerolinecolor": "white"
           },
           "zaxis": {
            "backgroundcolor": "#E5ECF6",
            "gridcolor": "white",
            "gridwidth": 2,
            "linecolor": "white",
            "showbackground": true,
            "ticks": "",
            "zerolinecolor": "white"
           }
          },
          "shapedefaults": {
           "line": {
            "color": "#2a3f5f"
           }
          },
          "ternary": {
           "aaxis": {
            "gridcolor": "white",
            "linecolor": "white",
            "ticks": ""
           },
           "baxis": {
            "gridcolor": "white",
            "linecolor": "white",
            "ticks": ""
           },
           "bgcolor": "#E5ECF6",
           "caxis": {
            "gridcolor": "white",
            "linecolor": "white",
            "ticks": ""
           }
          },
          "title": {
           "x": 0.05
          },
          "xaxis": {
           "automargin": true,
           "gridcolor": "white",
           "linecolor": "white",
           "ticks": "",
           "title": {
            "standoff": 15
           },
           "zerolinecolor": "white",
           "zerolinewidth": 2
          },
          "yaxis": {
           "automargin": true,
           "gridcolor": "white",
           "linecolor": "white",
           "ticks": "",
           "title": {
            "standoff": 15
           },
           "zerolinecolor": "white",
           "zerolinewidth": 2
          }
         }
        },
        "title": {
         "text": "Residuals vs OES Estimates by MSA-Occupation: Computer and Mathematical"
        },
        "width": 800,
        "xaxis": {
         "range": [
          -40000,
          60000
         ],
         "title": {
          "text": "OES Estimates"
         }
        },
        "yaxis": {
         "range": [
          -40000,
          60000
         ],
         "title": {
          "text": "Residuals"
         }
        }
       }
      }
     },
     "metadata": {},
     "output_type": "display_data"
    },
    {
     "name": "stdout",
     "output_type": "stream",
     "text": [
      "Overall R2:  -0.13713247440306642\n"
     ]
    },
    {
     "data": {
      "application/vnd.plotly.v1+json": {
       "config": {
        "plotlyServerURL": "https://plot.ly"
       },
       "data": [
        {
         "marker": {
          "line": {
           "color": "DarkSlateGrey",
           "width": 1
          },
          "size": 5
         },
         "mode": "markers",
         "name": "Educational Instruction and Library",
         "type": "scatter",
         "x": {
          "bdata": "AAAAAACxx8AAAAAAADTMwAAAAAAA8sfAAAAAAABnwcAAAAAAAA3GwAAAAAAACKtAAAAAAAAKvsAAAAAAALqzQAAAAAAAYrvAAAAAAADex8AAAAAAAOfTwAAAAAAAEL3AAAAAAAAGs8AAAAAAgKzUwAAAAAAALc7AVFVVVVWJz8AAAAAAACvLwAAAAAAArLLAAAAAAAAGuMAAAAAAAJDAQAAAAAAAmLzAAAAAAABUoMAAAAAAACzPwAAAAAAAqMHAAAAAAAD+ysAAAAAAABjPwAAAAAAA0MvAAAAAAACUsUAAAAAAABTOwAAAAAAAU8HAAAAAAABCyMAAAAAAAD7HwAAAAAAAk8fAAAAAAACMucAAAAAAAGDIwAAAAAAAO9DAAAAAAADSvkAAAAAAANjTwAAAAAAA4sPAAAAAAAChzcAAAAAAAKCewAAAAAAA9NDAAAAAAADAd8AAAAAAAAAAAAAAAAAAlcrAAAAAAAD4m0AAAAAAAHCXwAAAAAAA2L3AAAAAAIB+0MAAAAAAAEBqwAAAAAAANLJAAAAAAADMsEAAAAAAAPCuwAAAAAAAz8zAAAAAAAA2ysAAAAAAAJvUwAAAAAAA6MLAAAAAAAByusAAAAAAAICbQAAAAACAZ9PA",
          "dtype": "f8"
         },
         "y": {
          "bdata": "AAAAAABpuMAAAAAAAEa2wAAAAAAADqfAAAAAAADErcAAAAAAAAStwAAAAAAAPqLAAAAAAACnscAAAAAAAIKjQAAAAAAAsKrAAAAAAADotsAAAAAAADuxwAAAAAAA8HbAAAAAAAAIs8AAAAAAAP2zwAAAAAAAErDAAAAAAABWsMAAAAAAAOahwAAAAAAAUpTAAAAAAABMrMAAAAAAAHKxwAAAAAAAcLnAAAAAAAAIicAAAAAAAGq4wAAAAAAAnqPAAAAAAABMtMAAAAAAALKzwAAAAAAAsKzAAAAAAAAoqUAAAAAAAGW0wAAAAAAABqzAAAAAAAADtcAAAAAAAPeqwAAAAAAAIKzAAAAAAAC4nMAAAAAAAF+wwAAAAAAAILTAAAAAAADYtUAAAAAAAEK3wAAAAAAApbPAAAAAAAAxt8AAAAAAAHybwAAAAAAATK3AAAAAAADKs8AAAAAAAAAAAAAAAAAADLLAAAAAAACupEAAAAAAABicQAAAAAAA2LPAAAAAAAC+ssAAAAAAAFCJQAAAAABA+MNAAAAAAIDBx0AAAAAAAOatQAAAAAAAd7bAAAAAAADts8AAAAAAAKW4wAAAAAAAsJLAAAAAAIAMtcAAAAAAACKkQAAAAAAAGLvA",
          "dtype": "f8"
         }
        },
        {
         "line": {
          "color": "red",
          "width": 2
         },
         "mode": "lines",
         "name": "Line of Equality",
         "type": "scatter",
         "x": {
          "bdata": "AAAAAACI48DzdobEvAnjwObtDIl5i+LA2WSTTTYN4sDM2xkS847hwL9SoNavEOHAsskmm2yS4MCmQK1fKRTgwDFvZ0jMK9/AGF100UUv3sD+SoFavzLdwOQ4juM4NtzAyiabbLI528CwFKj1Kz3awJYCtX6lQNnAfPDBBx9E2MBi3s6QmEfXwEnM2xkSS9bAL7roootO1cAVqPUrBVLUwPuVArV+VdPA4YMPPvhY0sDHcRzHcVzRwK5fKVDrX9DAKJtsssnGzsD0dobEvM3MwMBSoNav1MrAjC666KLbyMBYCtT6leLGwCbm7QyJ6cTA8sEHH3zwwsC+nSExb/fAwBTzdobE/L3AsKqqqqoKusBIYt7OkBi2wOAZEvN2JrLA8KKLLrporMAgEvN2hoSkwKACtX6lQJnAAMIHH3zwgsCAArV+pUB5QEBi3s6QGJZA8MEHH3zwokDAUqDWr9SqQMhxHMdxXLFAKLroootOtUCQArV+pUC5QPhKgVq/Mr1AsMkmm2ySwEDk7QyJeYvCQBgS83aGhMRATDbZZJN9xkCAWr9SoHbIQLR+pUCtb8pA6KKLLrpozEAcx3Ecx2HOQKj1KwVqLdBAwgcffPAp0UDaGRLzdibSQPQrBWr9ItNADj744IMf1EAoUOtXChzVQEJi3s6QGNZAXHTRRRcV10B2hsS8nRHYQJCYtzMkDtlAqKqqqqoK2kDEvJ0hMQfbQNzOkJi3A9xA+OCDDz4A3UAQ83aGxPzdQCwFav1K+d5ARBdddNH130CwFKj1K3ngQLydITFv9+BAyiabbLJ14UDWrxSo9fPhQOI4juM4cuJA8MEHH3zw4kD8SoFav27jQArU+pUC7eNAFl100UVr5EAk5u0MienkQDBvZ0jMZ+VAPvjggw/m5UBKgVq/UmTmQFgK1PqV4uZAZJNNNtlg50ByHMdxHN/nQH6lQK1fXehAii666KLb6ECYtzMk5lnpQKRArV8p2OlAsskmm2xW6kC+UqDWr9TqQMzbGRLzUutA2GSTTTbR60Dm7QyJeU/sQPJ2hsS8zexAAAAAAABM7UA=",
          "dtype": "f8"
         },
         "y": {
          "bdata": "AAAAAACI48DzdobEvAnjwObtDIl5i+LA2WSTTTYN4sDM2xkS847hwL9SoNavEOHAsskmm2yS4MCmQK1fKRTgwDFvZ0jMK9/AGF100UUv3sD+SoFavzLdwOQ4juM4NtzAyiabbLI528CwFKj1Kz3awJYCtX6lQNnAfPDBBx9E2MBi3s6QmEfXwEnM2xkSS9bAL7roootO1cAVqPUrBVLUwPuVArV+VdPA4YMPPvhY0sDHcRzHcVzRwK5fKVDrX9DAKJtsssnGzsD0dobEvM3MwMBSoNav1MrAjC666KLbyMBYCtT6leLGwCbm7QyJ6cTA8sEHH3zwwsC+nSExb/fAwBTzdobE/L3AsKqqqqoKusBIYt7OkBi2wOAZEvN2JrLA8KKLLrporMAgEvN2hoSkwKACtX6lQJnAAMIHH3zwgsCAArV+pUB5QEBi3s6QGJZA8MEHH3zwokDAUqDWr9SqQMhxHMdxXLFAKLroootOtUCQArV+pUC5QPhKgVq/Mr1AsMkmm2ySwEDk7QyJeYvCQBgS83aGhMRATDbZZJN9xkCAWr9SoHbIQLR+pUCtb8pA6KKLLrpozEAcx3Ecx2HOQKj1KwVqLdBAwgcffPAp0UDaGRLzdibSQPQrBWr9ItNADj744IMf1EAoUOtXChzVQEJi3s6QGNZAXHTRRRcV10B2hsS8nRHYQJCYtzMkDtlAqKqqqqoK2kDEvJ0hMQfbQNzOkJi3A9xA+OCDDz4A3UAQ83aGxPzdQCwFav1K+d5ARBdddNH130CwFKj1K3ngQLydITFv9+BAyiabbLJ14UDWrxSo9fPhQOI4juM4cuJA8MEHH3zw4kD8SoFav27jQArU+pUC7eNAFl100UVr5EAk5u0MienkQDBvZ0jMZ+VAPvjggw/m5UBKgVq/UmTmQFgK1PqV4uZAZJNNNtlg50ByHMdxHN/nQH6lQK1fXehAii666KLb6ECYtzMk5lnpQKRArV8p2OlAsskmm2xW6kC+UqDWr9TqQMzbGRLzUutA2GSTTTbR60Dm7QyJeU/sQPJ2hsS8zexAAAAAAABM7UA=",
          "dtype": "f8"
         }
        }
       ],
       "layout": {
        "annotations": [
         {
          "font": {
           "size": 16
          },
          "showarrow": false,
          "text": "Overall R2: -0.14",
          "x": 0.1,
          "xref": "paper",
          "y": 0.95,
          "yref": "paper"
         }
        ],
        "height": 600,
        "legend": {
         "title": {
          "text": "Occupation"
         }
        },
        "template": {
         "data": {
          "bar": [
           {
            "error_x": {
             "color": "#2a3f5f"
            },
            "error_y": {
             "color": "#2a3f5f"
            },
            "marker": {
             "line": {
              "color": "#E5ECF6",
              "width": 0.5
             },
             "pattern": {
              "fillmode": "overlay",
              "size": 10,
              "solidity": 0.2
             }
            },
            "type": "bar"
           }
          ],
          "barpolar": [
           {
            "marker": {
             "line": {
              "color": "#E5ECF6",
              "width": 0.5
             },
             "pattern": {
              "fillmode": "overlay",
              "size": 10,
              "solidity": 0.2
             }
            },
            "type": "barpolar"
           }
          ],
          "carpet": [
           {
            "aaxis": {
             "endlinecolor": "#2a3f5f",
             "gridcolor": "white",
             "linecolor": "white",
             "minorgridcolor": "white",
             "startlinecolor": "#2a3f5f"
            },
            "baxis": {
             "endlinecolor": "#2a3f5f",
             "gridcolor": "white",
             "linecolor": "white",
             "minorgridcolor": "white",
             "startlinecolor": "#2a3f5f"
            },
            "type": "carpet"
           }
          ],
          "choropleth": [
           {
            "colorbar": {
             "outlinewidth": 0,
             "ticks": ""
            },
            "type": "choropleth"
           }
          ],
          "contour": [
           {
            "colorbar": {
             "outlinewidth": 0,
             "ticks": ""
            },
            "colorscale": [
             [
              0,
              "#0d0887"
             ],
             [
              0.1111111111111111,
              "#46039f"
             ],
             [
              0.2222222222222222,
              "#7201a8"
             ],
             [
              0.3333333333333333,
              "#9c179e"
             ],
             [
              0.4444444444444444,
              "#bd3786"
             ],
             [
              0.5555555555555556,
              "#d8576b"
             ],
             [
              0.6666666666666666,
              "#ed7953"
             ],
             [
              0.7777777777777778,
              "#fb9f3a"
             ],
             [
              0.8888888888888888,
              "#fdca26"
             ],
             [
              1,
              "#f0f921"
             ]
            ],
            "type": "contour"
           }
          ],
          "contourcarpet": [
           {
            "colorbar": {
             "outlinewidth": 0,
             "ticks": ""
            },
            "type": "contourcarpet"
           }
          ],
          "heatmap": [
           {
            "colorbar": {
             "outlinewidth": 0,
             "ticks": ""
            },
            "colorscale": [
             [
              0,
              "#0d0887"
             ],
             [
              0.1111111111111111,
              "#46039f"
             ],
             [
              0.2222222222222222,
              "#7201a8"
             ],
             [
              0.3333333333333333,
              "#9c179e"
             ],
             [
              0.4444444444444444,
              "#bd3786"
             ],
             [
              0.5555555555555556,
              "#d8576b"
             ],
             [
              0.6666666666666666,
              "#ed7953"
             ],
             [
              0.7777777777777778,
              "#fb9f3a"
             ],
             [
              0.8888888888888888,
              "#fdca26"
             ],
             [
              1,
              "#f0f921"
             ]
            ],
            "type": "heatmap"
           }
          ],
          "histogram": [
           {
            "marker": {
             "pattern": {
              "fillmode": "overlay",
              "size": 10,
              "solidity": 0.2
             }
            },
            "type": "histogram"
           }
          ],
          "histogram2d": [
           {
            "colorbar": {
             "outlinewidth": 0,
             "ticks": ""
            },
            "colorscale": [
             [
              0,
              "#0d0887"
             ],
             [
              0.1111111111111111,
              "#46039f"
             ],
             [
              0.2222222222222222,
              "#7201a8"
             ],
             [
              0.3333333333333333,
              "#9c179e"
             ],
             [
              0.4444444444444444,
              "#bd3786"
             ],
             [
              0.5555555555555556,
              "#d8576b"
             ],
             [
              0.6666666666666666,
              "#ed7953"
             ],
             [
              0.7777777777777778,
              "#fb9f3a"
             ],
             [
              0.8888888888888888,
              "#fdca26"
             ],
             [
              1,
              "#f0f921"
             ]
            ],
            "type": "histogram2d"
           }
          ],
          "histogram2dcontour": [
           {
            "colorbar": {
             "outlinewidth": 0,
             "ticks": ""
            },
            "colorscale": [
             [
              0,
              "#0d0887"
             ],
             [
              0.1111111111111111,
              "#46039f"
             ],
             [
              0.2222222222222222,
              "#7201a8"
             ],
             [
              0.3333333333333333,
              "#9c179e"
             ],
             [
              0.4444444444444444,
              "#bd3786"
             ],
             [
              0.5555555555555556,
              "#d8576b"
             ],
             [
              0.6666666666666666,
              "#ed7953"
             ],
             [
              0.7777777777777778,
              "#fb9f3a"
             ],
             [
              0.8888888888888888,
              "#fdca26"
             ],
             [
              1,
              "#f0f921"
             ]
            ],
            "type": "histogram2dcontour"
           }
          ],
          "mesh3d": [
           {
            "colorbar": {
             "outlinewidth": 0,
             "ticks": ""
            },
            "type": "mesh3d"
           }
          ],
          "parcoords": [
           {
            "line": {
             "colorbar": {
              "outlinewidth": 0,
              "ticks": ""
             }
            },
            "type": "parcoords"
           }
          ],
          "pie": [
           {
            "automargin": true,
            "type": "pie"
           }
          ],
          "scatter": [
           {
            "fillpattern": {
             "fillmode": "overlay",
             "size": 10,
             "solidity": 0.2
            },
            "type": "scatter"
           }
          ],
          "scatter3d": [
           {
            "line": {
             "colorbar": {
              "outlinewidth": 0,
              "ticks": ""
             }
            },
            "marker": {
             "colorbar": {
              "outlinewidth": 0,
              "ticks": ""
             }
            },
            "type": "scatter3d"
           }
          ],
          "scattercarpet": [
           {
            "marker": {
             "colorbar": {
              "outlinewidth": 0,
              "ticks": ""
             }
            },
            "type": "scattercarpet"
           }
          ],
          "scattergeo": [
           {
            "marker": {
             "colorbar": {
              "outlinewidth": 0,
              "ticks": ""
             }
            },
            "type": "scattergeo"
           }
          ],
          "scattergl": [
           {
            "marker": {
             "colorbar": {
              "outlinewidth": 0,
              "ticks": ""
             }
            },
            "type": "scattergl"
           }
          ],
          "scattermap": [
           {
            "marker": {
             "colorbar": {
              "outlinewidth": 0,
              "ticks": ""
             }
            },
            "type": "scattermap"
           }
          ],
          "scattermapbox": [
           {
            "marker": {
             "colorbar": {
              "outlinewidth": 0,
              "ticks": ""
             }
            },
            "type": "scattermapbox"
           }
          ],
          "scatterpolar": [
           {
            "marker": {
             "colorbar": {
              "outlinewidth": 0,
              "ticks": ""
             }
            },
            "type": "scatterpolar"
           }
          ],
          "scatterpolargl": [
           {
            "marker": {
             "colorbar": {
              "outlinewidth": 0,
              "ticks": ""
             }
            },
            "type": "scatterpolargl"
           }
          ],
          "scatterternary": [
           {
            "marker": {
             "colorbar": {
              "outlinewidth": 0,
              "ticks": ""
             }
            },
            "type": "scatterternary"
           }
          ],
          "surface": [
           {
            "colorbar": {
             "outlinewidth": 0,
             "ticks": ""
            },
            "colorscale": [
             [
              0,
              "#0d0887"
             ],
             [
              0.1111111111111111,
              "#46039f"
             ],
             [
              0.2222222222222222,
              "#7201a8"
             ],
             [
              0.3333333333333333,
              "#9c179e"
             ],
             [
              0.4444444444444444,
              "#bd3786"
             ],
             [
              0.5555555555555556,
              "#d8576b"
             ],
             [
              0.6666666666666666,
              "#ed7953"
             ],
             [
              0.7777777777777778,
              "#fb9f3a"
             ],
             [
              0.8888888888888888,
              "#fdca26"
             ],
             [
              1,
              "#f0f921"
             ]
            ],
            "type": "surface"
           }
          ],
          "table": [
           {
            "cells": {
             "fill": {
              "color": "#EBF0F8"
             },
             "line": {
              "color": "white"
             }
            },
            "header": {
             "fill": {
              "color": "#C8D4E3"
             },
             "line": {
              "color": "white"
             }
            },
            "type": "table"
           }
          ]
         },
         "layout": {
          "annotationdefaults": {
           "arrowcolor": "#2a3f5f",
           "arrowhead": 0,
           "arrowwidth": 1
          },
          "autotypenumbers": "strict",
          "coloraxis": {
           "colorbar": {
            "outlinewidth": 0,
            "ticks": ""
           }
          },
          "colorscale": {
           "diverging": [
            [
             0,
             "#8e0152"
            ],
            [
             0.1,
             "#c51b7d"
            ],
            [
             0.2,
             "#de77ae"
            ],
            [
             0.3,
             "#f1b6da"
            ],
            [
             0.4,
             "#fde0ef"
            ],
            [
             0.5,
             "#f7f7f7"
            ],
            [
             0.6,
             "#e6f5d0"
            ],
            [
             0.7,
             "#b8e186"
            ],
            [
             0.8,
             "#7fbc41"
            ],
            [
             0.9,
             "#4d9221"
            ],
            [
             1,
             "#276419"
            ]
           ],
           "sequential": [
            [
             0,
             "#0d0887"
            ],
            [
             0.1111111111111111,
             "#46039f"
            ],
            [
             0.2222222222222222,
             "#7201a8"
            ],
            [
             0.3333333333333333,
             "#9c179e"
            ],
            [
             0.4444444444444444,
             "#bd3786"
            ],
            [
             0.5555555555555556,
             "#d8576b"
            ],
            [
             0.6666666666666666,
             "#ed7953"
            ],
            [
             0.7777777777777778,
             "#fb9f3a"
            ],
            [
             0.8888888888888888,
             "#fdca26"
            ],
            [
             1,
             "#f0f921"
            ]
           ],
           "sequentialminus": [
            [
             0,
             "#0d0887"
            ],
            [
             0.1111111111111111,
             "#46039f"
            ],
            [
             0.2222222222222222,
             "#7201a8"
            ],
            [
             0.3333333333333333,
             "#9c179e"
            ],
            [
             0.4444444444444444,
             "#bd3786"
            ],
            [
             0.5555555555555556,
             "#d8576b"
            ],
            [
             0.6666666666666666,
             "#ed7953"
            ],
            [
             0.7777777777777778,
             "#fb9f3a"
            ],
            [
             0.8888888888888888,
             "#fdca26"
            ],
            [
             1,
             "#f0f921"
            ]
           ]
          },
          "colorway": [
           "#636efa",
           "#EF553B",
           "#00cc96",
           "#ab63fa",
           "#FFA15A",
           "#19d3f3",
           "#FF6692",
           "#B6E880",
           "#FF97FF",
           "#FECB52"
          ],
          "font": {
           "color": "#2a3f5f"
          },
          "geo": {
           "bgcolor": "white",
           "lakecolor": "white",
           "landcolor": "#E5ECF6",
           "showlakes": true,
           "showland": true,
           "subunitcolor": "white"
          },
          "hoverlabel": {
           "align": "left"
          },
          "hovermode": "closest",
          "mapbox": {
           "style": "light"
          },
          "paper_bgcolor": "white",
          "plot_bgcolor": "#E5ECF6",
          "polar": {
           "angularaxis": {
            "gridcolor": "white",
            "linecolor": "white",
            "ticks": ""
           },
           "bgcolor": "#E5ECF6",
           "radialaxis": {
            "gridcolor": "white",
            "linecolor": "white",
            "ticks": ""
           }
          },
          "scene": {
           "xaxis": {
            "backgroundcolor": "#E5ECF6",
            "gridcolor": "white",
            "gridwidth": 2,
            "linecolor": "white",
            "showbackground": true,
            "ticks": "",
            "zerolinecolor": "white"
           },
           "yaxis": {
            "backgroundcolor": "#E5ECF6",
            "gridcolor": "white",
            "gridwidth": 2,
            "linecolor": "white",
            "showbackground": true,
            "ticks": "",
            "zerolinecolor": "white"
           },
           "zaxis": {
            "backgroundcolor": "#E5ECF6",
            "gridcolor": "white",
            "gridwidth": 2,
            "linecolor": "white",
            "showbackground": true,
            "ticks": "",
            "zerolinecolor": "white"
           }
          },
          "shapedefaults": {
           "line": {
            "color": "#2a3f5f"
           }
          },
          "ternary": {
           "aaxis": {
            "gridcolor": "white",
            "linecolor": "white",
            "ticks": ""
           },
           "baxis": {
            "gridcolor": "white",
            "linecolor": "white",
            "ticks": ""
           },
           "bgcolor": "#E5ECF6",
           "caxis": {
            "gridcolor": "white",
            "linecolor": "white",
            "ticks": ""
           }
          },
          "title": {
           "x": 0.05
          },
          "xaxis": {
           "automargin": true,
           "gridcolor": "white",
           "linecolor": "white",
           "ticks": "",
           "title": {
            "standoff": 15
           },
           "zerolinecolor": "white",
           "zerolinewidth": 2
          },
          "yaxis": {
           "automargin": true,
           "gridcolor": "white",
           "linecolor": "white",
           "ticks": "",
           "title": {
            "standoff": 15
           },
           "zerolinecolor": "white",
           "zerolinewidth": 2
          }
         }
        },
        "title": {
         "text": "Residuals vs OES Estimates by MSA-Occupation: Educational Instruction and Library"
        },
        "width": 800,
        "xaxis": {
         "range": [
          -40000,
          60000
         ],
         "title": {
          "text": "OES Estimates"
         }
        },
        "yaxis": {
         "range": [
          -40000,
          60000
         ],
         "title": {
          "text": "Residuals"
         }
        }
       }
      }
     },
     "metadata": {},
     "output_type": "display_data"
    },
    {
     "name": "stdout",
     "output_type": "stream",
     "text": [
      "Overall R2:  -0.13287181046992536\n"
     ]
    },
    {
     "data": {
      "application/vnd.plotly.v1+json": {
       "config": {
        "plotlyServerURL": "https://plot.ly"
       },
       "data": [
        {
         "marker": {
          "line": {
           "color": "DarkSlateGrey",
           "width": 1
          },
          "size": 5
         },
         "mode": "markers",
         "name": "Healthcare Practitioners and Technical",
         "type": "scatter",
         "x": {
          "bdata": "AAAAAABhx8AAAAAAgPvfwAAAAAAAqc/AAAAAAIAZ28AAAAAAAIHQwAAAAAAA1srAAAAAAIBF3MAAAAAAAHyqQAAAAACAutDAAAAAAIAm3cAAAAAAgH7VwAAAAAAAhMzAAAAAAID+0sAAAAAAQJbgwAAAAAAA89HAVFVVVdXB1sAAAAAAALPPwAAAAAAAp8fAAAAAAABVzsAAAAAAAO7WwAAAAAAA1trAAAAAAACAVkAAAAAAAPjRwAAAAAAAMs7AAAAAAABXzMAAAAAAACzVwAAAAAAAFLnAAAAAAADwhEAAAAAAgNPawAAAAACAiNDAAAAAAAAo2cAAAAAAgE7TwAAAAAAAWMbAAAAAAAA4uMAAAAAAgBjXwAAAAACATdnAAAAAAABAlUAAAAAAAGbXwAAAAAAAk9LAAAAAAACT18AAAAAAAEXFwAAAAAAA7sHAAAAAAADf28AAAAAAAAAAAAAAAACAM9DAAAAAAACgdEAAAAAAAE7GQAAAAAAA0dXAAAAAAAAx1cAAAAAAAACeQAAAAACA9dFAAAAAAAAY2kAAAAAAAJCaQAAAAAAAp9LAAAAAAAC4ysAAAAAAABbSwAAAAAAAYcJAAAAAAICf0sAAAAAAAOCFwAAAAACAatrA",
          "dtype": "f8"
         },
         "y": {
          "bdata": "AAAAAACPu8AAAAAAAPS8wAAAAAAAlKXAAAAAAAALuMAAAAAAAM2zwAAAAAAARKjAAAAAAAChtsAAAAAAAK6rQAAAAAAATbbAAAAAAAAmv8AAAAAAAB65wAAAAAAAkHvAAAAAAACAvMAAAAAAANq4wAAAAAAAEbjAAAAAAABwtcAAAAAAgFulwAAAAAAANaDAAAAAAABYtMAAAAAAAHC4wAAAAACArMDAAAAAAACYi8AAAAAAADbAwAAAAAAAtJ3AAAAAAAB7usAAAAAAAMq/wAAAAAAA7K7Aq6qqqqrGsUAAAAAAAI29wAAAAAAAtLLAAAAAAABHvcAAAAAAgECxwAAAAAAA1LHAAAAAAADOocAAAAAAAIS0wAAAAAAAmL7AAAAAAACys0AAAAAAANm+wAAAAAAA0rzAAAAAAAAkw8AAAAAAAFSUwAAAAAAAb7HAAAAAAADUv8AAAAAAAAAAAAAAAAAAgbzAAAAAAACqrEAAAAAAADSoQAAAAAAAhLzAAAAAAABStcAAAAAAACCWQAAAAABAushAAAAAAACpzUAAAAAAAKSoQAAAAAAAjLzAAAAAAAD3u8AAAAAAAL7AwAAAAAAAKIDAAAAAAAAgvsAAAAAAAPirQAAAAACAxsLA",
          "dtype": "f8"
         }
        },
        {
         "line": {
          "color": "red",
          "width": 2
         },
         "mode": "lines",
         "name": "Line of Equality",
         "type": "scatter",
         "x": {
          "bdata": "AAAAAACI48DzdobEvAnjwObtDIl5i+LA2WSTTTYN4sDM2xkS847hwL9SoNavEOHAsskmm2yS4MCmQK1fKRTgwDFvZ0jMK9/AGF100UUv3sD+SoFavzLdwOQ4juM4NtzAyiabbLI528CwFKj1Kz3awJYCtX6lQNnAfPDBBx9E2MBi3s6QmEfXwEnM2xkSS9bAL7roootO1cAVqPUrBVLUwPuVArV+VdPA4YMPPvhY0sDHcRzHcVzRwK5fKVDrX9DAKJtsssnGzsD0dobEvM3MwMBSoNav1MrAjC666KLbyMBYCtT6leLGwCbm7QyJ6cTA8sEHH3zwwsC+nSExb/fAwBTzdobE/L3AsKqqqqoKusBIYt7OkBi2wOAZEvN2JrLA8KKLLrporMAgEvN2hoSkwKACtX6lQJnAAMIHH3zwgsCAArV+pUB5QEBi3s6QGJZA8MEHH3zwokDAUqDWr9SqQMhxHMdxXLFAKLroootOtUCQArV+pUC5QPhKgVq/Mr1AsMkmm2ySwEDk7QyJeYvCQBgS83aGhMRATDbZZJN9xkCAWr9SoHbIQLR+pUCtb8pA6KKLLrpozEAcx3Ecx2HOQKj1KwVqLdBAwgcffPAp0UDaGRLzdibSQPQrBWr9ItNADj744IMf1EAoUOtXChzVQEJi3s6QGNZAXHTRRRcV10B2hsS8nRHYQJCYtzMkDtlAqKqqqqoK2kDEvJ0hMQfbQNzOkJi3A9xA+OCDDz4A3UAQ83aGxPzdQCwFav1K+d5ARBdddNH130CwFKj1K3ngQLydITFv9+BAyiabbLJ14UDWrxSo9fPhQOI4juM4cuJA8MEHH3zw4kD8SoFav27jQArU+pUC7eNAFl100UVr5EAk5u0MienkQDBvZ0jMZ+VAPvjggw/m5UBKgVq/UmTmQFgK1PqV4uZAZJNNNtlg50ByHMdxHN/nQH6lQK1fXehAii666KLb6ECYtzMk5lnpQKRArV8p2OlAsskmm2xW6kC+UqDWr9TqQMzbGRLzUutA2GSTTTbR60Dm7QyJeU/sQPJ2hsS8zexAAAAAAABM7UA=",
          "dtype": "f8"
         },
         "y": {
          "bdata": "AAAAAACI48DzdobEvAnjwObtDIl5i+LA2WSTTTYN4sDM2xkS847hwL9SoNavEOHAsskmm2yS4MCmQK1fKRTgwDFvZ0jMK9/AGF100UUv3sD+SoFavzLdwOQ4juM4NtzAyiabbLI528CwFKj1Kz3awJYCtX6lQNnAfPDBBx9E2MBi3s6QmEfXwEnM2xkSS9bAL7roootO1cAVqPUrBVLUwPuVArV+VdPA4YMPPvhY0sDHcRzHcVzRwK5fKVDrX9DAKJtsssnGzsD0dobEvM3MwMBSoNav1MrAjC666KLbyMBYCtT6leLGwCbm7QyJ6cTA8sEHH3zwwsC+nSExb/fAwBTzdobE/L3AsKqqqqoKusBIYt7OkBi2wOAZEvN2JrLA8KKLLrporMAgEvN2hoSkwKACtX6lQJnAAMIHH3zwgsCAArV+pUB5QEBi3s6QGJZA8MEHH3zwokDAUqDWr9SqQMhxHMdxXLFAKLroootOtUCQArV+pUC5QPhKgVq/Mr1AsMkmm2ySwEDk7QyJeYvCQBgS83aGhMRATDbZZJN9xkCAWr9SoHbIQLR+pUCtb8pA6KKLLrpozEAcx3Ecx2HOQKj1KwVqLdBAwgcffPAp0UDaGRLzdibSQPQrBWr9ItNADj744IMf1EAoUOtXChzVQEJi3s6QGNZAXHTRRRcV10B2hsS8nRHYQJCYtzMkDtlAqKqqqqoK2kDEvJ0hMQfbQNzOkJi3A9xA+OCDDz4A3UAQ83aGxPzdQCwFav1K+d5ARBdddNH130CwFKj1K3ngQLydITFv9+BAyiabbLJ14UDWrxSo9fPhQOI4juM4cuJA8MEHH3zw4kD8SoFav27jQArU+pUC7eNAFl100UVr5EAk5u0MienkQDBvZ0jMZ+VAPvjggw/m5UBKgVq/UmTmQFgK1PqV4uZAZJNNNtlg50ByHMdxHN/nQH6lQK1fXehAii666KLb6ECYtzMk5lnpQKRArV8p2OlAsskmm2xW6kC+UqDWr9TqQMzbGRLzUutA2GSTTTbR60Dm7QyJeU/sQPJ2hsS8zexAAAAAAABM7UA=",
          "dtype": "f8"
         }
        }
       ],
       "layout": {
        "annotations": [
         {
          "font": {
           "size": 16
          },
          "showarrow": false,
          "text": "Overall R2: -0.13",
          "x": 0.1,
          "xref": "paper",
          "y": 0.95,
          "yref": "paper"
         }
        ],
        "height": 600,
        "legend": {
         "title": {
          "text": "Occupation"
         }
        },
        "template": {
         "data": {
          "bar": [
           {
            "error_x": {
             "color": "#2a3f5f"
            },
            "error_y": {
             "color": "#2a3f5f"
            },
            "marker": {
             "line": {
              "color": "#E5ECF6",
              "width": 0.5
             },
             "pattern": {
              "fillmode": "overlay",
              "size": 10,
              "solidity": 0.2
             }
            },
            "type": "bar"
           }
          ],
          "barpolar": [
           {
            "marker": {
             "line": {
              "color": "#E5ECF6",
              "width": 0.5
             },
             "pattern": {
              "fillmode": "overlay",
              "size": 10,
              "solidity": 0.2
             }
            },
            "type": "barpolar"
           }
          ],
          "carpet": [
           {
            "aaxis": {
             "endlinecolor": "#2a3f5f",
             "gridcolor": "white",
             "linecolor": "white",
             "minorgridcolor": "white",
             "startlinecolor": "#2a3f5f"
            },
            "baxis": {
             "endlinecolor": "#2a3f5f",
             "gridcolor": "white",
             "linecolor": "white",
             "minorgridcolor": "white",
             "startlinecolor": "#2a3f5f"
            },
            "type": "carpet"
           }
          ],
          "choropleth": [
           {
            "colorbar": {
             "outlinewidth": 0,
             "ticks": ""
            },
            "type": "choropleth"
           }
          ],
          "contour": [
           {
            "colorbar": {
             "outlinewidth": 0,
             "ticks": ""
            },
            "colorscale": [
             [
              0,
              "#0d0887"
             ],
             [
              0.1111111111111111,
              "#46039f"
             ],
             [
              0.2222222222222222,
              "#7201a8"
             ],
             [
              0.3333333333333333,
              "#9c179e"
             ],
             [
              0.4444444444444444,
              "#bd3786"
             ],
             [
              0.5555555555555556,
              "#d8576b"
             ],
             [
              0.6666666666666666,
              "#ed7953"
             ],
             [
              0.7777777777777778,
              "#fb9f3a"
             ],
             [
              0.8888888888888888,
              "#fdca26"
             ],
             [
              1,
              "#f0f921"
             ]
            ],
            "type": "contour"
           }
          ],
          "contourcarpet": [
           {
            "colorbar": {
             "outlinewidth": 0,
             "ticks": ""
            },
            "type": "contourcarpet"
           }
          ],
          "heatmap": [
           {
            "colorbar": {
             "outlinewidth": 0,
             "ticks": ""
            },
            "colorscale": [
             [
              0,
              "#0d0887"
             ],
             [
              0.1111111111111111,
              "#46039f"
             ],
             [
              0.2222222222222222,
              "#7201a8"
             ],
             [
              0.3333333333333333,
              "#9c179e"
             ],
             [
              0.4444444444444444,
              "#bd3786"
             ],
             [
              0.5555555555555556,
              "#d8576b"
             ],
             [
              0.6666666666666666,
              "#ed7953"
             ],
             [
              0.7777777777777778,
              "#fb9f3a"
             ],
             [
              0.8888888888888888,
              "#fdca26"
             ],
             [
              1,
              "#f0f921"
             ]
            ],
            "type": "heatmap"
           }
          ],
          "histogram": [
           {
            "marker": {
             "pattern": {
              "fillmode": "overlay",
              "size": 10,
              "solidity": 0.2
             }
            },
            "type": "histogram"
           }
          ],
          "histogram2d": [
           {
            "colorbar": {
             "outlinewidth": 0,
             "ticks": ""
            },
            "colorscale": [
             [
              0,
              "#0d0887"
             ],
             [
              0.1111111111111111,
              "#46039f"
             ],
             [
              0.2222222222222222,
              "#7201a8"
             ],
             [
              0.3333333333333333,
              "#9c179e"
             ],
             [
              0.4444444444444444,
              "#bd3786"
             ],
             [
              0.5555555555555556,
              "#d8576b"
             ],
             [
              0.6666666666666666,
              "#ed7953"
             ],
             [
              0.7777777777777778,
              "#fb9f3a"
             ],
             [
              0.8888888888888888,
              "#fdca26"
             ],
             [
              1,
              "#f0f921"
             ]
            ],
            "type": "histogram2d"
           }
          ],
          "histogram2dcontour": [
           {
            "colorbar": {
             "outlinewidth": 0,
             "ticks": ""
            },
            "colorscale": [
             [
              0,
              "#0d0887"
             ],
             [
              0.1111111111111111,
              "#46039f"
             ],
             [
              0.2222222222222222,
              "#7201a8"
             ],
             [
              0.3333333333333333,
              "#9c179e"
             ],
             [
              0.4444444444444444,
              "#bd3786"
             ],
             [
              0.5555555555555556,
              "#d8576b"
             ],
             [
              0.6666666666666666,
              "#ed7953"
             ],
             [
              0.7777777777777778,
              "#fb9f3a"
             ],
             [
              0.8888888888888888,
              "#fdca26"
             ],
             [
              1,
              "#f0f921"
             ]
            ],
            "type": "histogram2dcontour"
           }
          ],
          "mesh3d": [
           {
            "colorbar": {
             "outlinewidth": 0,
             "ticks": ""
            },
            "type": "mesh3d"
           }
          ],
          "parcoords": [
           {
            "line": {
             "colorbar": {
              "outlinewidth": 0,
              "ticks": ""
             }
            },
            "type": "parcoords"
           }
          ],
          "pie": [
           {
            "automargin": true,
            "type": "pie"
           }
          ],
          "scatter": [
           {
            "fillpattern": {
             "fillmode": "overlay",
             "size": 10,
             "solidity": 0.2
            },
            "type": "scatter"
           }
          ],
          "scatter3d": [
           {
            "line": {
             "colorbar": {
              "outlinewidth": 0,
              "ticks": ""
             }
            },
            "marker": {
             "colorbar": {
              "outlinewidth": 0,
              "ticks": ""
             }
            },
            "type": "scatter3d"
           }
          ],
          "scattercarpet": [
           {
            "marker": {
             "colorbar": {
              "outlinewidth": 0,
              "ticks": ""
             }
            },
            "type": "scattercarpet"
           }
          ],
          "scattergeo": [
           {
            "marker": {
             "colorbar": {
              "outlinewidth": 0,
              "ticks": ""
             }
            },
            "type": "scattergeo"
           }
          ],
          "scattergl": [
           {
            "marker": {
             "colorbar": {
              "outlinewidth": 0,
              "ticks": ""
             }
            },
            "type": "scattergl"
           }
          ],
          "scattermap": [
           {
            "marker": {
             "colorbar": {
              "outlinewidth": 0,
              "ticks": ""
             }
            },
            "type": "scattermap"
           }
          ],
          "scattermapbox": [
           {
            "marker": {
             "colorbar": {
              "outlinewidth": 0,
              "ticks": ""
             }
            },
            "type": "scattermapbox"
           }
          ],
          "scatterpolar": [
           {
            "marker": {
             "colorbar": {
              "outlinewidth": 0,
              "ticks": ""
             }
            },
            "type": "scatterpolar"
           }
          ],
          "scatterpolargl": [
           {
            "marker": {
             "colorbar": {
              "outlinewidth": 0,
              "ticks": ""
             }
            },
            "type": "scatterpolargl"
           }
          ],
          "scatterternary": [
           {
            "marker": {
             "colorbar": {
              "outlinewidth": 0,
              "ticks": ""
             }
            },
            "type": "scatterternary"
           }
          ],
          "surface": [
           {
            "colorbar": {
             "outlinewidth": 0,
             "ticks": ""
            },
            "colorscale": [
             [
              0,
              "#0d0887"
             ],
             [
              0.1111111111111111,
              "#46039f"
             ],
             [
              0.2222222222222222,
              "#7201a8"
             ],
             [
              0.3333333333333333,
              "#9c179e"
             ],
             [
              0.4444444444444444,
              "#bd3786"
             ],
             [
              0.5555555555555556,
              "#d8576b"
             ],
             [
              0.6666666666666666,
              "#ed7953"
             ],
             [
              0.7777777777777778,
              "#fb9f3a"
             ],
             [
              0.8888888888888888,
              "#fdca26"
             ],
             [
              1,
              "#f0f921"
             ]
            ],
            "type": "surface"
           }
          ],
          "table": [
           {
            "cells": {
             "fill": {
              "color": "#EBF0F8"
             },
             "line": {
              "color": "white"
             }
            },
            "header": {
             "fill": {
              "color": "#C8D4E3"
             },
             "line": {
              "color": "white"
             }
            },
            "type": "table"
           }
          ]
         },
         "layout": {
          "annotationdefaults": {
           "arrowcolor": "#2a3f5f",
           "arrowhead": 0,
           "arrowwidth": 1
          },
          "autotypenumbers": "strict",
          "coloraxis": {
           "colorbar": {
            "outlinewidth": 0,
            "ticks": ""
           }
          },
          "colorscale": {
           "diverging": [
            [
             0,
             "#8e0152"
            ],
            [
             0.1,
             "#c51b7d"
            ],
            [
             0.2,
             "#de77ae"
            ],
            [
             0.3,
             "#f1b6da"
            ],
            [
             0.4,
             "#fde0ef"
            ],
            [
             0.5,
             "#f7f7f7"
            ],
            [
             0.6,
             "#e6f5d0"
            ],
            [
             0.7,
             "#b8e186"
            ],
            [
             0.8,
             "#7fbc41"
            ],
            [
             0.9,
             "#4d9221"
            ],
            [
             1,
             "#276419"
            ]
           ],
           "sequential": [
            [
             0,
             "#0d0887"
            ],
            [
             0.1111111111111111,
             "#46039f"
            ],
            [
             0.2222222222222222,
             "#7201a8"
            ],
            [
             0.3333333333333333,
             "#9c179e"
            ],
            [
             0.4444444444444444,
             "#bd3786"
            ],
            [
             0.5555555555555556,
             "#d8576b"
            ],
            [
             0.6666666666666666,
             "#ed7953"
            ],
            [
             0.7777777777777778,
             "#fb9f3a"
            ],
            [
             0.8888888888888888,
             "#fdca26"
            ],
            [
             1,
             "#f0f921"
            ]
           ],
           "sequentialminus": [
            [
             0,
             "#0d0887"
            ],
            [
             0.1111111111111111,
             "#46039f"
            ],
            [
             0.2222222222222222,
             "#7201a8"
            ],
            [
             0.3333333333333333,
             "#9c179e"
            ],
            [
             0.4444444444444444,
             "#bd3786"
            ],
            [
             0.5555555555555556,
             "#d8576b"
            ],
            [
             0.6666666666666666,
             "#ed7953"
            ],
            [
             0.7777777777777778,
             "#fb9f3a"
            ],
            [
             0.8888888888888888,
             "#fdca26"
            ],
            [
             1,
             "#f0f921"
            ]
           ]
          },
          "colorway": [
           "#636efa",
           "#EF553B",
           "#00cc96",
           "#ab63fa",
           "#FFA15A",
           "#19d3f3",
           "#FF6692",
           "#B6E880",
           "#FF97FF",
           "#FECB52"
          ],
          "font": {
           "color": "#2a3f5f"
          },
          "geo": {
           "bgcolor": "white",
           "lakecolor": "white",
           "landcolor": "#E5ECF6",
           "showlakes": true,
           "showland": true,
           "subunitcolor": "white"
          },
          "hoverlabel": {
           "align": "left"
          },
          "hovermode": "closest",
          "mapbox": {
           "style": "light"
          },
          "paper_bgcolor": "white",
          "plot_bgcolor": "#E5ECF6",
          "polar": {
           "angularaxis": {
            "gridcolor": "white",
            "linecolor": "white",
            "ticks": ""
           },
           "bgcolor": "#E5ECF6",
           "radialaxis": {
            "gridcolor": "white",
            "linecolor": "white",
            "ticks": ""
           }
          },
          "scene": {
           "xaxis": {
            "backgroundcolor": "#E5ECF6",
            "gridcolor": "white",
            "gridwidth": 2,
            "linecolor": "white",
            "showbackground": true,
            "ticks": "",
            "zerolinecolor": "white"
           },
           "yaxis": {
            "backgroundcolor": "#E5ECF6",
            "gridcolor": "white",
            "gridwidth": 2,
            "linecolor": "white",
            "showbackground": true,
            "ticks": "",
            "zerolinecolor": "white"
           },
           "zaxis": {
            "backgroundcolor": "#E5ECF6",
            "gridcolor": "white",
            "gridwidth": 2,
            "linecolor": "white",
            "showbackground": true,
            "ticks": "",
            "zerolinecolor": "white"
           }
          },
          "shapedefaults": {
           "line": {
            "color": "#2a3f5f"
           }
          },
          "ternary": {
           "aaxis": {
            "gridcolor": "white",
            "linecolor": "white",
            "ticks": ""
           },
           "baxis": {
            "gridcolor": "white",
            "linecolor": "white",
            "ticks": ""
           },
           "bgcolor": "#E5ECF6",
           "caxis": {
            "gridcolor": "white",
            "linecolor": "white",
            "ticks": ""
           }
          },
          "title": {
           "x": 0.05
          },
          "xaxis": {
           "automargin": true,
           "gridcolor": "white",
           "linecolor": "white",
           "ticks": "",
           "title": {
            "standoff": 15
           },
           "zerolinecolor": "white",
           "zerolinewidth": 2
          },
          "yaxis": {
           "automargin": true,
           "gridcolor": "white",
           "linecolor": "white",
           "ticks": "",
           "title": {
            "standoff": 15
           },
           "zerolinecolor": "white",
           "zerolinewidth": 2
          }
         }
        },
        "title": {
         "text": "Residuals vs OES Estimates by MSA-Occupation: Healthcare Practitioners and Technical"
        },
        "width": 800,
        "xaxis": {
         "range": [
          -40000,
          60000
         ],
         "title": {
          "text": "OES Estimates"
         }
        },
        "yaxis": {
         "range": [
          -40000,
          60000
         ],
         "title": {
          "text": "Residuals"
         }
        }
       }
      }
     },
     "metadata": {},
     "output_type": "display_data"
    },
    {
     "name": "stdout",
     "output_type": "stream",
     "text": [
      "Overall R2:  0.5655861986130066\n"
     ]
    },
    {
     "data": {
      "application/vnd.plotly.v1+json": {
       "config": {
        "plotlyServerURL": "https://plot.ly"
       },
       "data": [
        {
         "marker": {
          "line": {
           "color": "DarkSlateGrey",
           "width": 1
          },
          "size": 5
         },
         "mode": "markers",
         "name": "Food Preparation and Serving Related",
         "type": "scatter",
         "x": {
          "bdata": "AAAAAAAUvsAAAAAAAALCwAAAAAAADLzAAAAAAADawcAAAAAAABiwwAAAAAAAoKnAAAAAAADSvsAAAAAAAASgQAAAAAAAKJnAAAAAAACcs8AAAAAAADi4wAAAAAAAdrHAAAAAAADsuMAAAAAAAKjBwAAAAAAAmKfArKqqqqoIvMAAAAAAABi6wAAAAAAAoJnAAAAAAAAMssAAAAAAAKKywAAAAAAAKsLAAAAAAABolcAAAAAAADa/wAAAAAAAXLfAAAAAAADyt8AAAAAAALS0wAAAAAAAfKXAAAAAAABwgsAAAAAAAJq6wAAAAAAAwrXAAAAAAADgv8AAAAAAAA6wwAAAAAAAZLnAAAAAAAAolMAAAAAAAHy6wAAAAAAALL/AAAAAAAAYpUAAAAAAAJi8wAAAAAAAArLAAAAAAADQscAAAAAAAISswAAAAAAAwGdAAAAAAADis8AAAAAAAAAAAAAAAAAAjrLAAAAAAABgncAAAAAAAECawAAAAAAAYLjAAAAAAABetcAAAAAAAICBQAAAAAAAtLRAAAAAAAAUpEAAAAAAADq2QAAAAAAAarPAAAAAAABwh8AAAAAAAHfAwAAAAAAA8L5AAAAAAAAyucAAAAAAAAA+wAAAAAAA1r/A",
          "dtype": "f8"
         },
         "y": {
          "bdata": "AAAAAABatMAAAAAAAPCxwAAAAAAA5qfAAAAAAAAXsMAAAAAAAEqmwAAAAAAA8qPAAAAAAABcs8AAAAAAAEiYQAAAAAAA7qbAAAAAAABzs8AAAAAAAA6wwAAAAAAAKJLAAAAAAABur8AAAAAAAI6xwAAAAAAA7KnAAAAAAADMq8AAAAAAgJenwAAAAAAADpDAAAAAAAC+rMAAAAAAAEmxwAAAAAAACLfAAAAAAAA0nsAAAAAAAGK1wAAAAAAARKzAAAAAAAAGsMAAAAAAAEaxwAAAAAAA4q7AVVVVVVWVfUAAAAAAAE+wwAAAAAAAOqXAAAAAAABfs8AAAAAAAAetwAAAAAAAWqvAAAAAAABEk8AAAAAAAGiqwAAAAAAAerDAAAAAAABuqUAAAAAAAAi0wAAAAAAAMK/AAAAAAADys8AAAAAAAJ6iwFVVVVVVaaXAAAAAAADsr8AAAAAAAAAAAAAAAAAA/7DAAAAAAAB0mMAAAAAAAKiFwAAAAAAAZKzAAAAAAAARscAAAAAAAEBwQAAAAAAAnrlAAAAAAAA1tkAAAAAAABauQAAAAAAA4bHAAAAAAAAArMAAAAAAADG2wAAAAAAArJDAAAAAAABSs8AAAAAAAJCUQAAAAAAAsLXA",
          "dtype": "f8"
         }
        },
        {
         "line": {
          "color": "red",
          "width": 2
         },
         "mode": "lines",
         "name": "Line of Equality",
         "type": "scatter",
         "x": {
          "bdata": "AAAAAACI48DzdobEvAnjwObtDIl5i+LA2WSTTTYN4sDM2xkS847hwL9SoNavEOHAsskmm2yS4MCmQK1fKRTgwDFvZ0jMK9/AGF100UUv3sD+SoFavzLdwOQ4juM4NtzAyiabbLI528CwFKj1Kz3awJYCtX6lQNnAfPDBBx9E2MBi3s6QmEfXwEnM2xkSS9bAL7roootO1cAVqPUrBVLUwPuVArV+VdPA4YMPPvhY0sDHcRzHcVzRwK5fKVDrX9DAKJtsssnGzsD0dobEvM3MwMBSoNav1MrAjC666KLbyMBYCtT6leLGwCbm7QyJ6cTA8sEHH3zwwsC+nSExb/fAwBTzdobE/L3AsKqqqqoKusBIYt7OkBi2wOAZEvN2JrLA8KKLLrporMAgEvN2hoSkwKACtX6lQJnAAMIHH3zwgsCAArV+pUB5QEBi3s6QGJZA8MEHH3zwokDAUqDWr9SqQMhxHMdxXLFAKLroootOtUCQArV+pUC5QPhKgVq/Mr1AsMkmm2ySwEDk7QyJeYvCQBgS83aGhMRATDbZZJN9xkCAWr9SoHbIQLR+pUCtb8pA6KKLLrpozEAcx3Ecx2HOQKj1KwVqLdBAwgcffPAp0UDaGRLzdibSQPQrBWr9ItNADj744IMf1EAoUOtXChzVQEJi3s6QGNZAXHTRRRcV10B2hsS8nRHYQJCYtzMkDtlAqKqqqqoK2kDEvJ0hMQfbQNzOkJi3A9xA+OCDDz4A3UAQ83aGxPzdQCwFav1K+d5ARBdddNH130CwFKj1K3ngQLydITFv9+BAyiabbLJ14UDWrxSo9fPhQOI4juM4cuJA8MEHH3zw4kD8SoFav27jQArU+pUC7eNAFl100UVr5EAk5u0MienkQDBvZ0jMZ+VAPvjggw/m5UBKgVq/UmTmQFgK1PqV4uZAZJNNNtlg50ByHMdxHN/nQH6lQK1fXehAii666KLb6ECYtzMk5lnpQKRArV8p2OlAsskmm2xW6kC+UqDWr9TqQMzbGRLzUutA2GSTTTbR60Dm7QyJeU/sQPJ2hsS8zexAAAAAAABM7UA=",
          "dtype": "f8"
         },
         "y": {
          "bdata": "AAAAAACI48DzdobEvAnjwObtDIl5i+LA2WSTTTYN4sDM2xkS847hwL9SoNavEOHAsskmm2yS4MCmQK1fKRTgwDFvZ0jMK9/AGF100UUv3sD+SoFavzLdwOQ4juM4NtzAyiabbLI528CwFKj1Kz3awJYCtX6lQNnAfPDBBx9E2MBi3s6QmEfXwEnM2xkSS9bAL7roootO1cAVqPUrBVLUwPuVArV+VdPA4YMPPvhY0sDHcRzHcVzRwK5fKVDrX9DAKJtsssnGzsD0dobEvM3MwMBSoNav1MrAjC666KLbyMBYCtT6leLGwCbm7QyJ6cTA8sEHH3zwwsC+nSExb/fAwBTzdobE/L3AsKqqqqoKusBIYt7OkBi2wOAZEvN2JrLA8KKLLrporMAgEvN2hoSkwKACtX6lQJnAAMIHH3zwgsCAArV+pUB5QEBi3s6QGJZA8MEHH3zwokDAUqDWr9SqQMhxHMdxXLFAKLroootOtUCQArV+pUC5QPhKgVq/Mr1AsMkmm2ySwEDk7QyJeYvCQBgS83aGhMRATDbZZJN9xkCAWr9SoHbIQLR+pUCtb8pA6KKLLrpozEAcx3Ecx2HOQKj1KwVqLdBAwgcffPAp0UDaGRLzdibSQPQrBWr9ItNADj744IMf1EAoUOtXChzVQEJi3s6QGNZAXHTRRRcV10B2hsS8nRHYQJCYtzMkDtlAqKqqqqoK2kDEvJ0hMQfbQNzOkJi3A9xA+OCDDz4A3UAQ83aGxPzdQCwFav1K+d5ARBdddNH130CwFKj1K3ngQLydITFv9+BAyiabbLJ14UDWrxSo9fPhQOI4juM4cuJA8MEHH3zw4kD8SoFav27jQArU+pUC7eNAFl100UVr5EAk5u0MienkQDBvZ0jMZ+VAPvjggw/m5UBKgVq/UmTmQFgK1PqV4uZAZJNNNtlg50ByHMdxHN/nQH6lQK1fXehAii666KLb6ECYtzMk5lnpQKRArV8p2OlAsskmm2xW6kC+UqDWr9TqQMzbGRLzUutA2GSTTTbR60Dm7QyJeU/sQPJ2hsS8zexAAAAAAABM7UA=",
          "dtype": "f8"
         }
        }
       ],
       "layout": {
        "annotations": [
         {
          "font": {
           "size": 16
          },
          "showarrow": false,
          "text": "Overall R2: 0.57",
          "x": 0.1,
          "xref": "paper",
          "y": 0.95,
          "yref": "paper"
         }
        ],
        "height": 600,
        "legend": {
         "title": {
          "text": "Occupation"
         }
        },
        "template": {
         "data": {
          "bar": [
           {
            "error_x": {
             "color": "#2a3f5f"
            },
            "error_y": {
             "color": "#2a3f5f"
            },
            "marker": {
             "line": {
              "color": "#E5ECF6",
              "width": 0.5
             },
             "pattern": {
              "fillmode": "overlay",
              "size": 10,
              "solidity": 0.2
             }
            },
            "type": "bar"
           }
          ],
          "barpolar": [
           {
            "marker": {
             "line": {
              "color": "#E5ECF6",
              "width": 0.5
             },
             "pattern": {
              "fillmode": "overlay",
              "size": 10,
              "solidity": 0.2
             }
            },
            "type": "barpolar"
           }
          ],
          "carpet": [
           {
            "aaxis": {
             "endlinecolor": "#2a3f5f",
             "gridcolor": "white",
             "linecolor": "white",
             "minorgridcolor": "white",
             "startlinecolor": "#2a3f5f"
            },
            "baxis": {
             "endlinecolor": "#2a3f5f",
             "gridcolor": "white",
             "linecolor": "white",
             "minorgridcolor": "white",
             "startlinecolor": "#2a3f5f"
            },
            "type": "carpet"
           }
          ],
          "choropleth": [
           {
            "colorbar": {
             "outlinewidth": 0,
             "ticks": ""
            },
            "type": "choropleth"
           }
          ],
          "contour": [
           {
            "colorbar": {
             "outlinewidth": 0,
             "ticks": ""
            },
            "colorscale": [
             [
              0,
              "#0d0887"
             ],
             [
              0.1111111111111111,
              "#46039f"
             ],
             [
              0.2222222222222222,
              "#7201a8"
             ],
             [
              0.3333333333333333,
              "#9c179e"
             ],
             [
              0.4444444444444444,
              "#bd3786"
             ],
             [
              0.5555555555555556,
              "#d8576b"
             ],
             [
              0.6666666666666666,
              "#ed7953"
             ],
             [
              0.7777777777777778,
              "#fb9f3a"
             ],
             [
              0.8888888888888888,
              "#fdca26"
             ],
             [
              1,
              "#f0f921"
             ]
            ],
            "type": "contour"
           }
          ],
          "contourcarpet": [
           {
            "colorbar": {
             "outlinewidth": 0,
             "ticks": ""
            },
            "type": "contourcarpet"
           }
          ],
          "heatmap": [
           {
            "colorbar": {
             "outlinewidth": 0,
             "ticks": ""
            },
            "colorscale": [
             [
              0,
              "#0d0887"
             ],
             [
              0.1111111111111111,
              "#46039f"
             ],
             [
              0.2222222222222222,
              "#7201a8"
             ],
             [
              0.3333333333333333,
              "#9c179e"
             ],
             [
              0.4444444444444444,
              "#bd3786"
             ],
             [
              0.5555555555555556,
              "#d8576b"
             ],
             [
              0.6666666666666666,
              "#ed7953"
             ],
             [
              0.7777777777777778,
              "#fb9f3a"
             ],
             [
              0.8888888888888888,
              "#fdca26"
             ],
             [
              1,
              "#f0f921"
             ]
            ],
            "type": "heatmap"
           }
          ],
          "histogram": [
           {
            "marker": {
             "pattern": {
              "fillmode": "overlay",
              "size": 10,
              "solidity": 0.2
             }
            },
            "type": "histogram"
           }
          ],
          "histogram2d": [
           {
            "colorbar": {
             "outlinewidth": 0,
             "ticks": ""
            },
            "colorscale": [
             [
              0,
              "#0d0887"
             ],
             [
              0.1111111111111111,
              "#46039f"
             ],
             [
              0.2222222222222222,
              "#7201a8"
             ],
             [
              0.3333333333333333,
              "#9c179e"
             ],
             [
              0.4444444444444444,
              "#bd3786"
             ],
             [
              0.5555555555555556,
              "#d8576b"
             ],
             [
              0.6666666666666666,
              "#ed7953"
             ],
             [
              0.7777777777777778,
              "#fb9f3a"
             ],
             [
              0.8888888888888888,
              "#fdca26"
             ],
             [
              1,
              "#f0f921"
             ]
            ],
            "type": "histogram2d"
           }
          ],
          "histogram2dcontour": [
           {
            "colorbar": {
             "outlinewidth": 0,
             "ticks": ""
            },
            "colorscale": [
             [
              0,
              "#0d0887"
             ],
             [
              0.1111111111111111,
              "#46039f"
             ],
             [
              0.2222222222222222,
              "#7201a8"
             ],
             [
              0.3333333333333333,
              "#9c179e"
             ],
             [
              0.4444444444444444,
              "#bd3786"
             ],
             [
              0.5555555555555556,
              "#d8576b"
             ],
             [
              0.6666666666666666,
              "#ed7953"
             ],
             [
              0.7777777777777778,
              "#fb9f3a"
             ],
             [
              0.8888888888888888,
              "#fdca26"
             ],
             [
              1,
              "#f0f921"
             ]
            ],
            "type": "histogram2dcontour"
           }
          ],
          "mesh3d": [
           {
            "colorbar": {
             "outlinewidth": 0,
             "ticks": ""
            },
            "type": "mesh3d"
           }
          ],
          "parcoords": [
           {
            "line": {
             "colorbar": {
              "outlinewidth": 0,
              "ticks": ""
             }
            },
            "type": "parcoords"
           }
          ],
          "pie": [
           {
            "automargin": true,
            "type": "pie"
           }
          ],
          "scatter": [
           {
            "fillpattern": {
             "fillmode": "overlay",
             "size": 10,
             "solidity": 0.2
            },
            "type": "scatter"
           }
          ],
          "scatter3d": [
           {
            "line": {
             "colorbar": {
              "outlinewidth": 0,
              "ticks": ""
             }
            },
            "marker": {
             "colorbar": {
              "outlinewidth": 0,
              "ticks": ""
             }
            },
            "type": "scatter3d"
           }
          ],
          "scattercarpet": [
           {
            "marker": {
             "colorbar": {
              "outlinewidth": 0,
              "ticks": ""
             }
            },
            "type": "scattercarpet"
           }
          ],
          "scattergeo": [
           {
            "marker": {
             "colorbar": {
              "outlinewidth": 0,
              "ticks": ""
             }
            },
            "type": "scattergeo"
           }
          ],
          "scattergl": [
           {
            "marker": {
             "colorbar": {
              "outlinewidth": 0,
              "ticks": ""
             }
            },
            "type": "scattergl"
           }
          ],
          "scattermap": [
           {
            "marker": {
             "colorbar": {
              "outlinewidth": 0,
              "ticks": ""
             }
            },
            "type": "scattermap"
           }
          ],
          "scattermapbox": [
           {
            "marker": {
             "colorbar": {
              "outlinewidth": 0,
              "ticks": ""
             }
            },
            "type": "scattermapbox"
           }
          ],
          "scatterpolar": [
           {
            "marker": {
             "colorbar": {
              "outlinewidth": 0,
              "ticks": ""
             }
            },
            "type": "scatterpolar"
           }
          ],
          "scatterpolargl": [
           {
            "marker": {
             "colorbar": {
              "outlinewidth": 0,
              "ticks": ""
             }
            },
            "type": "scatterpolargl"
           }
          ],
          "scatterternary": [
           {
            "marker": {
             "colorbar": {
              "outlinewidth": 0,
              "ticks": ""
             }
            },
            "type": "scatterternary"
           }
          ],
          "surface": [
           {
            "colorbar": {
             "outlinewidth": 0,
             "ticks": ""
            },
            "colorscale": [
             [
              0,
              "#0d0887"
             ],
             [
              0.1111111111111111,
              "#46039f"
             ],
             [
              0.2222222222222222,
              "#7201a8"
             ],
             [
              0.3333333333333333,
              "#9c179e"
             ],
             [
              0.4444444444444444,
              "#bd3786"
             ],
             [
              0.5555555555555556,
              "#d8576b"
             ],
             [
              0.6666666666666666,
              "#ed7953"
             ],
             [
              0.7777777777777778,
              "#fb9f3a"
             ],
             [
              0.8888888888888888,
              "#fdca26"
             ],
             [
              1,
              "#f0f921"
             ]
            ],
            "type": "surface"
           }
          ],
          "table": [
           {
            "cells": {
             "fill": {
              "color": "#EBF0F8"
             },
             "line": {
              "color": "white"
             }
            },
            "header": {
             "fill": {
              "color": "#C8D4E3"
             },
             "line": {
              "color": "white"
             }
            },
            "type": "table"
           }
          ]
         },
         "layout": {
          "annotationdefaults": {
           "arrowcolor": "#2a3f5f",
           "arrowhead": 0,
           "arrowwidth": 1
          },
          "autotypenumbers": "strict",
          "coloraxis": {
           "colorbar": {
            "outlinewidth": 0,
            "ticks": ""
           }
          },
          "colorscale": {
           "diverging": [
            [
             0,
             "#8e0152"
            ],
            [
             0.1,
             "#c51b7d"
            ],
            [
             0.2,
             "#de77ae"
            ],
            [
             0.3,
             "#f1b6da"
            ],
            [
             0.4,
             "#fde0ef"
            ],
            [
             0.5,
             "#f7f7f7"
            ],
            [
             0.6,
             "#e6f5d0"
            ],
            [
             0.7,
             "#b8e186"
            ],
            [
             0.8,
             "#7fbc41"
            ],
            [
             0.9,
             "#4d9221"
            ],
            [
             1,
             "#276419"
            ]
           ],
           "sequential": [
            [
             0,
             "#0d0887"
            ],
            [
             0.1111111111111111,
             "#46039f"
            ],
            [
             0.2222222222222222,
             "#7201a8"
            ],
            [
             0.3333333333333333,
             "#9c179e"
            ],
            [
             0.4444444444444444,
             "#bd3786"
            ],
            [
             0.5555555555555556,
             "#d8576b"
            ],
            [
             0.6666666666666666,
             "#ed7953"
            ],
            [
             0.7777777777777778,
             "#fb9f3a"
            ],
            [
             0.8888888888888888,
             "#fdca26"
            ],
            [
             1,
             "#f0f921"
            ]
           ],
           "sequentialminus": [
            [
             0,
             "#0d0887"
            ],
            [
             0.1111111111111111,
             "#46039f"
            ],
            [
             0.2222222222222222,
             "#7201a8"
            ],
            [
             0.3333333333333333,
             "#9c179e"
            ],
            [
             0.4444444444444444,
             "#bd3786"
            ],
            [
             0.5555555555555556,
             "#d8576b"
            ],
            [
             0.6666666666666666,
             "#ed7953"
            ],
            [
             0.7777777777777778,
             "#fb9f3a"
            ],
            [
             0.8888888888888888,
             "#fdca26"
            ],
            [
             1,
             "#f0f921"
            ]
           ]
          },
          "colorway": [
           "#636efa",
           "#EF553B",
           "#00cc96",
           "#ab63fa",
           "#FFA15A",
           "#19d3f3",
           "#FF6692",
           "#B6E880",
           "#FF97FF",
           "#FECB52"
          ],
          "font": {
           "color": "#2a3f5f"
          },
          "geo": {
           "bgcolor": "white",
           "lakecolor": "white",
           "landcolor": "#E5ECF6",
           "showlakes": true,
           "showland": true,
           "subunitcolor": "white"
          },
          "hoverlabel": {
           "align": "left"
          },
          "hovermode": "closest",
          "mapbox": {
           "style": "light"
          },
          "paper_bgcolor": "white",
          "plot_bgcolor": "#E5ECF6",
          "polar": {
           "angularaxis": {
            "gridcolor": "white",
            "linecolor": "white",
            "ticks": ""
           },
           "bgcolor": "#E5ECF6",
           "radialaxis": {
            "gridcolor": "white",
            "linecolor": "white",
            "ticks": ""
           }
          },
          "scene": {
           "xaxis": {
            "backgroundcolor": "#E5ECF6",
            "gridcolor": "white",
            "gridwidth": 2,
            "linecolor": "white",
            "showbackground": true,
            "ticks": "",
            "zerolinecolor": "white"
           },
           "yaxis": {
            "backgroundcolor": "#E5ECF6",
            "gridcolor": "white",
            "gridwidth": 2,
            "linecolor": "white",
            "showbackground": true,
            "ticks": "",
            "zerolinecolor": "white"
           },
           "zaxis": {
            "backgroundcolor": "#E5ECF6",
            "gridcolor": "white",
            "gridwidth": 2,
            "linecolor": "white",
            "showbackground": true,
            "ticks": "",
            "zerolinecolor": "white"
           }
          },
          "shapedefaults": {
           "line": {
            "color": "#2a3f5f"
           }
          },
          "ternary": {
           "aaxis": {
            "gridcolor": "white",
            "linecolor": "white",
            "ticks": ""
           },
           "baxis": {
            "gridcolor": "white",
            "linecolor": "white",
            "ticks": ""
           },
           "bgcolor": "#E5ECF6",
           "caxis": {
            "gridcolor": "white",
            "linecolor": "white",
            "ticks": ""
           }
          },
          "title": {
           "x": 0.05
          },
          "xaxis": {
           "automargin": true,
           "gridcolor": "white",
           "linecolor": "white",
           "ticks": "",
           "title": {
            "standoff": 15
           },
           "zerolinecolor": "white",
           "zerolinewidth": 2
          },
          "yaxis": {
           "automargin": true,
           "gridcolor": "white",
           "linecolor": "white",
           "ticks": "",
           "title": {
            "standoff": 15
           },
           "zerolinecolor": "white",
           "zerolinewidth": 2
          }
         }
        },
        "title": {
         "text": "Residuals vs OES Estimates by MSA-Occupation: Food Preparation and Serving Related"
        },
        "width": 800,
        "xaxis": {
         "range": [
          -40000,
          60000
         ],
         "title": {
          "text": "OES Estimates"
         }
        },
        "yaxis": {
         "range": [
          -40000,
          60000
         ],
         "title": {
          "text": "Residuals"
         }
        }
       }
      }
     },
     "metadata": {},
     "output_type": "display_data"
    },
    {
     "name": "stdout",
     "output_type": "stream",
     "text": [
      "Overall R2:  0.7203193810962484\n"
     ]
    },
    {
     "data": {
      "application/vnd.plotly.v1+json": {
       "config": {
        "plotlyServerURL": "https://plot.ly"
       },
       "data": [
        {
         "marker": {
          "line": {
           "color": "DarkSlateGrey",
           "width": 1
          },
          "size": 5
         },
         "mode": "markers",
         "name": "Personal Care and Service",
         "type": "scatter",
         "x": {
          "bdata": "AAAAAACCucAAAAAAAJfDwAAAAAAAiLPAAAAAAACuv8AAAAAAAEytwAAAAAAAKJTAAAAAAAAevsAAAAAAAGqzQAAAAAAAhKfAAAAAAAA4rcAAAAAAAFq5wAAAAAAAjKTAAAAAAAD0usAAAAAAAPjBwAAAAAAA/KLAAAAAAACSvcAAAAAAAB60wAAAAAAAoHTAAAAAAABqs8AAAAAAACi0wAAAAAAAZsLAAAAAAABwnMAAAAAAACHBwAAAAAAAWLbAAAAAAABsu8AAAAAAAPS1wAAAAAAADLfAAAAAAABgc8AAAAAAANy0wAAAAAAATKPAAAAAAACMvsAAAAAAAH6zwAAAAAAAwLLAAAAAAADAnMAAAAAAAJa0wAAAAAAA4MDAAAAAAADso0AAAAAAAFi7wAAAAAAA4rPAAAAAAABIt8AAAAAAACiuwAAAAAAAUKTAAAAAAADqusAAAAAAAAAAAAAAAAAAGrPAAAAAAADol8AAAAAAAOicwAAAAAAAoLTAAAAAAAAEv8AAAAAAAACJwAAAAAAAmLJAAAAAAAAEqkAAAAAAANC7QAAAAAAAtrfAAAAAAACQn8AAAAAAAKq5wAAAAAAA4H/AAAAAAABKusAAAAAAALCDwAAAAAAAILfA",
          "dtype": "f8"
         },
         "y": {
          "bdata": "AAAAAABWuMAAAAAAAC20wAAAAAAAlKnAAAAAAADnscAAAAAAAMqqwAAAAAAAYqbAAAAAAAD1tcAAAAAAAJCbQAAAAAAA9KrAAAAAAACMtsAAAAAAAFWywAAAAAAAGJHAAAAAAACTssAAAAAAADS0wAAAAAAA0KzAAAAAAACar8AAAAAAANCpwAAAAAAA4JHAAAAAAABUsMAAAAAAACOzwAAAAAAAQbvAAAAAAAAWocAAAAAAAH24wAAAAAAAOq3AAAAAAABvssAAAAAAAGi0wAAAAAAAqbDAAAAAAACYiEAAAAAAAJSzwAAAAAAACKnAAAAAAACrtsAAAAAAAOyvwAAAAAAAuK7AAAAAAAAEmMAAAAAAADiuwAAAAAAAJbPAAAAAAABvsEAAAAAAALm3wAAAAAAAjLLAAAAAAACNtsAAAAAAAFijwFVVVVVV46jAAAAAAABNssAAAAAAAAAAAAAAAAAAcLPAAAAAAAB0lcAAAAAAAGB3wAAAAAAAMLDAAAAAAAAftMAAAAAAALB0QAAAAACAlb9AAAAAAABFvEAAAAAAACCwQAAAAAAAprTAAAAAAABisMAAAAAAAJC5wAAAAAAAcJLAAAAAAACWtsAAAAAAAOSWQAAAAAAA9rnA",
          "dtype": "f8"
         }
        },
        {
         "line": {
          "color": "red",
          "width": 2
         },
         "mode": "lines",
         "name": "Line of Equality",
         "type": "scatter",
         "x": {
          "bdata": "AAAAAACI48DzdobEvAnjwObtDIl5i+LA2WSTTTYN4sDM2xkS847hwL9SoNavEOHAsskmm2yS4MCmQK1fKRTgwDFvZ0jMK9/AGF100UUv3sD+SoFavzLdwOQ4juM4NtzAyiabbLI528CwFKj1Kz3awJYCtX6lQNnAfPDBBx9E2MBi3s6QmEfXwEnM2xkSS9bAL7roootO1cAVqPUrBVLUwPuVArV+VdPA4YMPPvhY0sDHcRzHcVzRwK5fKVDrX9DAKJtsssnGzsD0dobEvM3MwMBSoNav1MrAjC666KLbyMBYCtT6leLGwCbm7QyJ6cTA8sEHH3zwwsC+nSExb/fAwBTzdobE/L3AsKqqqqoKusBIYt7OkBi2wOAZEvN2JrLA8KKLLrporMAgEvN2hoSkwKACtX6lQJnAAMIHH3zwgsCAArV+pUB5QEBi3s6QGJZA8MEHH3zwokDAUqDWr9SqQMhxHMdxXLFAKLroootOtUCQArV+pUC5QPhKgVq/Mr1AsMkmm2ySwEDk7QyJeYvCQBgS83aGhMRATDbZZJN9xkCAWr9SoHbIQLR+pUCtb8pA6KKLLrpozEAcx3Ecx2HOQKj1KwVqLdBAwgcffPAp0UDaGRLzdibSQPQrBWr9ItNADj744IMf1EAoUOtXChzVQEJi3s6QGNZAXHTRRRcV10B2hsS8nRHYQJCYtzMkDtlAqKqqqqoK2kDEvJ0hMQfbQNzOkJi3A9xA+OCDDz4A3UAQ83aGxPzdQCwFav1K+d5ARBdddNH130CwFKj1K3ngQLydITFv9+BAyiabbLJ14UDWrxSo9fPhQOI4juM4cuJA8MEHH3zw4kD8SoFav27jQArU+pUC7eNAFl100UVr5EAk5u0MienkQDBvZ0jMZ+VAPvjggw/m5UBKgVq/UmTmQFgK1PqV4uZAZJNNNtlg50ByHMdxHN/nQH6lQK1fXehAii666KLb6ECYtzMk5lnpQKRArV8p2OlAsskmm2xW6kC+UqDWr9TqQMzbGRLzUutA2GSTTTbR60Dm7QyJeU/sQPJ2hsS8zexAAAAAAABM7UA=",
          "dtype": "f8"
         },
         "y": {
          "bdata": "AAAAAACI48DzdobEvAnjwObtDIl5i+LA2WSTTTYN4sDM2xkS847hwL9SoNavEOHAsskmm2yS4MCmQK1fKRTgwDFvZ0jMK9/AGF100UUv3sD+SoFavzLdwOQ4juM4NtzAyiabbLI528CwFKj1Kz3awJYCtX6lQNnAfPDBBx9E2MBi3s6QmEfXwEnM2xkSS9bAL7roootO1cAVqPUrBVLUwPuVArV+VdPA4YMPPvhY0sDHcRzHcVzRwK5fKVDrX9DAKJtsssnGzsD0dobEvM3MwMBSoNav1MrAjC666KLbyMBYCtT6leLGwCbm7QyJ6cTA8sEHH3zwwsC+nSExb/fAwBTzdobE/L3AsKqqqqoKusBIYt7OkBi2wOAZEvN2JrLA8KKLLrporMAgEvN2hoSkwKACtX6lQJnAAMIHH3zwgsCAArV+pUB5QEBi3s6QGJZA8MEHH3zwokDAUqDWr9SqQMhxHMdxXLFAKLroootOtUCQArV+pUC5QPhKgVq/Mr1AsMkmm2ySwEDk7QyJeYvCQBgS83aGhMRATDbZZJN9xkCAWr9SoHbIQLR+pUCtb8pA6KKLLrpozEAcx3Ecx2HOQKj1KwVqLdBAwgcffPAp0UDaGRLzdibSQPQrBWr9ItNADj744IMf1EAoUOtXChzVQEJi3s6QGNZAXHTRRRcV10B2hsS8nRHYQJCYtzMkDtlAqKqqqqoK2kDEvJ0hMQfbQNzOkJi3A9xA+OCDDz4A3UAQ83aGxPzdQCwFav1K+d5ARBdddNH130CwFKj1K3ngQLydITFv9+BAyiabbLJ14UDWrxSo9fPhQOI4juM4cuJA8MEHH3zw4kD8SoFav27jQArU+pUC7eNAFl100UVr5EAk5u0MienkQDBvZ0jMZ+VAPvjggw/m5UBKgVq/UmTmQFgK1PqV4uZAZJNNNtlg50ByHMdxHN/nQH6lQK1fXehAii666KLb6ECYtzMk5lnpQKRArV8p2OlAsskmm2xW6kC+UqDWr9TqQMzbGRLzUutA2GSTTTbR60Dm7QyJeU/sQPJ2hsS8zexAAAAAAABM7UA=",
          "dtype": "f8"
         }
        }
       ],
       "layout": {
        "annotations": [
         {
          "font": {
           "size": 16
          },
          "showarrow": false,
          "text": "Overall R2: 0.72",
          "x": 0.1,
          "xref": "paper",
          "y": 0.95,
          "yref": "paper"
         }
        ],
        "height": 600,
        "legend": {
         "title": {
          "text": "Occupation"
         }
        },
        "template": {
         "data": {
          "bar": [
           {
            "error_x": {
             "color": "#2a3f5f"
            },
            "error_y": {
             "color": "#2a3f5f"
            },
            "marker": {
             "line": {
              "color": "#E5ECF6",
              "width": 0.5
             },
             "pattern": {
              "fillmode": "overlay",
              "size": 10,
              "solidity": 0.2
             }
            },
            "type": "bar"
           }
          ],
          "barpolar": [
           {
            "marker": {
             "line": {
              "color": "#E5ECF6",
              "width": 0.5
             },
             "pattern": {
              "fillmode": "overlay",
              "size": 10,
              "solidity": 0.2
             }
            },
            "type": "barpolar"
           }
          ],
          "carpet": [
           {
            "aaxis": {
             "endlinecolor": "#2a3f5f",
             "gridcolor": "white",
             "linecolor": "white",
             "minorgridcolor": "white",
             "startlinecolor": "#2a3f5f"
            },
            "baxis": {
             "endlinecolor": "#2a3f5f",
             "gridcolor": "white",
             "linecolor": "white",
             "minorgridcolor": "white",
             "startlinecolor": "#2a3f5f"
            },
            "type": "carpet"
           }
          ],
          "choropleth": [
           {
            "colorbar": {
             "outlinewidth": 0,
             "ticks": ""
            },
            "type": "choropleth"
           }
          ],
          "contour": [
           {
            "colorbar": {
             "outlinewidth": 0,
             "ticks": ""
            },
            "colorscale": [
             [
              0,
              "#0d0887"
             ],
             [
              0.1111111111111111,
              "#46039f"
             ],
             [
              0.2222222222222222,
              "#7201a8"
             ],
             [
              0.3333333333333333,
              "#9c179e"
             ],
             [
              0.4444444444444444,
              "#bd3786"
             ],
             [
              0.5555555555555556,
              "#d8576b"
             ],
             [
              0.6666666666666666,
              "#ed7953"
             ],
             [
              0.7777777777777778,
              "#fb9f3a"
             ],
             [
              0.8888888888888888,
              "#fdca26"
             ],
             [
              1,
              "#f0f921"
             ]
            ],
            "type": "contour"
           }
          ],
          "contourcarpet": [
           {
            "colorbar": {
             "outlinewidth": 0,
             "ticks": ""
            },
            "type": "contourcarpet"
           }
          ],
          "heatmap": [
           {
            "colorbar": {
             "outlinewidth": 0,
             "ticks": ""
            },
            "colorscale": [
             [
              0,
              "#0d0887"
             ],
             [
              0.1111111111111111,
              "#46039f"
             ],
             [
              0.2222222222222222,
              "#7201a8"
             ],
             [
              0.3333333333333333,
              "#9c179e"
             ],
             [
              0.4444444444444444,
              "#bd3786"
             ],
             [
              0.5555555555555556,
              "#d8576b"
             ],
             [
              0.6666666666666666,
              "#ed7953"
             ],
             [
              0.7777777777777778,
              "#fb9f3a"
             ],
             [
              0.8888888888888888,
              "#fdca26"
             ],
             [
              1,
              "#f0f921"
             ]
            ],
            "type": "heatmap"
           }
          ],
          "histogram": [
           {
            "marker": {
             "pattern": {
              "fillmode": "overlay",
              "size": 10,
              "solidity": 0.2
             }
            },
            "type": "histogram"
           }
          ],
          "histogram2d": [
           {
            "colorbar": {
             "outlinewidth": 0,
             "ticks": ""
            },
            "colorscale": [
             [
              0,
              "#0d0887"
             ],
             [
              0.1111111111111111,
              "#46039f"
             ],
             [
              0.2222222222222222,
              "#7201a8"
             ],
             [
              0.3333333333333333,
              "#9c179e"
             ],
             [
              0.4444444444444444,
              "#bd3786"
             ],
             [
              0.5555555555555556,
              "#d8576b"
             ],
             [
              0.6666666666666666,
              "#ed7953"
             ],
             [
              0.7777777777777778,
              "#fb9f3a"
             ],
             [
              0.8888888888888888,
              "#fdca26"
             ],
             [
              1,
              "#f0f921"
             ]
            ],
            "type": "histogram2d"
           }
          ],
          "histogram2dcontour": [
           {
            "colorbar": {
             "outlinewidth": 0,
             "ticks": ""
            },
            "colorscale": [
             [
              0,
              "#0d0887"
             ],
             [
              0.1111111111111111,
              "#46039f"
             ],
             [
              0.2222222222222222,
              "#7201a8"
             ],
             [
              0.3333333333333333,
              "#9c179e"
             ],
             [
              0.4444444444444444,
              "#bd3786"
             ],
             [
              0.5555555555555556,
              "#d8576b"
             ],
             [
              0.6666666666666666,
              "#ed7953"
             ],
             [
              0.7777777777777778,
              "#fb9f3a"
             ],
             [
              0.8888888888888888,
              "#fdca26"
             ],
             [
              1,
              "#f0f921"
             ]
            ],
            "type": "histogram2dcontour"
           }
          ],
          "mesh3d": [
           {
            "colorbar": {
             "outlinewidth": 0,
             "ticks": ""
            },
            "type": "mesh3d"
           }
          ],
          "parcoords": [
           {
            "line": {
             "colorbar": {
              "outlinewidth": 0,
              "ticks": ""
             }
            },
            "type": "parcoords"
           }
          ],
          "pie": [
           {
            "automargin": true,
            "type": "pie"
           }
          ],
          "scatter": [
           {
            "fillpattern": {
             "fillmode": "overlay",
             "size": 10,
             "solidity": 0.2
            },
            "type": "scatter"
           }
          ],
          "scatter3d": [
           {
            "line": {
             "colorbar": {
              "outlinewidth": 0,
              "ticks": ""
             }
            },
            "marker": {
             "colorbar": {
              "outlinewidth": 0,
              "ticks": ""
             }
            },
            "type": "scatter3d"
           }
          ],
          "scattercarpet": [
           {
            "marker": {
             "colorbar": {
              "outlinewidth": 0,
              "ticks": ""
             }
            },
            "type": "scattercarpet"
           }
          ],
          "scattergeo": [
           {
            "marker": {
             "colorbar": {
              "outlinewidth": 0,
              "ticks": ""
             }
            },
            "type": "scattergeo"
           }
          ],
          "scattergl": [
           {
            "marker": {
             "colorbar": {
              "outlinewidth": 0,
              "ticks": ""
             }
            },
            "type": "scattergl"
           }
          ],
          "scattermap": [
           {
            "marker": {
             "colorbar": {
              "outlinewidth": 0,
              "ticks": ""
             }
            },
            "type": "scattermap"
           }
          ],
          "scattermapbox": [
           {
            "marker": {
             "colorbar": {
              "outlinewidth": 0,
              "ticks": ""
             }
            },
            "type": "scattermapbox"
           }
          ],
          "scatterpolar": [
           {
            "marker": {
             "colorbar": {
              "outlinewidth": 0,
              "ticks": ""
             }
            },
            "type": "scatterpolar"
           }
          ],
          "scatterpolargl": [
           {
            "marker": {
             "colorbar": {
              "outlinewidth": 0,
              "ticks": ""
             }
            },
            "type": "scatterpolargl"
           }
          ],
          "scatterternary": [
           {
            "marker": {
             "colorbar": {
              "outlinewidth": 0,
              "ticks": ""
             }
            },
            "type": "scatterternary"
           }
          ],
          "surface": [
           {
            "colorbar": {
             "outlinewidth": 0,
             "ticks": ""
            },
            "colorscale": [
             [
              0,
              "#0d0887"
             ],
             [
              0.1111111111111111,
              "#46039f"
             ],
             [
              0.2222222222222222,
              "#7201a8"
             ],
             [
              0.3333333333333333,
              "#9c179e"
             ],
             [
              0.4444444444444444,
              "#bd3786"
             ],
             [
              0.5555555555555556,
              "#d8576b"
             ],
             [
              0.6666666666666666,
              "#ed7953"
             ],
             [
              0.7777777777777778,
              "#fb9f3a"
             ],
             [
              0.8888888888888888,
              "#fdca26"
             ],
             [
              1,
              "#f0f921"
             ]
            ],
            "type": "surface"
           }
          ],
          "table": [
           {
            "cells": {
             "fill": {
              "color": "#EBF0F8"
             },
             "line": {
              "color": "white"
             }
            },
            "header": {
             "fill": {
              "color": "#C8D4E3"
             },
             "line": {
              "color": "white"
             }
            },
            "type": "table"
           }
          ]
         },
         "layout": {
          "annotationdefaults": {
           "arrowcolor": "#2a3f5f",
           "arrowhead": 0,
           "arrowwidth": 1
          },
          "autotypenumbers": "strict",
          "coloraxis": {
           "colorbar": {
            "outlinewidth": 0,
            "ticks": ""
           }
          },
          "colorscale": {
           "diverging": [
            [
             0,
             "#8e0152"
            ],
            [
             0.1,
             "#c51b7d"
            ],
            [
             0.2,
             "#de77ae"
            ],
            [
             0.3,
             "#f1b6da"
            ],
            [
             0.4,
             "#fde0ef"
            ],
            [
             0.5,
             "#f7f7f7"
            ],
            [
             0.6,
             "#e6f5d0"
            ],
            [
             0.7,
             "#b8e186"
            ],
            [
             0.8,
             "#7fbc41"
            ],
            [
             0.9,
             "#4d9221"
            ],
            [
             1,
             "#276419"
            ]
           ],
           "sequential": [
            [
             0,
             "#0d0887"
            ],
            [
             0.1111111111111111,
             "#46039f"
            ],
            [
             0.2222222222222222,
             "#7201a8"
            ],
            [
             0.3333333333333333,
             "#9c179e"
            ],
            [
             0.4444444444444444,
             "#bd3786"
            ],
            [
             0.5555555555555556,
             "#d8576b"
            ],
            [
             0.6666666666666666,
             "#ed7953"
            ],
            [
             0.7777777777777778,
             "#fb9f3a"
            ],
            [
             0.8888888888888888,
             "#fdca26"
            ],
            [
             1,
             "#f0f921"
            ]
           ],
           "sequentialminus": [
            [
             0,
             "#0d0887"
            ],
            [
             0.1111111111111111,
             "#46039f"
            ],
            [
             0.2222222222222222,
             "#7201a8"
            ],
            [
             0.3333333333333333,
             "#9c179e"
            ],
            [
             0.4444444444444444,
             "#bd3786"
            ],
            [
             0.5555555555555556,
             "#d8576b"
            ],
            [
             0.6666666666666666,
             "#ed7953"
            ],
            [
             0.7777777777777778,
             "#fb9f3a"
            ],
            [
             0.8888888888888888,
             "#fdca26"
            ],
            [
             1,
             "#f0f921"
            ]
           ]
          },
          "colorway": [
           "#636efa",
           "#EF553B",
           "#00cc96",
           "#ab63fa",
           "#FFA15A",
           "#19d3f3",
           "#FF6692",
           "#B6E880",
           "#FF97FF",
           "#FECB52"
          ],
          "font": {
           "color": "#2a3f5f"
          },
          "geo": {
           "bgcolor": "white",
           "lakecolor": "white",
           "landcolor": "#E5ECF6",
           "showlakes": true,
           "showland": true,
           "subunitcolor": "white"
          },
          "hoverlabel": {
           "align": "left"
          },
          "hovermode": "closest",
          "mapbox": {
           "style": "light"
          },
          "paper_bgcolor": "white",
          "plot_bgcolor": "#E5ECF6",
          "polar": {
           "angularaxis": {
            "gridcolor": "white",
            "linecolor": "white",
            "ticks": ""
           },
           "bgcolor": "#E5ECF6",
           "radialaxis": {
            "gridcolor": "white",
            "linecolor": "white",
            "ticks": ""
           }
          },
          "scene": {
           "xaxis": {
            "backgroundcolor": "#E5ECF6",
            "gridcolor": "white",
            "gridwidth": 2,
            "linecolor": "white",
            "showbackground": true,
            "ticks": "",
            "zerolinecolor": "white"
           },
           "yaxis": {
            "backgroundcolor": "#E5ECF6",
            "gridcolor": "white",
            "gridwidth": 2,
            "linecolor": "white",
            "showbackground": true,
            "ticks": "",
            "zerolinecolor": "white"
           },
           "zaxis": {
            "backgroundcolor": "#E5ECF6",
            "gridcolor": "white",
            "gridwidth": 2,
            "linecolor": "white",
            "showbackground": true,
            "ticks": "",
            "zerolinecolor": "white"
           }
          },
          "shapedefaults": {
           "line": {
            "color": "#2a3f5f"
           }
          },
          "ternary": {
           "aaxis": {
            "gridcolor": "white",
            "linecolor": "white",
            "ticks": ""
           },
           "baxis": {
            "gridcolor": "white",
            "linecolor": "white",
            "ticks": ""
           },
           "bgcolor": "#E5ECF6",
           "caxis": {
            "gridcolor": "white",
            "linecolor": "white",
            "ticks": ""
           }
          },
          "title": {
           "x": 0.05
          },
          "xaxis": {
           "automargin": true,
           "gridcolor": "white",
           "linecolor": "white",
           "ticks": "",
           "title": {
            "standoff": 15
           },
           "zerolinecolor": "white",
           "zerolinewidth": 2
          },
          "yaxis": {
           "automargin": true,
           "gridcolor": "white",
           "linecolor": "white",
           "ticks": "",
           "title": {
            "standoff": 15
           },
           "zerolinecolor": "white",
           "zerolinewidth": 2
          }
         }
        },
        "title": {
         "text": "Residuals vs OES Estimates by MSA-Occupation: Personal Care and Service"
        },
        "width": 800,
        "xaxis": {
         "range": [
          -40000,
          60000
         ],
         "title": {
          "text": "OES Estimates"
         }
        },
        "yaxis": {
         "range": [
          -40000,
          60000
         ],
         "title": {
          "text": "Residuals"
         }
        }
       }
      }
     },
     "metadata": {},
     "output_type": "display_data"
    },
    {
     "name": "stdout",
     "output_type": "stream",
     "text": [
      "Overall R2:  0.2390979707714881\n"
     ]
    },
    {
     "data": {
      "application/vnd.plotly.v1+json": {
       "config": {
        "plotlyServerURL": "https://plot.ly"
       },
       "data": [
        {
         "marker": {
          "line": {
           "color": "DarkSlateGrey",
           "width": 1
          },
          "size": 5
         },
         "mode": "markers",
         "name": "Sales and Related",
         "type": "scatter",
         "x": {
          "bdata": "AAAAAABhx8AAAAAAADvPwAAAAAAAXLLAAAAAAAA4zcAAAAAAANCLwAAAAAAAwKLAAAAAAABCuMAAAAAAAO62QAAAAAAA8LnAAAAAAAB5yMAAAAAAAOB6QAAAAAAA0JvAAAAAAACgnsAAAAAAADjNwAAAAAAAfK/ArKqqqqr+wcAAAAAAAAyiwAAAAAAABMBAAAAAAADgoMAAAAAAAOCQQAAAAAAAS87AAAAAAAAyvsAAAAAAAEy4wAAAAAAAsKjAAAAAAACAdsAAAAAAAOiswAAAAAAA68TAAAAAAABokMAAAAAAAAi7wAAAAAAAvKbAAAAAAADau8AAAAAAAJS2wAAAAAAAgHZAAAAAAACgmUAAAAAAAOCwwAAAAAAA5sTAAAAAAABGxEAAAAAAAC69wAAAAAAAwrXAAAAAAACZwcAAAAAAAEBqQAAAAAAA4LDAAAAAAAAYtcAAAAAAAAAAAAAAAAAA4HBAAAAAAADovMAAAAAAADiowAAAAAAAEKjAAAAAAABAv8AAAAAAAMipwAAAAAAAXMJAAAAAAADcyUAAAAAAAHy1QAAAAAAAKLTAAAAAAAC8xsAAAAAAAHi5wAAAAAAAIrrAAAAAAABjxcAAAAAAAOBwwAAAAAAAmr/A",
          "dtype": "f8"
         },
         "y": {
          "bdata": "AAAAAAADsMAAAAAAAGSmwAAAAAAAgIPAAAAAAABQo8AAAAAAAIidwAAAAAAAKI/AAAAAAADOpsAAAAAAAFahQAAAAAAAhqPAAAAAAADWrMAAAAAAAEyhwAAAAAAASIRAAAAAAABCpsAAAAAAAPalwAAAAAAA2qHAAAAAAABQoMAAAAAAAMiKwAAAAAAAIHbAAAAAAAAuoMAAAAAAANKjwAAAAAAAOLHAAAAAAABwdcAAAAAAAFyrwAAAAAAAuIXAAAAAAABOpsAAAAAAANiqwAAAAAAAIKLAq6qqqqrOoEAAAAAAADSowAAAAAAAQJvAAAAAAAAwqcAAAAAAAFKawAAAAAAA3J7AAAAAAACgecAAAAAAAAiewAAAAAAAeqbAAAAAAABxsUAAAAAAAMSrwAAAAAAAOq3AAAAAAADArsAAAAAAAEBewFVVVVVVCZrAAAAAAABKq8AAAAAAAAAAAAAAAAAAdKTAAAAAAABQe0AAAAAAAMCFQAAAAAAAMKfAAAAAAABupMAAAAAAAFCKQAAAAAAAibtAAAAAAADJukAAAAAAAMSiQAAAAAAA+qfAAAAAAABop8AAAAAAAGqwwAAAAAAAgG/AAAAAAADGpsAAAAAAAKKiQAAAAAAA/7DA",
          "dtype": "f8"
         }
        },
        {
         "line": {
          "color": "red",
          "width": 2
         },
         "mode": "lines",
         "name": "Line of Equality",
         "type": "scatter",
         "x": {
          "bdata": "AAAAAACI48DzdobEvAnjwObtDIl5i+LA2WSTTTYN4sDM2xkS847hwL9SoNavEOHAsskmm2yS4MCmQK1fKRTgwDFvZ0jMK9/AGF100UUv3sD+SoFavzLdwOQ4juM4NtzAyiabbLI528CwFKj1Kz3awJYCtX6lQNnAfPDBBx9E2MBi3s6QmEfXwEnM2xkSS9bAL7roootO1cAVqPUrBVLUwPuVArV+VdPA4YMPPvhY0sDHcRzHcVzRwK5fKVDrX9DAKJtsssnGzsD0dobEvM3MwMBSoNav1MrAjC666KLbyMBYCtT6leLGwCbm7QyJ6cTA8sEHH3zwwsC+nSExb/fAwBTzdobE/L3AsKqqqqoKusBIYt7OkBi2wOAZEvN2JrLA8KKLLrporMAgEvN2hoSkwKACtX6lQJnAAMIHH3zwgsCAArV+pUB5QEBi3s6QGJZA8MEHH3zwokDAUqDWr9SqQMhxHMdxXLFAKLroootOtUCQArV+pUC5QPhKgVq/Mr1AsMkmm2ySwEDk7QyJeYvCQBgS83aGhMRATDbZZJN9xkCAWr9SoHbIQLR+pUCtb8pA6KKLLrpozEAcx3Ecx2HOQKj1KwVqLdBAwgcffPAp0UDaGRLzdibSQPQrBWr9ItNADj744IMf1EAoUOtXChzVQEJi3s6QGNZAXHTRRRcV10B2hsS8nRHYQJCYtzMkDtlAqKqqqqoK2kDEvJ0hMQfbQNzOkJi3A9xA+OCDDz4A3UAQ83aGxPzdQCwFav1K+d5ARBdddNH130CwFKj1K3ngQLydITFv9+BAyiabbLJ14UDWrxSo9fPhQOI4juM4cuJA8MEHH3zw4kD8SoFav27jQArU+pUC7eNAFl100UVr5EAk5u0MienkQDBvZ0jMZ+VAPvjggw/m5UBKgVq/UmTmQFgK1PqV4uZAZJNNNtlg50ByHMdxHN/nQH6lQK1fXehAii666KLb6ECYtzMk5lnpQKRArV8p2OlAsskmm2xW6kC+UqDWr9TqQMzbGRLzUutA2GSTTTbR60Dm7QyJeU/sQPJ2hsS8zexAAAAAAABM7UA=",
          "dtype": "f8"
         },
         "y": {
          "bdata": "AAAAAACI48DzdobEvAnjwObtDIl5i+LA2WSTTTYN4sDM2xkS847hwL9SoNavEOHAsskmm2yS4MCmQK1fKRTgwDFvZ0jMK9/AGF100UUv3sD+SoFavzLdwOQ4juM4NtzAyiabbLI528CwFKj1Kz3awJYCtX6lQNnAfPDBBx9E2MBi3s6QmEfXwEnM2xkSS9bAL7roootO1cAVqPUrBVLUwPuVArV+VdPA4YMPPvhY0sDHcRzHcVzRwK5fKVDrX9DAKJtsssnGzsD0dobEvM3MwMBSoNav1MrAjC666KLbyMBYCtT6leLGwCbm7QyJ6cTA8sEHH3zwwsC+nSExb/fAwBTzdobE/L3AsKqqqqoKusBIYt7OkBi2wOAZEvN2JrLA8KKLLrporMAgEvN2hoSkwKACtX6lQJnAAMIHH3zwgsCAArV+pUB5QEBi3s6QGJZA8MEHH3zwokDAUqDWr9SqQMhxHMdxXLFAKLroootOtUCQArV+pUC5QPhKgVq/Mr1AsMkmm2ySwEDk7QyJeYvCQBgS83aGhMRATDbZZJN9xkCAWr9SoHbIQLR+pUCtb8pA6KKLLrpozEAcx3Ecx2HOQKj1KwVqLdBAwgcffPAp0UDaGRLzdibSQPQrBWr9ItNADj744IMf1EAoUOtXChzVQEJi3s6QGNZAXHTRRRcV10B2hsS8nRHYQJCYtzMkDtlAqKqqqqoK2kDEvJ0hMQfbQNzOkJi3A9xA+OCDDz4A3UAQ83aGxPzdQCwFav1K+d5ARBdddNH130CwFKj1K3ngQLydITFv9+BAyiabbLJ14UDWrxSo9fPhQOI4juM4cuJA8MEHH3zw4kD8SoFav27jQArU+pUC7eNAFl100UVr5EAk5u0MienkQDBvZ0jMZ+VAPvjggw/m5UBKgVq/UmTmQFgK1PqV4uZAZJNNNtlg50ByHMdxHN/nQH6lQK1fXehAii666KLb6ECYtzMk5lnpQKRArV8p2OlAsskmm2xW6kC+UqDWr9TqQMzbGRLzUutA2GSTTTbR60Dm7QyJeU/sQPJ2hsS8zexAAAAAAABM7UA=",
          "dtype": "f8"
         }
        }
       ],
       "layout": {
        "annotations": [
         {
          "font": {
           "size": 16
          },
          "showarrow": false,
          "text": "Overall R2: 0.24",
          "x": 0.1,
          "xref": "paper",
          "y": 0.95,
          "yref": "paper"
         }
        ],
        "height": 600,
        "legend": {
         "title": {
          "text": "Occupation"
         }
        },
        "template": {
         "data": {
          "bar": [
           {
            "error_x": {
             "color": "#2a3f5f"
            },
            "error_y": {
             "color": "#2a3f5f"
            },
            "marker": {
             "line": {
              "color": "#E5ECF6",
              "width": 0.5
             },
             "pattern": {
              "fillmode": "overlay",
              "size": 10,
              "solidity": 0.2
             }
            },
            "type": "bar"
           }
          ],
          "barpolar": [
           {
            "marker": {
             "line": {
              "color": "#E5ECF6",
              "width": 0.5
             },
             "pattern": {
              "fillmode": "overlay",
              "size": 10,
              "solidity": 0.2
             }
            },
            "type": "barpolar"
           }
          ],
          "carpet": [
           {
            "aaxis": {
             "endlinecolor": "#2a3f5f",
             "gridcolor": "white",
             "linecolor": "white",
             "minorgridcolor": "white",
             "startlinecolor": "#2a3f5f"
            },
            "baxis": {
             "endlinecolor": "#2a3f5f",
             "gridcolor": "white",
             "linecolor": "white",
             "minorgridcolor": "white",
             "startlinecolor": "#2a3f5f"
            },
            "type": "carpet"
           }
          ],
          "choropleth": [
           {
            "colorbar": {
             "outlinewidth": 0,
             "ticks": ""
            },
            "type": "choropleth"
           }
          ],
          "contour": [
           {
            "colorbar": {
             "outlinewidth": 0,
             "ticks": ""
            },
            "colorscale": [
             [
              0,
              "#0d0887"
             ],
             [
              0.1111111111111111,
              "#46039f"
             ],
             [
              0.2222222222222222,
              "#7201a8"
             ],
             [
              0.3333333333333333,
              "#9c179e"
             ],
             [
              0.4444444444444444,
              "#bd3786"
             ],
             [
              0.5555555555555556,
              "#d8576b"
             ],
             [
              0.6666666666666666,
              "#ed7953"
             ],
             [
              0.7777777777777778,
              "#fb9f3a"
             ],
             [
              0.8888888888888888,
              "#fdca26"
             ],
             [
              1,
              "#f0f921"
             ]
            ],
            "type": "contour"
           }
          ],
          "contourcarpet": [
           {
            "colorbar": {
             "outlinewidth": 0,
             "ticks": ""
            },
            "type": "contourcarpet"
           }
          ],
          "heatmap": [
           {
            "colorbar": {
             "outlinewidth": 0,
             "ticks": ""
            },
            "colorscale": [
             [
              0,
              "#0d0887"
             ],
             [
              0.1111111111111111,
              "#46039f"
             ],
             [
              0.2222222222222222,
              "#7201a8"
             ],
             [
              0.3333333333333333,
              "#9c179e"
             ],
             [
              0.4444444444444444,
              "#bd3786"
             ],
             [
              0.5555555555555556,
              "#d8576b"
             ],
             [
              0.6666666666666666,
              "#ed7953"
             ],
             [
              0.7777777777777778,
              "#fb9f3a"
             ],
             [
              0.8888888888888888,
              "#fdca26"
             ],
             [
              1,
              "#f0f921"
             ]
            ],
            "type": "heatmap"
           }
          ],
          "histogram": [
           {
            "marker": {
             "pattern": {
              "fillmode": "overlay",
              "size": 10,
              "solidity": 0.2
             }
            },
            "type": "histogram"
           }
          ],
          "histogram2d": [
           {
            "colorbar": {
             "outlinewidth": 0,
             "ticks": ""
            },
            "colorscale": [
             [
              0,
              "#0d0887"
             ],
             [
              0.1111111111111111,
              "#46039f"
             ],
             [
              0.2222222222222222,
              "#7201a8"
             ],
             [
              0.3333333333333333,
              "#9c179e"
             ],
             [
              0.4444444444444444,
              "#bd3786"
             ],
             [
              0.5555555555555556,
              "#d8576b"
             ],
             [
              0.6666666666666666,
              "#ed7953"
             ],
             [
              0.7777777777777778,
              "#fb9f3a"
             ],
             [
              0.8888888888888888,
              "#fdca26"
             ],
             [
              1,
              "#f0f921"
             ]
            ],
            "type": "histogram2d"
           }
          ],
          "histogram2dcontour": [
           {
            "colorbar": {
             "outlinewidth": 0,
             "ticks": ""
            },
            "colorscale": [
             [
              0,
              "#0d0887"
             ],
             [
              0.1111111111111111,
              "#46039f"
             ],
             [
              0.2222222222222222,
              "#7201a8"
             ],
             [
              0.3333333333333333,
              "#9c179e"
             ],
             [
              0.4444444444444444,
              "#bd3786"
             ],
             [
              0.5555555555555556,
              "#d8576b"
             ],
             [
              0.6666666666666666,
              "#ed7953"
             ],
             [
              0.7777777777777778,
              "#fb9f3a"
             ],
             [
              0.8888888888888888,
              "#fdca26"
             ],
             [
              1,
              "#f0f921"
             ]
            ],
            "type": "histogram2dcontour"
           }
          ],
          "mesh3d": [
           {
            "colorbar": {
             "outlinewidth": 0,
             "ticks": ""
            },
            "type": "mesh3d"
           }
          ],
          "parcoords": [
           {
            "line": {
             "colorbar": {
              "outlinewidth": 0,
              "ticks": ""
             }
            },
            "type": "parcoords"
           }
          ],
          "pie": [
           {
            "automargin": true,
            "type": "pie"
           }
          ],
          "scatter": [
           {
            "fillpattern": {
             "fillmode": "overlay",
             "size": 10,
             "solidity": 0.2
            },
            "type": "scatter"
           }
          ],
          "scatter3d": [
           {
            "line": {
             "colorbar": {
              "outlinewidth": 0,
              "ticks": ""
             }
            },
            "marker": {
             "colorbar": {
              "outlinewidth": 0,
              "ticks": ""
             }
            },
            "type": "scatter3d"
           }
          ],
          "scattercarpet": [
           {
            "marker": {
             "colorbar": {
              "outlinewidth": 0,
              "ticks": ""
             }
            },
            "type": "scattercarpet"
           }
          ],
          "scattergeo": [
           {
            "marker": {
             "colorbar": {
              "outlinewidth": 0,
              "ticks": ""
             }
            },
            "type": "scattergeo"
           }
          ],
          "scattergl": [
           {
            "marker": {
             "colorbar": {
              "outlinewidth": 0,
              "ticks": ""
             }
            },
            "type": "scattergl"
           }
          ],
          "scattermap": [
           {
            "marker": {
             "colorbar": {
              "outlinewidth": 0,
              "ticks": ""
             }
            },
            "type": "scattermap"
           }
          ],
          "scattermapbox": [
           {
            "marker": {
             "colorbar": {
              "outlinewidth": 0,
              "ticks": ""
             }
            },
            "type": "scattermapbox"
           }
          ],
          "scatterpolar": [
           {
            "marker": {
             "colorbar": {
              "outlinewidth": 0,
              "ticks": ""
             }
            },
            "type": "scatterpolar"
           }
          ],
          "scatterpolargl": [
           {
            "marker": {
             "colorbar": {
              "outlinewidth": 0,
              "ticks": ""
             }
            },
            "type": "scatterpolargl"
           }
          ],
          "scatterternary": [
           {
            "marker": {
             "colorbar": {
              "outlinewidth": 0,
              "ticks": ""
             }
            },
            "type": "scatterternary"
           }
          ],
          "surface": [
           {
            "colorbar": {
             "outlinewidth": 0,
             "ticks": ""
            },
            "colorscale": [
             [
              0,
              "#0d0887"
             ],
             [
              0.1111111111111111,
              "#46039f"
             ],
             [
              0.2222222222222222,
              "#7201a8"
             ],
             [
              0.3333333333333333,
              "#9c179e"
             ],
             [
              0.4444444444444444,
              "#bd3786"
             ],
             [
              0.5555555555555556,
              "#d8576b"
             ],
             [
              0.6666666666666666,
              "#ed7953"
             ],
             [
              0.7777777777777778,
              "#fb9f3a"
             ],
             [
              0.8888888888888888,
              "#fdca26"
             ],
             [
              1,
              "#f0f921"
             ]
            ],
            "type": "surface"
           }
          ],
          "table": [
           {
            "cells": {
             "fill": {
              "color": "#EBF0F8"
             },
             "line": {
              "color": "white"
             }
            },
            "header": {
             "fill": {
              "color": "#C8D4E3"
             },
             "line": {
              "color": "white"
             }
            },
            "type": "table"
           }
          ]
         },
         "layout": {
          "annotationdefaults": {
           "arrowcolor": "#2a3f5f",
           "arrowhead": 0,
           "arrowwidth": 1
          },
          "autotypenumbers": "strict",
          "coloraxis": {
           "colorbar": {
            "outlinewidth": 0,
            "ticks": ""
           }
          },
          "colorscale": {
           "diverging": [
            [
             0,
             "#8e0152"
            ],
            [
             0.1,
             "#c51b7d"
            ],
            [
             0.2,
             "#de77ae"
            ],
            [
             0.3,
             "#f1b6da"
            ],
            [
             0.4,
             "#fde0ef"
            ],
            [
             0.5,
             "#f7f7f7"
            ],
            [
             0.6,
             "#e6f5d0"
            ],
            [
             0.7,
             "#b8e186"
            ],
            [
             0.8,
             "#7fbc41"
            ],
            [
             0.9,
             "#4d9221"
            ],
            [
             1,
             "#276419"
            ]
           ],
           "sequential": [
            [
             0,
             "#0d0887"
            ],
            [
             0.1111111111111111,
             "#46039f"
            ],
            [
             0.2222222222222222,
             "#7201a8"
            ],
            [
             0.3333333333333333,
             "#9c179e"
            ],
            [
             0.4444444444444444,
             "#bd3786"
            ],
            [
             0.5555555555555556,
             "#d8576b"
            ],
            [
             0.6666666666666666,
             "#ed7953"
            ],
            [
             0.7777777777777778,
             "#fb9f3a"
            ],
            [
             0.8888888888888888,
             "#fdca26"
            ],
            [
             1,
             "#f0f921"
            ]
           ],
           "sequentialminus": [
            [
             0,
             "#0d0887"
            ],
            [
             0.1111111111111111,
             "#46039f"
            ],
            [
             0.2222222222222222,
             "#7201a8"
            ],
            [
             0.3333333333333333,
             "#9c179e"
            ],
            [
             0.4444444444444444,
             "#bd3786"
            ],
            [
             0.5555555555555556,
             "#d8576b"
            ],
            [
             0.6666666666666666,
             "#ed7953"
            ],
            [
             0.7777777777777778,
             "#fb9f3a"
            ],
            [
             0.8888888888888888,
             "#fdca26"
            ],
            [
             1,
             "#f0f921"
            ]
           ]
          },
          "colorway": [
           "#636efa",
           "#EF553B",
           "#00cc96",
           "#ab63fa",
           "#FFA15A",
           "#19d3f3",
           "#FF6692",
           "#B6E880",
           "#FF97FF",
           "#FECB52"
          ],
          "font": {
           "color": "#2a3f5f"
          },
          "geo": {
           "bgcolor": "white",
           "lakecolor": "white",
           "landcolor": "#E5ECF6",
           "showlakes": true,
           "showland": true,
           "subunitcolor": "white"
          },
          "hoverlabel": {
           "align": "left"
          },
          "hovermode": "closest",
          "mapbox": {
           "style": "light"
          },
          "paper_bgcolor": "white",
          "plot_bgcolor": "#E5ECF6",
          "polar": {
           "angularaxis": {
            "gridcolor": "white",
            "linecolor": "white",
            "ticks": ""
           },
           "bgcolor": "#E5ECF6",
           "radialaxis": {
            "gridcolor": "white",
            "linecolor": "white",
            "ticks": ""
           }
          },
          "scene": {
           "xaxis": {
            "backgroundcolor": "#E5ECF6",
            "gridcolor": "white",
            "gridwidth": 2,
            "linecolor": "white",
            "showbackground": true,
            "ticks": "",
            "zerolinecolor": "white"
           },
           "yaxis": {
            "backgroundcolor": "#E5ECF6",
            "gridcolor": "white",
            "gridwidth": 2,
            "linecolor": "white",
            "showbackground": true,
            "ticks": "",
            "zerolinecolor": "white"
           },
           "zaxis": {
            "backgroundcolor": "#E5ECF6",
            "gridcolor": "white",
            "gridwidth": 2,
            "linecolor": "white",
            "showbackground": true,
            "ticks": "",
            "zerolinecolor": "white"
           }
          },
          "shapedefaults": {
           "line": {
            "color": "#2a3f5f"
           }
          },
          "ternary": {
           "aaxis": {
            "gridcolor": "white",
            "linecolor": "white",
            "ticks": ""
           },
           "baxis": {
            "gridcolor": "white",
            "linecolor": "white",
            "ticks": ""
           },
           "bgcolor": "#E5ECF6",
           "caxis": {
            "gridcolor": "white",
            "linecolor": "white",
            "ticks": ""
           }
          },
          "title": {
           "x": 0.05
          },
          "xaxis": {
           "automargin": true,
           "gridcolor": "white",
           "linecolor": "white",
           "ticks": "",
           "title": {
            "standoff": 15
           },
           "zerolinecolor": "white",
           "zerolinewidth": 2
          },
          "yaxis": {
           "automargin": true,
           "gridcolor": "white",
           "linecolor": "white",
           "ticks": "",
           "title": {
            "standoff": 15
           },
           "zerolinecolor": "white",
           "zerolinewidth": 2
          }
         }
        },
        "title": {
         "text": "Residuals vs OES Estimates by MSA-Occupation: Sales and Related"
        },
        "width": 800,
        "xaxis": {
         "range": [
          -40000,
          60000
         ],
         "title": {
          "text": "OES Estimates"
         }
        },
        "yaxis": {
         "range": [
          -40000,
          60000
         ],
         "title": {
          "text": "Residuals"
         }
        }
       }
      }
     },
     "metadata": {},
     "output_type": "display_data"
    },
    {
     "name": "stdout",
     "output_type": "stream",
     "text": [
      "Overall R2:  0.7708539936678009\n"
     ]
    },
    {
     "data": {
      "application/vnd.plotly.v1+json": {
       "config": {
        "plotlyServerURL": "https://plot.ly"
       },
       "data": [
        {
         "marker": {
          "line": {
           "color": "DarkSlateGrey",
           "width": 1
          },
          "size": 5
         },
         "mode": "markers",
         "name": "Office and Administrative Support",
         "type": "scatter",
         "x": {
          "bdata": "AAAAAAD0usAAAAAAAInCwAAAAAAAWKvAAAAAAAASwcAAAAAAAGilwAAAAAAAgHFAAAAAAAAKtMAAAAAAALS0QAAAAAAAPKTAAAAAAAAwlsAAAAAAAPynwAAAAAAAkIXAAAAAAAC4qsAAAAAAAEbEwAAAAAAAnLPAqKqqqqoAtcAAAAAAAHCnwAAAAAAA4JVAAAAAAACMpMAAAAAAAICWwAAAAAAAC8jAAAAAAAB8pcAAAAAAAF61wAAAAAAAtKTAAAAAAACQqsAAAAAAABCtwAAAAAAA6LfAAAAAAACImEAAAAAAAM64wAAAAAAAUKTAAAAAAADItMAAAAAAAGKxwAAAAAAADKLAAAAAAAAolEAAAAAAAHipwAAAAAAA8LnAAAAAAAAsr0AAAAAAAAC5wAAAAAAAirHAAAAAAABquMAAAAAAAIBmwAAAAAAA6KfAAAAAAACkr8AAAAAAAAAAAAAAAAAAdrHAAAAAAAAgl8AAAAAAAGB9QAAAAAAArLLAAAAAAACwuMAAAAAAAOB/QAAAAAAAicJAAAAAAACBwEAAAAAAAByxQAAAAAAAHrTAAAAAAADwucAAAAAAAIa1wAAAAAAAAFlAAAAAAADStMAAAAAAAHaxQAAAAAAApLrA",
          "dtype": "f8"
         },
         "y": {
          "bdata": "AAAAAACvtcAAAAAAACaywAAAAAAArqDAAAAAAAC6rMAAAAAAAECmwAAAAAAA2qDAAAAAAAC/scAAAAAAADCeQAAAAAAA5qXAAAAAAAAgs8AAAAAAAP6swAAAAAAAYHjAAAAAAADor8AAAAAAAFixwAAAAAAA9qnAAAAAAAD4qcAAAAAAgMOgwAAAAAAA2IfAAAAAAAAYqsAAAAAAAFSuwAAAAAAAabjAAAAAAACUkcAAAAAAAKK0wAAAAAAA7qLAAAAAAADgrsAAAAAAADKxwAAAAAAADK7AVVVVVVWNmEAAAAAAABmxwAAAAAAAwKXAAAAAAADXssAAAAAAAOSpwAAAAAAA4qjAAAAAAABwksAAAAAAAEqqwAAAAAAAv7DAAAAAAADsrkAAAAAAALOzwAAAAAAAZrDAAAAAAAB4tcAAAAAAAOSVwFVVVVVVV6XAAAAAAACHsMAAAAAAAAAAAAAAAAAAgK7AAAAAAACATEAAAAAAAEBbQAAAAAAAPK7AAAAAAABosMAAAAAAAEiCQAAAAACAQ71AAAAAAAC5vkAAAAAAAE6mQAAAAAAAGLLAAAAAAABasMAAAAAAAG62wAAAAAAAkJLAAAAAAAAIssAAAAAAAHifQAAAAAAARbbA",
          "dtype": "f8"
         }
        },
        {
         "line": {
          "color": "red",
          "width": 2
         },
         "mode": "lines",
         "name": "Line of Equality",
         "type": "scatter",
         "x": {
          "bdata": "AAAAAACI48DzdobEvAnjwObtDIl5i+LA2WSTTTYN4sDM2xkS847hwL9SoNavEOHAsskmm2yS4MCmQK1fKRTgwDFvZ0jMK9/AGF100UUv3sD+SoFavzLdwOQ4juM4NtzAyiabbLI528CwFKj1Kz3awJYCtX6lQNnAfPDBBx9E2MBi3s6QmEfXwEnM2xkSS9bAL7roootO1cAVqPUrBVLUwPuVArV+VdPA4YMPPvhY0sDHcRzHcVzRwK5fKVDrX9DAKJtsssnGzsD0dobEvM3MwMBSoNav1MrAjC666KLbyMBYCtT6leLGwCbm7QyJ6cTA8sEHH3zwwsC+nSExb/fAwBTzdobE/L3AsKqqqqoKusBIYt7OkBi2wOAZEvN2JrLA8KKLLrporMAgEvN2hoSkwKACtX6lQJnAAMIHH3zwgsCAArV+pUB5QEBi3s6QGJZA8MEHH3zwokDAUqDWr9SqQMhxHMdxXLFAKLroootOtUCQArV+pUC5QPhKgVq/Mr1AsMkmm2ySwEDk7QyJeYvCQBgS83aGhMRATDbZZJN9xkCAWr9SoHbIQLR+pUCtb8pA6KKLLrpozEAcx3Ecx2HOQKj1KwVqLdBAwgcffPAp0UDaGRLzdibSQPQrBWr9ItNADj744IMf1EAoUOtXChzVQEJi3s6QGNZAXHTRRRcV10B2hsS8nRHYQJCYtzMkDtlAqKqqqqoK2kDEvJ0hMQfbQNzOkJi3A9xA+OCDDz4A3UAQ83aGxPzdQCwFav1K+d5ARBdddNH130CwFKj1K3ngQLydITFv9+BAyiabbLJ14UDWrxSo9fPhQOI4juM4cuJA8MEHH3zw4kD8SoFav27jQArU+pUC7eNAFl100UVr5EAk5u0MienkQDBvZ0jMZ+VAPvjggw/m5UBKgVq/UmTmQFgK1PqV4uZAZJNNNtlg50ByHMdxHN/nQH6lQK1fXehAii666KLb6ECYtzMk5lnpQKRArV8p2OlAsskmm2xW6kC+UqDWr9TqQMzbGRLzUutA2GSTTTbR60Dm7QyJeU/sQPJ2hsS8zexAAAAAAABM7UA=",
          "dtype": "f8"
         },
         "y": {
          "bdata": "AAAAAACI48DzdobEvAnjwObtDIl5i+LA2WSTTTYN4sDM2xkS847hwL9SoNavEOHAsskmm2yS4MCmQK1fKRTgwDFvZ0jMK9/AGF100UUv3sD+SoFavzLdwOQ4juM4NtzAyiabbLI528CwFKj1Kz3awJYCtX6lQNnAfPDBBx9E2MBi3s6QmEfXwEnM2xkSS9bAL7roootO1cAVqPUrBVLUwPuVArV+VdPA4YMPPvhY0sDHcRzHcVzRwK5fKVDrX9DAKJtsssnGzsD0dobEvM3MwMBSoNav1MrAjC666KLbyMBYCtT6leLGwCbm7QyJ6cTA8sEHH3zwwsC+nSExb/fAwBTzdobE/L3AsKqqqqoKusBIYt7OkBi2wOAZEvN2JrLA8KKLLrporMAgEvN2hoSkwKACtX6lQJnAAMIHH3zwgsCAArV+pUB5QEBi3s6QGJZA8MEHH3zwokDAUqDWr9SqQMhxHMdxXLFAKLroootOtUCQArV+pUC5QPhKgVq/Mr1AsMkmm2ySwEDk7QyJeYvCQBgS83aGhMRATDbZZJN9xkCAWr9SoHbIQLR+pUCtb8pA6KKLLrpozEAcx3Ecx2HOQKj1KwVqLdBAwgcffPAp0UDaGRLzdibSQPQrBWr9ItNADj744IMf1EAoUOtXChzVQEJi3s6QGNZAXHTRRRcV10B2hsS8nRHYQJCYtzMkDtlAqKqqqqoK2kDEvJ0hMQfbQNzOkJi3A9xA+OCDDz4A3UAQ83aGxPzdQCwFav1K+d5ARBdddNH130CwFKj1K3ngQLydITFv9+BAyiabbLJ14UDWrxSo9fPhQOI4juM4cuJA8MEHH3zw4kD8SoFav27jQArU+pUC7eNAFl100UVr5EAk5u0MienkQDBvZ0jMZ+VAPvjggw/m5UBKgVq/UmTmQFgK1PqV4uZAZJNNNtlg50ByHMdxHN/nQH6lQK1fXehAii666KLb6ECYtzMk5lnpQKRArV8p2OlAsskmm2xW6kC+UqDWr9TqQMzbGRLzUutA2GSTTTbR60Dm7QyJeU/sQPJ2hsS8zexAAAAAAABM7UA=",
          "dtype": "f8"
         }
        }
       ],
       "layout": {
        "annotations": [
         {
          "font": {
           "size": 16
          },
          "showarrow": false,
          "text": "Overall R2: 0.77",
          "x": 0.1,
          "xref": "paper",
          "y": 0.95,
          "yref": "paper"
         }
        ],
        "height": 600,
        "legend": {
         "title": {
          "text": "Occupation"
         }
        },
        "template": {
         "data": {
          "bar": [
           {
            "error_x": {
             "color": "#2a3f5f"
            },
            "error_y": {
             "color": "#2a3f5f"
            },
            "marker": {
             "line": {
              "color": "#E5ECF6",
              "width": 0.5
             },
             "pattern": {
              "fillmode": "overlay",
              "size": 10,
              "solidity": 0.2
             }
            },
            "type": "bar"
           }
          ],
          "barpolar": [
           {
            "marker": {
             "line": {
              "color": "#E5ECF6",
              "width": 0.5
             },
             "pattern": {
              "fillmode": "overlay",
              "size": 10,
              "solidity": 0.2
             }
            },
            "type": "barpolar"
           }
          ],
          "carpet": [
           {
            "aaxis": {
             "endlinecolor": "#2a3f5f",
             "gridcolor": "white",
             "linecolor": "white",
             "minorgridcolor": "white",
             "startlinecolor": "#2a3f5f"
            },
            "baxis": {
             "endlinecolor": "#2a3f5f",
             "gridcolor": "white",
             "linecolor": "white",
             "minorgridcolor": "white",
             "startlinecolor": "#2a3f5f"
            },
            "type": "carpet"
           }
          ],
          "choropleth": [
           {
            "colorbar": {
             "outlinewidth": 0,
             "ticks": ""
            },
            "type": "choropleth"
           }
          ],
          "contour": [
           {
            "colorbar": {
             "outlinewidth": 0,
             "ticks": ""
            },
            "colorscale": [
             [
              0,
              "#0d0887"
             ],
             [
              0.1111111111111111,
              "#46039f"
             ],
             [
              0.2222222222222222,
              "#7201a8"
             ],
             [
              0.3333333333333333,
              "#9c179e"
             ],
             [
              0.4444444444444444,
              "#bd3786"
             ],
             [
              0.5555555555555556,
              "#d8576b"
             ],
             [
              0.6666666666666666,
              "#ed7953"
             ],
             [
              0.7777777777777778,
              "#fb9f3a"
             ],
             [
              0.8888888888888888,
              "#fdca26"
             ],
             [
              1,
              "#f0f921"
             ]
            ],
            "type": "contour"
           }
          ],
          "contourcarpet": [
           {
            "colorbar": {
             "outlinewidth": 0,
             "ticks": ""
            },
            "type": "contourcarpet"
           }
          ],
          "heatmap": [
           {
            "colorbar": {
             "outlinewidth": 0,
             "ticks": ""
            },
            "colorscale": [
             [
              0,
              "#0d0887"
             ],
             [
              0.1111111111111111,
              "#46039f"
             ],
             [
              0.2222222222222222,
              "#7201a8"
             ],
             [
              0.3333333333333333,
              "#9c179e"
             ],
             [
              0.4444444444444444,
              "#bd3786"
             ],
             [
              0.5555555555555556,
              "#d8576b"
             ],
             [
              0.6666666666666666,
              "#ed7953"
             ],
             [
              0.7777777777777778,
              "#fb9f3a"
             ],
             [
              0.8888888888888888,
              "#fdca26"
             ],
             [
              1,
              "#f0f921"
             ]
            ],
            "type": "heatmap"
           }
          ],
          "histogram": [
           {
            "marker": {
             "pattern": {
              "fillmode": "overlay",
              "size": 10,
              "solidity": 0.2
             }
            },
            "type": "histogram"
           }
          ],
          "histogram2d": [
           {
            "colorbar": {
             "outlinewidth": 0,
             "ticks": ""
            },
            "colorscale": [
             [
              0,
              "#0d0887"
             ],
             [
              0.1111111111111111,
              "#46039f"
             ],
             [
              0.2222222222222222,
              "#7201a8"
             ],
             [
              0.3333333333333333,
              "#9c179e"
             ],
             [
              0.4444444444444444,
              "#bd3786"
             ],
             [
              0.5555555555555556,
              "#d8576b"
             ],
             [
              0.6666666666666666,
              "#ed7953"
             ],
             [
              0.7777777777777778,
              "#fb9f3a"
             ],
             [
              0.8888888888888888,
              "#fdca26"
             ],
             [
              1,
              "#f0f921"
             ]
            ],
            "type": "histogram2d"
           }
          ],
          "histogram2dcontour": [
           {
            "colorbar": {
             "outlinewidth": 0,
             "ticks": ""
            },
            "colorscale": [
             [
              0,
              "#0d0887"
             ],
             [
              0.1111111111111111,
              "#46039f"
             ],
             [
              0.2222222222222222,
              "#7201a8"
             ],
             [
              0.3333333333333333,
              "#9c179e"
             ],
             [
              0.4444444444444444,
              "#bd3786"
             ],
             [
              0.5555555555555556,
              "#d8576b"
             ],
             [
              0.6666666666666666,
              "#ed7953"
             ],
             [
              0.7777777777777778,
              "#fb9f3a"
             ],
             [
              0.8888888888888888,
              "#fdca26"
             ],
             [
              1,
              "#f0f921"
             ]
            ],
            "type": "histogram2dcontour"
           }
          ],
          "mesh3d": [
           {
            "colorbar": {
             "outlinewidth": 0,
             "ticks": ""
            },
            "type": "mesh3d"
           }
          ],
          "parcoords": [
           {
            "line": {
             "colorbar": {
              "outlinewidth": 0,
              "ticks": ""
             }
            },
            "type": "parcoords"
           }
          ],
          "pie": [
           {
            "automargin": true,
            "type": "pie"
           }
          ],
          "scatter": [
           {
            "fillpattern": {
             "fillmode": "overlay",
             "size": 10,
             "solidity": 0.2
            },
            "type": "scatter"
           }
          ],
          "scatter3d": [
           {
            "line": {
             "colorbar": {
              "outlinewidth": 0,
              "ticks": ""
             }
            },
            "marker": {
             "colorbar": {
              "outlinewidth": 0,
              "ticks": ""
             }
            },
            "type": "scatter3d"
           }
          ],
          "scattercarpet": [
           {
            "marker": {
             "colorbar": {
              "outlinewidth": 0,
              "ticks": ""
             }
            },
            "type": "scattercarpet"
           }
          ],
          "scattergeo": [
           {
            "marker": {
             "colorbar": {
              "outlinewidth": 0,
              "ticks": ""
             }
            },
            "type": "scattergeo"
           }
          ],
          "scattergl": [
           {
            "marker": {
             "colorbar": {
              "outlinewidth": 0,
              "ticks": ""
             }
            },
            "type": "scattergl"
           }
          ],
          "scattermap": [
           {
            "marker": {
             "colorbar": {
              "outlinewidth": 0,
              "ticks": ""
             }
            },
            "type": "scattermap"
           }
          ],
          "scattermapbox": [
           {
            "marker": {
             "colorbar": {
              "outlinewidth": 0,
              "ticks": ""
             }
            },
            "type": "scattermapbox"
           }
          ],
          "scatterpolar": [
           {
            "marker": {
             "colorbar": {
              "outlinewidth": 0,
              "ticks": ""
             }
            },
            "type": "scatterpolar"
           }
          ],
          "scatterpolargl": [
           {
            "marker": {
             "colorbar": {
              "outlinewidth": 0,
              "ticks": ""
             }
            },
            "type": "scatterpolargl"
           }
          ],
          "scatterternary": [
           {
            "marker": {
             "colorbar": {
              "outlinewidth": 0,
              "ticks": ""
             }
            },
            "type": "scatterternary"
           }
          ],
          "surface": [
           {
            "colorbar": {
             "outlinewidth": 0,
             "ticks": ""
            },
            "colorscale": [
             [
              0,
              "#0d0887"
             ],
             [
              0.1111111111111111,
              "#46039f"
             ],
             [
              0.2222222222222222,
              "#7201a8"
             ],
             [
              0.3333333333333333,
              "#9c179e"
             ],
             [
              0.4444444444444444,
              "#bd3786"
             ],
             [
              0.5555555555555556,
              "#d8576b"
             ],
             [
              0.6666666666666666,
              "#ed7953"
             ],
             [
              0.7777777777777778,
              "#fb9f3a"
             ],
             [
              0.8888888888888888,
              "#fdca26"
             ],
             [
              1,
              "#f0f921"
             ]
            ],
            "type": "surface"
           }
          ],
          "table": [
           {
            "cells": {
             "fill": {
              "color": "#EBF0F8"
             },
             "line": {
              "color": "white"
             }
            },
            "header": {
             "fill": {
              "color": "#C8D4E3"
             },
             "line": {
              "color": "white"
             }
            },
            "type": "table"
           }
          ]
         },
         "layout": {
          "annotationdefaults": {
           "arrowcolor": "#2a3f5f",
           "arrowhead": 0,
           "arrowwidth": 1
          },
          "autotypenumbers": "strict",
          "coloraxis": {
           "colorbar": {
            "outlinewidth": 0,
            "ticks": ""
           }
          },
          "colorscale": {
           "diverging": [
            [
             0,
             "#8e0152"
            ],
            [
             0.1,
             "#c51b7d"
            ],
            [
             0.2,
             "#de77ae"
            ],
            [
             0.3,
             "#f1b6da"
            ],
            [
             0.4,
             "#fde0ef"
            ],
            [
             0.5,
             "#f7f7f7"
            ],
            [
             0.6,
             "#e6f5d0"
            ],
            [
             0.7,
             "#b8e186"
            ],
            [
             0.8,
             "#7fbc41"
            ],
            [
             0.9,
             "#4d9221"
            ],
            [
             1,
             "#276419"
            ]
           ],
           "sequential": [
            [
             0,
             "#0d0887"
            ],
            [
             0.1111111111111111,
             "#46039f"
            ],
            [
             0.2222222222222222,
             "#7201a8"
            ],
            [
             0.3333333333333333,
             "#9c179e"
            ],
            [
             0.4444444444444444,
             "#bd3786"
            ],
            [
             0.5555555555555556,
             "#d8576b"
            ],
            [
             0.6666666666666666,
             "#ed7953"
            ],
            [
             0.7777777777777778,
             "#fb9f3a"
            ],
            [
             0.8888888888888888,
             "#fdca26"
            ],
            [
             1,
             "#f0f921"
            ]
           ],
           "sequentialminus": [
            [
             0,
             "#0d0887"
            ],
            [
             0.1111111111111111,
             "#46039f"
            ],
            [
             0.2222222222222222,
             "#7201a8"
            ],
            [
             0.3333333333333333,
             "#9c179e"
            ],
            [
             0.4444444444444444,
             "#bd3786"
            ],
            [
             0.5555555555555556,
             "#d8576b"
            ],
            [
             0.6666666666666666,
             "#ed7953"
            ],
            [
             0.7777777777777778,
             "#fb9f3a"
            ],
            [
             0.8888888888888888,
             "#fdca26"
            ],
            [
             1,
             "#f0f921"
            ]
           ]
          },
          "colorway": [
           "#636efa",
           "#EF553B",
           "#00cc96",
           "#ab63fa",
           "#FFA15A",
           "#19d3f3",
           "#FF6692",
           "#B6E880",
           "#FF97FF",
           "#FECB52"
          ],
          "font": {
           "color": "#2a3f5f"
          },
          "geo": {
           "bgcolor": "white",
           "lakecolor": "white",
           "landcolor": "#E5ECF6",
           "showlakes": true,
           "showland": true,
           "subunitcolor": "white"
          },
          "hoverlabel": {
           "align": "left"
          },
          "hovermode": "closest",
          "mapbox": {
           "style": "light"
          },
          "paper_bgcolor": "white",
          "plot_bgcolor": "#E5ECF6",
          "polar": {
           "angularaxis": {
            "gridcolor": "white",
            "linecolor": "white",
            "ticks": ""
           },
           "bgcolor": "#E5ECF6",
           "radialaxis": {
            "gridcolor": "white",
            "linecolor": "white",
            "ticks": ""
           }
          },
          "scene": {
           "xaxis": {
            "backgroundcolor": "#E5ECF6",
            "gridcolor": "white",
            "gridwidth": 2,
            "linecolor": "white",
            "showbackground": true,
            "ticks": "",
            "zerolinecolor": "white"
           },
           "yaxis": {
            "backgroundcolor": "#E5ECF6",
            "gridcolor": "white",
            "gridwidth": 2,
            "linecolor": "white",
            "showbackground": true,
            "ticks": "",
            "zerolinecolor": "white"
           },
           "zaxis": {
            "backgroundcolor": "#E5ECF6",
            "gridcolor": "white",
            "gridwidth": 2,
            "linecolor": "white",
            "showbackground": true,
            "ticks": "",
            "zerolinecolor": "white"
           }
          },
          "shapedefaults": {
           "line": {
            "color": "#2a3f5f"
           }
          },
          "ternary": {
           "aaxis": {
            "gridcolor": "white",
            "linecolor": "white",
            "ticks": ""
           },
           "baxis": {
            "gridcolor": "white",
            "linecolor": "white",
            "ticks": ""
           },
           "bgcolor": "#E5ECF6",
           "caxis": {
            "gridcolor": "white",
            "linecolor": "white",
            "ticks": ""
           }
          },
          "title": {
           "x": 0.05
          },
          "xaxis": {
           "automargin": true,
           "gridcolor": "white",
           "linecolor": "white",
           "ticks": "",
           "title": {
            "standoff": 15
           },
           "zerolinecolor": "white",
           "zerolinewidth": 2
          },
          "yaxis": {
           "automargin": true,
           "gridcolor": "white",
           "linecolor": "white",
           "ticks": "",
           "title": {
            "standoff": 15
           },
           "zerolinecolor": "white",
           "zerolinewidth": 2
          }
         }
        },
        "title": {
         "text": "Residuals vs OES Estimates by MSA-Occupation: Office and Administrative Support"
        },
        "width": 800,
        "xaxis": {
         "range": [
          -40000,
          60000
         ],
         "title": {
          "text": "OES Estimates"
         }
        },
        "yaxis": {
         "range": [
          -40000,
          60000
         ],
         "title": {
          "text": "Residuals"
         }
        }
       }
      }
     },
     "metadata": {},
     "output_type": "display_data"
    },
    {
     "name": "stdout",
     "output_type": "stream",
     "text": [
      "Overall R2:  0.4089739602457738\n"
     ]
    },
    {
     "data": {
      "application/vnd.plotly.v1+json": {
       "config": {
        "plotlyServerURL": "https://plot.ly"
       },
       "data": [
        {
         "marker": {
          "line": {
           "color": "DarkSlateGrey",
           "width": 1
          },
          "size": 5
         },
         "mode": "markers",
         "name": "Transportation and Material Moving",
         "type": "scatter",
         "x": {
          "bdata": "AAAAAAA6tsAAAAAAAFjBwAAAAAAASrDAAAAAAAC9wMAAAAAAAHC3wAAAAAAAgJHAAAAAAACWtMAAAAAAAACOQAAAAAAAfrPAAAAAAABAcMAAAAAAADa1wAAAAAAA4H/AAAAAAAAStsAAAAAAAEPCwAAAAAAARLbAqKqqqqp+ucAAAAAAAJCFQAAAAAAALK9AAAAAAADAbMAAAAAAAFS/wAAAAAAA9L/AAAAAAADAssAAAAAAAOK4wAAAAAAACJbAAAAAAACKtsAAAAAAAF6wwAAAAAAAoJTAAAAAAADAksAAAAAAAABOQAAAAAAACKvAAAAAAACSs8AAAAAAAPSgwAAAAAAAlLHAAAAAAACokUAAAAAAANq2wAAAAAAAmJLAAAAAAADol0AAAAAAAKKywAAAAAAAQKrAAAAAAADStMAAAAAAADawwAAAAAAAcKLAAAAAAAAQqMAAAAAAAAAAAAAAAAAAwLzAAAAAAADwqcAAAAAAAFynwAAAAAAA0IbAAAAAAAAWt8AAAAAAACylwAAAAAAA6rpAAAAAAAAomUAAAAAAACvBQAAAAAAAbLvAAAAAAAD2uMAAAAAAANizwAAAAAAApMBAAAAAAAA+ssAAAAAAAGB9QAAAAAAAgrTA",
          "dtype": "f8"
         },
         "y": {
          "bdata": "AAAAAAA+sMAAAAAAAGCswAAAAAAA6J/AAAAAAABUqMAAAAAAAHqiwAAAAAAALJ7AAAAAAACyrsAAAAAAACCOQAAAAAAA4qPAAAAAAADAr8AAAAAAALqowAAAAAAAMI7AAAAAAABap8AAAAAAAAaqwAAAAAAAGqTAAAAAAADGpMAAAAAAACKhwAAAAAAAlIvAAAAAAAA4pMAAAAAAAJqrwAAAAAAAU7PAAAAAAACwl8AAAAAAAISwwAAAAAAAQKTAAAAAAADqqMAAAAAAAMipwAAAAAAAwqfAq6qqqqrKYEAAAAAAADyqwAAAAAAAhqDAAAAAAACsrsAAAAAAAK2lwAAAAAAA8KLAAAAAAACkk8AAAAAAAIakwAAAAAAACKrAAAAAAAA4nkAAAAAAAFStwAAAAAAA9KjAAAAAAACTsMAAAAAAAFyZwAAAAAAAwKHAAAAAAABeqMAAAAAAAAAAAAAAAAAAMqrAAAAAAAAUk8AAAAAAAGCGwAAAAAAADKXAAAAAAADOq8AAAAAAAEBfwAAAAAAAhrFAAAAAAACPsUAAAAAAALqgQAAAAAAAnqzAAAAAAACMp8AAAAAAAEaxwAAAAAAAiJPAAAAAAACQrcAAAAAAAECPQAAAAAAANrLA",
          "dtype": "f8"
         }
        },
        {
         "line": {
          "color": "red",
          "width": 2
         },
         "mode": "lines",
         "name": "Line of Equality",
         "type": "scatter",
         "x": {
          "bdata": "AAAAAACI48DzdobEvAnjwObtDIl5i+LA2WSTTTYN4sDM2xkS847hwL9SoNavEOHAsskmm2yS4MCmQK1fKRTgwDFvZ0jMK9/AGF100UUv3sD+SoFavzLdwOQ4juM4NtzAyiabbLI528CwFKj1Kz3awJYCtX6lQNnAfPDBBx9E2MBi3s6QmEfXwEnM2xkSS9bAL7roootO1cAVqPUrBVLUwPuVArV+VdPA4YMPPvhY0sDHcRzHcVzRwK5fKVDrX9DAKJtsssnGzsD0dobEvM3MwMBSoNav1MrAjC666KLbyMBYCtT6leLGwCbm7QyJ6cTA8sEHH3zwwsC+nSExb/fAwBTzdobE/L3AsKqqqqoKusBIYt7OkBi2wOAZEvN2JrLA8KKLLrporMAgEvN2hoSkwKACtX6lQJnAAMIHH3zwgsCAArV+pUB5QEBi3s6QGJZA8MEHH3zwokDAUqDWr9SqQMhxHMdxXLFAKLroootOtUCQArV+pUC5QPhKgVq/Mr1AsMkmm2ySwEDk7QyJeYvCQBgS83aGhMRATDbZZJN9xkCAWr9SoHbIQLR+pUCtb8pA6KKLLrpozEAcx3Ecx2HOQKj1KwVqLdBAwgcffPAp0UDaGRLzdibSQPQrBWr9ItNADj744IMf1EAoUOtXChzVQEJi3s6QGNZAXHTRRRcV10B2hsS8nRHYQJCYtzMkDtlAqKqqqqoK2kDEvJ0hMQfbQNzOkJi3A9xA+OCDDz4A3UAQ83aGxPzdQCwFav1K+d5ARBdddNH130CwFKj1K3ngQLydITFv9+BAyiabbLJ14UDWrxSo9fPhQOI4juM4cuJA8MEHH3zw4kD8SoFav27jQArU+pUC7eNAFl100UVr5EAk5u0MienkQDBvZ0jMZ+VAPvjggw/m5UBKgVq/UmTmQFgK1PqV4uZAZJNNNtlg50ByHMdxHN/nQH6lQK1fXehAii666KLb6ECYtzMk5lnpQKRArV8p2OlAsskmm2xW6kC+UqDWr9TqQMzbGRLzUutA2GSTTTbR60Dm7QyJeU/sQPJ2hsS8zexAAAAAAABM7UA=",
          "dtype": "f8"
         },
         "y": {
          "bdata": "AAAAAACI48DzdobEvAnjwObtDIl5i+LA2WSTTTYN4sDM2xkS847hwL9SoNavEOHAsskmm2yS4MCmQK1fKRTgwDFvZ0jMK9/AGF100UUv3sD+SoFavzLdwOQ4juM4NtzAyiabbLI528CwFKj1Kz3awJYCtX6lQNnAfPDBBx9E2MBi3s6QmEfXwEnM2xkSS9bAL7roootO1cAVqPUrBVLUwPuVArV+VdPA4YMPPvhY0sDHcRzHcVzRwK5fKVDrX9DAKJtsssnGzsD0dobEvM3MwMBSoNav1MrAjC666KLbyMBYCtT6leLGwCbm7QyJ6cTA8sEHH3zwwsC+nSExb/fAwBTzdobE/L3AsKqqqqoKusBIYt7OkBi2wOAZEvN2JrLA8KKLLrporMAgEvN2hoSkwKACtX6lQJnAAMIHH3zwgsCAArV+pUB5QEBi3s6QGJZA8MEHH3zwokDAUqDWr9SqQMhxHMdxXLFAKLroootOtUCQArV+pUC5QPhKgVq/Mr1AsMkmm2ySwEDk7QyJeYvCQBgS83aGhMRATDbZZJN9xkCAWr9SoHbIQLR+pUCtb8pA6KKLLrpozEAcx3Ecx2HOQKj1KwVqLdBAwgcffPAp0UDaGRLzdibSQPQrBWr9ItNADj744IMf1EAoUOtXChzVQEJi3s6QGNZAXHTRRRcV10B2hsS8nRHYQJCYtzMkDtlAqKqqqqoK2kDEvJ0hMQfbQNzOkJi3A9xA+OCDDz4A3UAQ83aGxPzdQCwFav1K+d5ARBdddNH130CwFKj1K3ngQLydITFv9+BAyiabbLJ14UDWrxSo9fPhQOI4juM4cuJA8MEHH3zw4kD8SoFav27jQArU+pUC7eNAFl100UVr5EAk5u0MienkQDBvZ0jMZ+VAPvjggw/m5UBKgVq/UmTmQFgK1PqV4uZAZJNNNtlg50ByHMdxHN/nQH6lQK1fXehAii666KLb6ECYtzMk5lnpQKRArV8p2OlAsskmm2xW6kC+UqDWr9TqQMzbGRLzUutA2GSTTTbR60Dm7QyJeU/sQPJ2hsS8zexAAAAAAABM7UA=",
          "dtype": "f8"
         }
        }
       ],
       "layout": {
        "annotations": [
         {
          "font": {
           "size": 16
          },
          "showarrow": false,
          "text": "Overall R2: 0.41",
          "x": 0.1,
          "xref": "paper",
          "y": 0.95,
          "yref": "paper"
         }
        ],
        "height": 600,
        "legend": {
         "title": {
          "text": "Occupation"
         }
        },
        "template": {
         "data": {
          "bar": [
           {
            "error_x": {
             "color": "#2a3f5f"
            },
            "error_y": {
             "color": "#2a3f5f"
            },
            "marker": {
             "line": {
              "color": "#E5ECF6",
              "width": 0.5
             },
             "pattern": {
              "fillmode": "overlay",
              "size": 10,
              "solidity": 0.2
             }
            },
            "type": "bar"
           }
          ],
          "barpolar": [
           {
            "marker": {
             "line": {
              "color": "#E5ECF6",
              "width": 0.5
             },
             "pattern": {
              "fillmode": "overlay",
              "size": 10,
              "solidity": 0.2
             }
            },
            "type": "barpolar"
           }
          ],
          "carpet": [
           {
            "aaxis": {
             "endlinecolor": "#2a3f5f",
             "gridcolor": "white",
             "linecolor": "white",
             "minorgridcolor": "white",
             "startlinecolor": "#2a3f5f"
            },
            "baxis": {
             "endlinecolor": "#2a3f5f",
             "gridcolor": "white",
             "linecolor": "white",
             "minorgridcolor": "white",
             "startlinecolor": "#2a3f5f"
            },
            "type": "carpet"
           }
          ],
          "choropleth": [
           {
            "colorbar": {
             "outlinewidth": 0,
             "ticks": ""
            },
            "type": "choropleth"
           }
          ],
          "contour": [
           {
            "colorbar": {
             "outlinewidth": 0,
             "ticks": ""
            },
            "colorscale": [
             [
              0,
              "#0d0887"
             ],
             [
              0.1111111111111111,
              "#46039f"
             ],
             [
              0.2222222222222222,
              "#7201a8"
             ],
             [
              0.3333333333333333,
              "#9c179e"
             ],
             [
              0.4444444444444444,
              "#bd3786"
             ],
             [
              0.5555555555555556,
              "#d8576b"
             ],
             [
              0.6666666666666666,
              "#ed7953"
             ],
             [
              0.7777777777777778,
              "#fb9f3a"
             ],
             [
              0.8888888888888888,
              "#fdca26"
             ],
             [
              1,
              "#f0f921"
             ]
            ],
            "type": "contour"
           }
          ],
          "contourcarpet": [
           {
            "colorbar": {
             "outlinewidth": 0,
             "ticks": ""
            },
            "type": "contourcarpet"
           }
          ],
          "heatmap": [
           {
            "colorbar": {
             "outlinewidth": 0,
             "ticks": ""
            },
            "colorscale": [
             [
              0,
              "#0d0887"
             ],
             [
              0.1111111111111111,
              "#46039f"
             ],
             [
              0.2222222222222222,
              "#7201a8"
             ],
             [
              0.3333333333333333,
              "#9c179e"
             ],
             [
              0.4444444444444444,
              "#bd3786"
             ],
             [
              0.5555555555555556,
              "#d8576b"
             ],
             [
              0.6666666666666666,
              "#ed7953"
             ],
             [
              0.7777777777777778,
              "#fb9f3a"
             ],
             [
              0.8888888888888888,
              "#fdca26"
             ],
             [
              1,
              "#f0f921"
             ]
            ],
            "type": "heatmap"
           }
          ],
          "histogram": [
           {
            "marker": {
             "pattern": {
              "fillmode": "overlay",
              "size": 10,
              "solidity": 0.2
             }
            },
            "type": "histogram"
           }
          ],
          "histogram2d": [
           {
            "colorbar": {
             "outlinewidth": 0,
             "ticks": ""
            },
            "colorscale": [
             [
              0,
              "#0d0887"
             ],
             [
              0.1111111111111111,
              "#46039f"
             ],
             [
              0.2222222222222222,
              "#7201a8"
             ],
             [
              0.3333333333333333,
              "#9c179e"
             ],
             [
              0.4444444444444444,
              "#bd3786"
             ],
             [
              0.5555555555555556,
              "#d8576b"
             ],
             [
              0.6666666666666666,
              "#ed7953"
             ],
             [
              0.7777777777777778,
              "#fb9f3a"
             ],
             [
              0.8888888888888888,
              "#fdca26"
             ],
             [
              1,
              "#f0f921"
             ]
            ],
            "type": "histogram2d"
           }
          ],
          "histogram2dcontour": [
           {
            "colorbar": {
             "outlinewidth": 0,
             "ticks": ""
            },
            "colorscale": [
             [
              0,
              "#0d0887"
             ],
             [
              0.1111111111111111,
              "#46039f"
             ],
             [
              0.2222222222222222,
              "#7201a8"
             ],
             [
              0.3333333333333333,
              "#9c179e"
             ],
             [
              0.4444444444444444,
              "#bd3786"
             ],
             [
              0.5555555555555556,
              "#d8576b"
             ],
             [
              0.6666666666666666,
              "#ed7953"
             ],
             [
              0.7777777777777778,
              "#fb9f3a"
             ],
             [
              0.8888888888888888,
              "#fdca26"
             ],
             [
              1,
              "#f0f921"
             ]
            ],
            "type": "histogram2dcontour"
           }
          ],
          "mesh3d": [
           {
            "colorbar": {
             "outlinewidth": 0,
             "ticks": ""
            },
            "type": "mesh3d"
           }
          ],
          "parcoords": [
           {
            "line": {
             "colorbar": {
              "outlinewidth": 0,
              "ticks": ""
             }
            },
            "type": "parcoords"
           }
          ],
          "pie": [
           {
            "automargin": true,
            "type": "pie"
           }
          ],
          "scatter": [
           {
            "fillpattern": {
             "fillmode": "overlay",
             "size": 10,
             "solidity": 0.2
            },
            "type": "scatter"
           }
          ],
          "scatter3d": [
           {
            "line": {
             "colorbar": {
              "outlinewidth": 0,
              "ticks": ""
             }
            },
            "marker": {
             "colorbar": {
              "outlinewidth": 0,
              "ticks": ""
             }
            },
            "type": "scatter3d"
           }
          ],
          "scattercarpet": [
           {
            "marker": {
             "colorbar": {
              "outlinewidth": 0,
              "ticks": ""
             }
            },
            "type": "scattercarpet"
           }
          ],
          "scattergeo": [
           {
            "marker": {
             "colorbar": {
              "outlinewidth": 0,
              "ticks": ""
             }
            },
            "type": "scattergeo"
           }
          ],
          "scattergl": [
           {
            "marker": {
             "colorbar": {
              "outlinewidth": 0,
              "ticks": ""
             }
            },
            "type": "scattergl"
           }
          ],
          "scattermap": [
           {
            "marker": {
             "colorbar": {
              "outlinewidth": 0,
              "ticks": ""
             }
            },
            "type": "scattermap"
           }
          ],
          "scattermapbox": [
           {
            "marker": {
             "colorbar": {
              "outlinewidth": 0,
              "ticks": ""
             }
            },
            "type": "scattermapbox"
           }
          ],
          "scatterpolar": [
           {
            "marker": {
             "colorbar": {
              "outlinewidth": 0,
              "ticks": ""
             }
            },
            "type": "scatterpolar"
           }
          ],
          "scatterpolargl": [
           {
            "marker": {
             "colorbar": {
              "outlinewidth": 0,
              "ticks": ""
             }
            },
            "type": "scatterpolargl"
           }
          ],
          "scatterternary": [
           {
            "marker": {
             "colorbar": {
              "outlinewidth": 0,
              "ticks": ""
             }
            },
            "type": "scatterternary"
           }
          ],
          "surface": [
           {
            "colorbar": {
             "outlinewidth": 0,
             "ticks": ""
            },
            "colorscale": [
             [
              0,
              "#0d0887"
             ],
             [
              0.1111111111111111,
              "#46039f"
             ],
             [
              0.2222222222222222,
              "#7201a8"
             ],
             [
              0.3333333333333333,
              "#9c179e"
             ],
             [
              0.4444444444444444,
              "#bd3786"
             ],
             [
              0.5555555555555556,
              "#d8576b"
             ],
             [
              0.6666666666666666,
              "#ed7953"
             ],
             [
              0.7777777777777778,
              "#fb9f3a"
             ],
             [
              0.8888888888888888,
              "#fdca26"
             ],
             [
              1,
              "#f0f921"
             ]
            ],
            "type": "surface"
           }
          ],
          "table": [
           {
            "cells": {
             "fill": {
              "color": "#EBF0F8"
             },
             "line": {
              "color": "white"
             }
            },
            "header": {
             "fill": {
              "color": "#C8D4E3"
             },
             "line": {
              "color": "white"
             }
            },
            "type": "table"
           }
          ]
         },
         "layout": {
          "annotationdefaults": {
           "arrowcolor": "#2a3f5f",
           "arrowhead": 0,
           "arrowwidth": 1
          },
          "autotypenumbers": "strict",
          "coloraxis": {
           "colorbar": {
            "outlinewidth": 0,
            "ticks": ""
           }
          },
          "colorscale": {
           "diverging": [
            [
             0,
             "#8e0152"
            ],
            [
             0.1,
             "#c51b7d"
            ],
            [
             0.2,
             "#de77ae"
            ],
            [
             0.3,
             "#f1b6da"
            ],
            [
             0.4,
             "#fde0ef"
            ],
            [
             0.5,
             "#f7f7f7"
            ],
            [
             0.6,
             "#e6f5d0"
            ],
            [
             0.7,
             "#b8e186"
            ],
            [
             0.8,
             "#7fbc41"
            ],
            [
             0.9,
             "#4d9221"
            ],
            [
             1,
             "#276419"
            ]
           ],
           "sequential": [
            [
             0,
             "#0d0887"
            ],
            [
             0.1111111111111111,
             "#46039f"
            ],
            [
             0.2222222222222222,
             "#7201a8"
            ],
            [
             0.3333333333333333,
             "#9c179e"
            ],
            [
             0.4444444444444444,
             "#bd3786"
            ],
            [
             0.5555555555555556,
             "#d8576b"
            ],
            [
             0.6666666666666666,
             "#ed7953"
            ],
            [
             0.7777777777777778,
             "#fb9f3a"
            ],
            [
             0.8888888888888888,
             "#fdca26"
            ],
            [
             1,
             "#f0f921"
            ]
           ],
           "sequentialminus": [
            [
             0,
             "#0d0887"
            ],
            [
             0.1111111111111111,
             "#46039f"
            ],
            [
             0.2222222222222222,
             "#7201a8"
            ],
            [
             0.3333333333333333,
             "#9c179e"
            ],
            [
             0.4444444444444444,
             "#bd3786"
            ],
            [
             0.5555555555555556,
             "#d8576b"
            ],
            [
             0.6666666666666666,
             "#ed7953"
            ],
            [
             0.7777777777777778,
             "#fb9f3a"
            ],
            [
             0.8888888888888888,
             "#fdca26"
            ],
            [
             1,
             "#f0f921"
            ]
           ]
          },
          "colorway": [
           "#636efa",
           "#EF553B",
           "#00cc96",
           "#ab63fa",
           "#FFA15A",
           "#19d3f3",
           "#FF6692",
           "#B6E880",
           "#FF97FF",
           "#FECB52"
          ],
          "font": {
           "color": "#2a3f5f"
          },
          "geo": {
           "bgcolor": "white",
           "lakecolor": "white",
           "landcolor": "#E5ECF6",
           "showlakes": true,
           "showland": true,
           "subunitcolor": "white"
          },
          "hoverlabel": {
           "align": "left"
          },
          "hovermode": "closest",
          "mapbox": {
           "style": "light"
          },
          "paper_bgcolor": "white",
          "plot_bgcolor": "#E5ECF6",
          "polar": {
           "angularaxis": {
            "gridcolor": "white",
            "linecolor": "white",
            "ticks": ""
           },
           "bgcolor": "#E5ECF6",
           "radialaxis": {
            "gridcolor": "white",
            "linecolor": "white",
            "ticks": ""
           }
          },
          "scene": {
           "xaxis": {
            "backgroundcolor": "#E5ECF6",
            "gridcolor": "white",
            "gridwidth": 2,
            "linecolor": "white",
            "showbackground": true,
            "ticks": "",
            "zerolinecolor": "white"
           },
           "yaxis": {
            "backgroundcolor": "#E5ECF6",
            "gridcolor": "white",
            "gridwidth": 2,
            "linecolor": "white",
            "showbackground": true,
            "ticks": "",
            "zerolinecolor": "white"
           },
           "zaxis": {
            "backgroundcolor": "#E5ECF6",
            "gridcolor": "white",
            "gridwidth": 2,
            "linecolor": "white",
            "showbackground": true,
            "ticks": "",
            "zerolinecolor": "white"
           }
          },
          "shapedefaults": {
           "line": {
            "color": "#2a3f5f"
           }
          },
          "ternary": {
           "aaxis": {
            "gridcolor": "white",
            "linecolor": "white",
            "ticks": ""
           },
           "baxis": {
            "gridcolor": "white",
            "linecolor": "white",
            "ticks": ""
           },
           "bgcolor": "#E5ECF6",
           "caxis": {
            "gridcolor": "white",
            "linecolor": "white",
            "ticks": ""
           }
          },
          "title": {
           "x": 0.05
          },
          "xaxis": {
           "automargin": true,
           "gridcolor": "white",
           "linecolor": "white",
           "ticks": "",
           "title": {
            "standoff": 15
           },
           "zerolinecolor": "white",
           "zerolinewidth": 2
          },
          "yaxis": {
           "automargin": true,
           "gridcolor": "white",
           "linecolor": "white",
           "ticks": "",
           "title": {
            "standoff": 15
           },
           "zerolinecolor": "white",
           "zerolinewidth": 2
          }
         }
        },
        "title": {
         "text": "Residuals vs OES Estimates by MSA-Occupation: Transportation and Material Moving"
        },
        "width": 800,
        "xaxis": {
         "range": [
          -40000,
          60000
         ],
         "title": {
          "text": "OES Estimates"
         }
        },
        "yaxis": {
         "range": [
          -40000,
          60000
         ],
         "title": {
          "text": "Residuals"
         }
        }
       }
      }
     },
     "metadata": {},
     "output_type": "display_data"
    }
   ],
   "source": [
    "# show scatter plots for each occupation with a linear regression line\n",
    "for occ in cmb_df2[\"occ_title\"].unique():\n",
    "    fig = go.Figure()\n",
    "    fig.add_trace(\n",
    "        go.Scatter(\n",
    "            x = cmb_df2[cmb_df2[\"occ_title\"] == occ][\"oes_est\"],\n",
    "            y = cmb_df2[cmb_df2[\"occ_title\"] == occ][\"residuals\"],\n",
    "            mode = \"markers\",\n",
    "            name = occ,\n",
    "            marker=dict(size=5),\n",
    "        )\n",
    "    )\n",
    "    fig.update_layout(\n",
    "        title=f\"Residuals vs OES Estimates by MSA-Occupation: {occ}\",\n",
    "        xaxis_title=\"OES Estimates\",\n",
    "        yaxis_title=\"Residuals\",\n",
    "        legend_title_text=\"Occupation\",\n",
    "        width=800,\n",
    "        height=600,\n",
    "        xaxis_range=[-40_000, 60_000],\n",
    "        yaxis_range=[-40_000, 60_000]\n",
    "    )\n",
    "    fig.update_traces(marker=dict(line=dict(width=1, color='DarkSlateGrey')))\n",
    "    r2 = r2_score(cmb_df2[cmb_df2[\"occ_title\"] == occ][\"oes_est\"], cmb_df2[cmb_df2[\"occ_title\"] == occ][\"residuals\"])\n",
    "    print(\"Overall R2: \", r2)\n",
    "    fig.add_annotation(\n",
    "        xref=\"paper\", yref=\"paper\",\n",
    "        x=0.1, y=0.95,\n",
    "        text=f\"Overall R2: {r2:.2f}\",\n",
    "        showarrow=False,\n",
    "        font=dict(size=16)\n",
    "    )\n",
    "\n",
    "    # create diagonal line of equality\n",
    "    x_vals = np.linspace(-40_000, 60_000, 100)\n",
    "    y_vals = x_vals\n",
    "    fig.add_trace(\n",
    "        go.Scatter(\n",
    "            x=x_vals,\n",
    "            y=y_vals,\n",
    "            mode=\"lines\",\n",
    "            name=\"Line of Equality\",\n",
    "            line=dict(color=\"red\", width=2),\n",
    "        )\n",
    "    )\n",
    "\n",
    "    fig.show()"
   ]
  }
 ],
 "metadata": {
  "kernelspec": {
   "display_name": ".venv",
   "language": "python",
   "name": "python3"
  },
  "language_info": {
   "codemirror_mode": {
    "name": "ipython",
    "version": 3
   },
   "file_extension": ".py",
   "mimetype": "text/x-python",
   "name": "python",
   "nbconvert_exporter": "python",
   "pygments_lexer": "ipython3",
   "version": "3.11.6"
  }
 },
 "nbformat": 4,
 "nbformat_minor": 5
}
